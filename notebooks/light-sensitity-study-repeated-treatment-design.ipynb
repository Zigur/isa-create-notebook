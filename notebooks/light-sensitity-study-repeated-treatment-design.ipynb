{
 "cells": [
  {
   "cell_type": "markdown",
   "metadata": {},
   "source": [
    "# Report a Light Sensitivity Experiment: a repeated treatment design with ISA descriptor\n",
    "\n",
    "This example creates `ISA study descriptor` for study with sequential treatments organized in an arm. This shows how to use objects from the `isatools.create` component in a granular fashion. It creates each `Element` of the Study `Arm` at a time.\n",
    "Finally, the `study design plan` is shown by serializing the `ISA Study Design Model` content as an  `ISA_design` JSON document, which can be rendered in various ways (tables, figures)."
   ]
  },
  {
   "cell_type": "markdown",
   "metadata": {},
   "source": [
    "## Study metadata"
   ]
  },
  {
   "cell_type": "code",
   "execution_count": 147,
   "metadata": {
    "scrolled": true
   },
   "outputs": [],
   "source": [
    "from ipywidgets import (RadioButtons, VBox, HBox, Layout, Label,Text, Textarea, DatePicker, Checkbox, Text, IntSlider)\n",
    "from qgrid import show_grid\n",
    "label_layout = Layout(width='100%')\n",
    "import qgrid\n",
    "import datetime\n",
    "from isatools.model import *\n"
   ]
  },
  {
   "cell_type": "code",
   "execution_count": 148,
   "metadata": {
    "scrolled": false
   },
   "outputs": [
    {
     "data": {
      "application/vnd.jupyter.widget-view+json": {
       "model_id": "ba4072eb07bd408cb9329b23b526188c",
       "version_major": 2,
       "version_minor": 0
      },
      "text/plain": [
       "VBox(children=(Text(value='elifesprint2019-1', description='Identifier: S-Xover-1', placeholder='e.g. S-Xover1…"
      ]
     },
     "metadata": {},
     "output_type": "display_data"
    }
   ],
   "source": [
    "identifier = Text(\n",
    "        value='elifesprint2019-1',\n",
    "        placeholder='e.g. S-Xover1',\n",
    "        description='Identifier: S-Xover-1',\n",
    "        disabled=False\n",
    "    )\n",
    "title = Text(\n",
    "        value='elifesprint2019-1: light sensit',\n",
    "        placeholder=\"Light sensitivity study by Manual Spitschan's lab\" ,\n",
    "        description='Description',\n",
    "        disabled=False\n",
    "    )\n",
    "description = Textarea(\n",
    "    value=\"a study about light sensitivity difference between a control population (n=10) and a genotype A population (n=10).\",\n",
    "    placeholder='e.g. your study description',\n",
    "    description='Description:',\n",
    "    disabled=False\n",
    ")\n",
    "sub_date = DatePicker(description=\"Submission date:\", value=datetime.datetime.today(), disabled=False)\n",
    "release_date = DatePicker(description=\"Public release date:\", value=datetime.datetime.today(), disabled=False)\n",
    "VBox([identifier,\n",
    "      title,\n",
    "      description,\n",
    "      sub_date,\n",
    "      release_date])"
   ]
  },
  {
   "cell_type": "code",
   "execution_count": 149,
   "metadata": {
    "scrolled": true
   },
   "outputs": [
    {
     "data": {
      "text/plain": [
       "isatools.model.Investigation(identifier='', filename='', title='', submission_date='', public_release_date='', ontology_source_references=[], publications=[], contacts=[], studies=[isatools.model.Study(filename='s_study_xover.txt', identifier='elifesprint2019-1', title='elifesprint2019-1: light sensit', description='a study about light sensitivity difference between a control population (n=10) and a genotype A population (n=10).', submission_date='2019-11-15 17:02:11.619603', public_release_date='2019-11-15 17:02:11.625203', contacts=[], design_descriptors=[], publications=[], factors=[], protocols=[isatools.model.Protocol(name='sample collection', protocol_type=isatools.model.OntologyAnnotation(term='', term_source=None, term_accession='', comments=[]), uri='', version='', parameters=[], components=[], comments=[])], assays=[], sources=[isatools.model.Source(name='source1', characteristics=[], comments=[])], samples=[isatools.model.Sample(name='sample1', characteristics=[], factor_values=[], derives_from=[], comments=[])], process_sequence=[isatools.model.Process(name=\"\", executes_protocol=Protocol(\n",
       "    name=sample collection\n",
       "    protocol_type=\n",
       "    uri=\n",
       "    version=\n",
       "    parameters=0 ProtocolParameter objects\n",
       "    components=0 OntologyAnnotation objects\n",
       "    comments=0 Comment objects\n",
       "), date=\"None\", performer=\"None\", inputs=[isatools.model.Source(name='source1', characteristics=[], comments=[])], outputs=[isatools.model.Sample(name='sample1', characteristics=[], factor_values=[], derives_from=[], comments=[])])], other_material=[], characteristic_categories=[], comments=[], units=[])], comments=[])"
      ]
     },
     "execution_count": 149,
     "metadata": {},
     "output_type": "execute_result"
    }
   ],
   "source": [
    "investigation = Investigation()\n",
    "investigation1 = Investigation() # to be used with the study create function\n",
    "study = Study(filename=\"s_study_xover.txt\")\n",
    "study.identifier = identifier.value\n",
    "study.title = title.value\n",
    "study.description = description.value\n",
    "study.submission_date = str(sub_date.value)\n",
    "study.public_release_date = str(release_date.value)\n",
    "study.sources = [Source(name=\"source1\")]\n",
    "study.samples = [Sample(name=\"sample1\")]\n",
    "study.protocols = [Protocol(name=\"sample collection\")]\n",
    "study.process_sequence = [Process(executes_protocol=study.protocols[-1], inputs=[study.sources[-1]], outputs=[study.samples[-1]])]\n",
    "investigation.studies = [study]\n",
    "investigation"
   ]
  },
  {
   "cell_type": "code",
   "execution_count": 150,
   "metadata": {
    "scrolled": true
   },
   "outputs": [],
   "source": [
    "# from isatools.isatab import dumps\n",
    "# print(dump(investigation))"
   ]
  },
  {
   "cell_type": "code",
   "execution_count": 151,
   "metadata": {
    "scrolled": true
   },
   "outputs": [],
   "source": [
    "import json\n",
    "from isatools.isajson import ISAJSONEncoder\n",
    "# print(json.dumps(investigation, cls=ISAJSONEncoder, sort_keys=True, indent=4, separators=(',', ': ')))"
   ]
  },
  {
   "cell_type": "code",
   "execution_count": 152,
   "metadata": {
    "scrolled": true
   },
   "outputs": [],
   "source": [
    "from isatools.create.models import * \n"
   ]
  },
  {
   "cell_type": "markdown",
   "metadata": {},
   "source": [
    "Study design type\n",
    "Please specify if the study is an intervention or an observation."
   ]
  },
  {
   "cell_type": "code",
   "execution_count": 153,
   "metadata": {
    "scrolled": false
   },
   "outputs": [],
   "source": [
    "# rad_study_design = RadioButtons(options=['Intervention', 'Observation'], value='Intervention', disabled=False)\n",
    "# VBox([Label('Study design type?', layout=label_layout), rad_study_design])"
   ]
  },
  {
   "cell_type": "markdown",
   "metadata": {},
   "source": [
    "### Intervention study\n",
    "\n",
    "If specifying an intervention study, please answer the following:\n",
    " - Are study subjects exposed to a single intervention or to multiple intervention?\n",
    " \n",
    "*Note: if you chose 'observation' as the study design type, the following choices will be disabled and you should skip to the Observation study section*"
   ]
  },
  {
   "cell_type": "code",
   "execution_count": 154,
   "metadata": {
    "scrolled": false
   },
   "outputs": [],
   "source": [
    "# if rad_study_design.value == 'Intervention':\n",
    "#     study_design = StudyDesign() #WARNING: this call only works fro isatools >= 0.9.5\n",
    "# if rad_study_design.value == 'Observation':\n",
    "#     study_design = None\n",
    "# intervention_ui_disabled = not isinstance(study_design, StudyDesign)\n",
    "# intervention_type = RadioButtons(options=['single', 'multiple'], value='multiple', disabled=intervention_ui_disabled)\n",
    "# intervention_type_vbox = VBox([Label('Single intervention or to multiple intervention?', layout=label_layout), intervention_type])\n",
    "# #free_or_restricted_design = RadioButtons(options=['yes', 'no'], value='no', disabled=intervention_ui_disabled)\n",
    "# #free_or_restricted_design_vbox = VBox([Label(\"Are there 'hard to change' factors?\", layout=label_layout), free_or_restricted_design])\n",
    "# HBox([intervention_type_vbox])"
   ]
  },
  {
   "cell_type": "markdown",
   "metadata": {},
   "source": [
    "How Many Interventions ?"
   ]
  },
  {
   "cell_type": "markdown",
   "metadata": {},
   "source": [
    "#### Factorial design - intervention types\n",
    "\n",
    "If specifying an factorial design, please list the intervention types here."
   ]
  },
  {
   "cell_type": "code",
   "execution_count": 155,
   "metadata": {
    "scrolled": false
   },
   "outputs": [],
   "source": [
    "# factorial_design_ui_disabled = False\n",
    "# chemical_intervention = Checkbox(value=False, description='Chemical intervention', disabled=factorial_design_ui_disabled)\n",
    "# behavioural_intervention = Checkbox(value=False, description='Behavioural intervention', disabled=factorial_design_ui_disabled)\n",
    "# surgical_intervention = Checkbox(value=False, description='Surgical intervention', disabled=factorial_design_ui_disabled)\n",
    "# biological_intervention = Checkbox(value=False, description='Biological intervention', disabled=factorial_design_ui_disabled)\n",
    "# radiological_intervention = Checkbox(value=True, description='Radiological intervention', disabled=factorial_design_ui_disabled)\n",
    "# VBox([chemical_intervention,behavioural_intervention, surgical_intervention, biological_intervention, radiological_intervention])"
   ]
  },
  {
   "cell_type": "code",
   "execution_count": 156,
   "metadata": {
    "scrolled": false
   },
   "outputs": [],
   "source": [
    "# level_uis_1 = []\n",
    "# if radiological_intervention:\n",
    "#     agent_levels1 = Text(\n",
    "#         value='light',\n",
    "#         placeholder='light source LS1, light source LS2',\n",
    "#         description='Agent:',\n",
    "#         disabled=False\n",
    "#     )\n",
    "#     dose_levels1 = Text(\n",
    "#         value='250 lux, 500 lux',\n",
    "#         placeholder='e.g. low, high',\n",
    "#         description='Dose levels:',\n",
    "#         disabled=False\n",
    "#     )\n",
    "#     duration_of_exposure_levels1 = Text(\n",
    "#         value='1 hr',\n",
    "#         placeholder='e.g. short, long',\n",
    "#         description='Duration of exposure:',\n",
    "#         disabled=False\n",
    "#     )\n",
    "# vb1= VBox([Label(\"Physical intervention factor levels:\", layout=label_layout), agent_levels1, dose_levels1, duration_of_exposure_levels1])\n",
    "\n",
    "# HBox([vb1],layout=Layout(\n",
    "#     display='flex',\n",
    "#     flex_flow='row',\n",
    "#     border='solid 2px',\n",
    "#     align_items='stretch',\n",
    "#     width='80%'))"
   ]
  },
  {
   "cell_type": "code",
   "execution_count": 157,
   "metadata": {
    "scrolled": false
   },
   "outputs": [],
   "source": [
    "# factory = TreatmentFactory(intervention_type=INTERVENTIONS['RADIOLOGICAL'], factors=BASE_FACTORS)\n",
    "# for agent_level in agent_levels1.value.split(','):\n",
    "#     factory.add_factor_value(BASE_FACTORS[0], agent_level.strip())\n",
    "# for dose_level in dose_levels1.value.split(','):\n",
    "#     factory.add_factor_value(BASE_FACTORS[1], dose_level.strip())\n",
    "# for duration_of_exposure_level in duration_of_exposure_levels1.value.split(','):\n",
    "#     factory.add_factor_value(BASE_FACTORS[2], duration_of_exposure_level.strip())\n",
    "\n",
    "# print('Number of study groups (treatment groups): {}'.format(len(factory.compute_full_factorial_design())))\n",
    "\n",
    "\n",
    "# treatments = factory.compute_full_factorial_design()\n",
    "# print(treatments)\n"
   ]
  },
  {
   "cell_type": "markdown",
   "metadata": {},
   "source": [
    "#### 1. Creation of the first `ISA Study Design Element` and setting its type"
   ]
  },
  {
   "cell_type": "code",
   "execution_count": 158,
   "metadata": {
    "scrolled": true
   },
   "outputs": [
    {
     "name": "stdout",
     "output_type": "stream",
     "text": [
      "NonTreatment(\n",
      "            type='screen',\n",
      "            duration=isatools.model.FactorValue(factor_name=isatools.model.StudyFactor(name='DURATION', factor_type=isatools.model.OntologyAnnotation(term='time', term_source=None, term_accession='', comments=[]), comments=[]), value=0.0, unit=None)\n",
      "        )\n"
     ]
    }
   ],
   "source": [
    "nte1 = NonTreatment(element_type='screen')\n",
    "print(nte1)"
   ]
  },
  {
   "cell_type": "markdown",
   "metadata": {},
   "source": [
    "#### 2. Creation of another `ISA Study Design Element`, of type `Treatment`"
   ]
  },
  {
   "cell_type": "code",
   "execution_count": 159,
   "metadata": {
    "scrolled": true
   },
   "outputs": [
    {
     "name": "stdout",
     "output_type": "stream",
     "text": [
      "\"Treatment\n",
      "        (type=radiological intervention, \n",
      "        factor_values=[])\n",
      "        \n"
     ]
    }
   ],
   "source": [
    "te1 = Treatment()\n",
    "te1.type='radiological intervention'\n",
    "print(te1)"
   ]
  },
  {
   "cell_type": "markdown",
   "metadata": {},
   "source": [
    "##### 2.1 defining the first treatment as a vector of ISA factor values:\n",
    "\n",
    "Under \"ISA Study Design Create mode\", a `Study Design Element` of type `Treatment` needs to be defined by a vector of `Factors` and their respective associated `Factor Values`. This is done as follows:"
   ]
  },
  {
   "cell_type": "code",
   "execution_count": 160,
   "metadata": {
    "scrolled": true
   },
   "outputs": [
    {
     "name": "stdout",
     "output_type": "stream",
     "text": [
      "FactorValue(\n",
      "    factor_name=light\n",
      "    value='visible light at 3000K produced by LED array'\n",
      "    unit=\n",
      ") FactorValue(\n",
      "    factor_name=dose\n",
      "    value='250'\n",
      "    unit=lux\n",
      ")\n"
     ]
    }
   ],
   "source": [
    "\n",
    "f1 = StudyFactor(name='light', factor_type=OntologyAnnotation(term=\"electromagnetic energy\"))\n",
    "f1v = FactorValue(factor_name=f1, value=\"visible light at 3000K produced by LED array\")\n",
    "f2 = StudyFactor(name='dose', factor_type=OntologyAnnotation(term=\"quantity\"))\n",
    "f2v = FactorValue(factor_name=f2, value='250', unit=OntologyAnnotation(term='lux'))\n",
    "f3 = StudyFactor(name='duration', factor_type=OntologyAnnotation(term=\"time\"))\n",
    "f3v = FactorValue(factor_name=f3, value='1', unit=OntologyAnnotation(term='hr'))\n",
    "\n",
    "print(f1v,f2v)\n"
   ]
  },
  {
   "cell_type": "code",
   "execution_count": 161,
   "metadata": {
    "scrolled": true
   },
   "outputs": [
    {
     "name": "stdout",
     "output_type": "stream",
     "text": [
      "\"Treatment\n",
      "        (type=radiological intervention, \n",
      "        factor_values=[isatools.model.FactorValue(factor_name=isatools.model.StudyFactor(name='dose', factor_type=isatools.model.OntologyAnnotation(term='quantity', term_source=None, term_accession='', comments=[]), comments=[]), value='250', unit=isatools.model.OntologyAnnotation(term='lux', term_source=None, term_accession='', comments=[])), isatools.model.FactorValue(factor_name=isatools.model.StudyFactor(name='duration', factor_type=isatools.model.OntologyAnnotation(term='time', term_source=None, term_accession='', comments=[]), comments=[]), value='1', unit=isatools.model.OntologyAnnotation(term='hr', term_source=None, term_accession='', comments=[])), isatools.model.FactorValue(factor_name=isatools.model.StudyFactor(name='light', factor_type=isatools.model.OntologyAnnotation(term='electromagnetic energy', term_source=None, term_accession='', comments=[]), comments=[]), value='visible light at 3000K produced by LED array', unit=None)])\n",
      "        \n"
     ]
    }
   ],
   "source": [
    "#assigning the factor values declared above to the ISA treatment element\n",
    "te1.factor_values = [f1v,f2v,f3v]\n",
    "print(te1)\n"
   ]
  },
  {
   "cell_type": "markdown",
   "metadata": {},
   "source": [
    "#### 3. Creation of a second  `ISA Study Design Element`, of type `Treatment`, following the same pattern."
   ]
  },
  {
   "cell_type": "code",
   "execution_count": 162,
   "metadata": {
    "scrolled": true
   },
   "outputs": [
    {
     "name": "stdout",
     "output_type": "stream",
     "text": [
      "\"Treatment\n",
      "        (type=radiological intervention, \n",
      "        factor_values=[isatools.model.FactorValue(factor_name=isatools.model.StudyFactor(name='dose', factor_type=isatools.model.OntologyAnnotation(term='quantity', term_source=None, term_accession='', comments=[]), comments=[]), value='250', unit=isatools.model.OntologyAnnotation(term='lux', term_source=None, term_accession='', comments=[])), isatools.model.FactorValue(factor_name=isatools.model.StudyFactor(name='duration', factor_type=isatools.model.OntologyAnnotation(term='time', term_source=None, term_accession='', comments=[]), comments=[]), value='1', unit=isatools.model.OntologyAnnotation(term='hour', term_source=None, term_accession='', comments=[])), isatools.model.FactorValue(factor_name=isatools.model.StudyFactor(name='light', factor_type=isatools.model.OntologyAnnotation(term='electromagnetic energy', term_source=None, term_accession='', comments=[]), comments=[]), value='visible light at 3000K produced by LED array', unit=None)])\n",
      "        \n"
     ]
    }
   ],
   "source": [
    "te3 = Treatment()\n",
    "te3.type = 'radiological intervention'\n",
    "rays = StudyFactor(name='light', factor_type=OntologyAnnotation(term=\"electromagnetic energy\"))\n",
    "\n",
    "raysv = FactorValue(factor_name=rays, value='visible light at 3000K produced by LED array')\n",
    "rays_intensity = StudyFactor(name='dose', factor_type=OntologyAnnotation(term=\"quantity\"))\n",
    "rays_intensityv= FactorValue(factor_name=rays_intensity, value = '250', unit=OntologyAnnotation(term='lux'))\n",
    "rays_duration =  StudyFactor(name = 'duration', factor_type=OntologyAnnotation(term=\"time\"))\n",
    "rays_durationv = FactorValue(factor_name=rays_duration, value='1', unit=OntologyAnnotation(term='hour'))\n",
    "\n",
    "te3.factor_values = [raysv,rays_intensityv,rays_durationv]\n",
    "print(te3)\n",
    "                "
   ]
  },
  {
   "cell_type": "markdown",
   "metadata": {},
   "source": [
    "#### 4. Creation of 'wash out' period as an `ISA Study Design Element`."
   ]
  },
  {
   "cell_type": "code",
   "execution_count": 163,
   "metadata": {
    "scrolled": true
   },
   "outputs": [
    {
     "name": "stdout",
     "output_type": "stream",
     "text": [
      "washout\n"
     ]
    }
   ],
   "source": [
    "# Creation of another ISA element, which is not a Treatment element, which is of type `screen` by default\n",
    "nte2 = NonTreatment()\n",
    "nte2.type = 'washout'\n",
    "print(nte2.type)"
   ]
  },
  {
   "cell_type": "code",
   "execution_count": 164,
   "metadata": {
    "scrolled": true
   },
   "outputs": [],
   "source": [
    "# setting the factor values associated with 'default' DURATION Factor associated with such elements\n",
    "nte2.duration.value=\"2\"\n",
    "nte2.duration.unit=OntologyAnnotation(term=\"weeks\")"
   ]
  },
  {
   "cell_type": "markdown",
   "metadata": {},
   "source": [
    "#### 5. Creation of 'follow-up' period as an `ISA Study Design Element`."
   ]
  },
  {
   "cell_type": "code",
   "execution_count": 165,
   "metadata": {
    "scrolled": true
   },
   "outputs": [],
   "source": [
    "nte3 = NonTreatment(element_type=FOLLOW_UP, duration_value=1, duration_unit=OntologyAnnotation(term=\"month\"))\n",
    "#print(nte3)"
   ]
  },
  {
   "cell_type": "markdown",
   "metadata": {},
   "source": [
    "#### 6. Creation of the associated container, known as an ISA `Cell` for each ISA `Element`.\n",
    "In this example, a single `Element` is hosted by a `Cell`, which must be named. In more complex designs (e.g. study designs with assymetric arms), a `Cell` may contain more than one `Element`, hence the list attribute."
   ]
  },
  {
   "cell_type": "code",
   "execution_count": 166,
   "metadata": {
    "scrolled": true
   },
   "outputs": [],
   "source": [
    "st_cl1= StudyCell(name=\"st_cl1\", elements=[nte1])\n",
    "st_cl2= StudyCell(name=\"st_cl2\", elements=[te1])\n",
    "st_cl3= StudyCell(name=\"st_cl3\", elements=[nte2])\n",
    "st_cl4= StudyCell(name=\"st_cl4\", elements=[te3])\n",
    "st_cl5= StudyCell(name=\"st_cl5\", elements=[nte3])"
   ]
  },
  {
   "cell_type": "markdown",
   "metadata": {},
   "source": [
    "#### 7. Creation of an ISA `Study Arm` and setting the number of subjects associated to that unique sequence of ISA `Cell`s."
   ]
  },
  {
   "cell_type": "code",
   "execution_count": 167,
   "metadata": {
    "scrolled": true
   },
   "outputs": [
    {
     "name": "stdout",
     "output_type": "stream",
     "text": [
      "\"StudyArm(\n",
      "               name=Arm 1,\n",
      "               source_type=Characteristic(\n",
      "    category=genotype\n",
      "    value=control - normal\n",
      "    unit=\n",
      "    comments=0 Comment objects\n",
      "),\n",
      "               group_size=2, \n",
      "               cells=[],\n",
      "               sample_assay_plans=[]\n",
      "               )\n"
     ]
    }
   ],
   "source": [
    "genotype_cat = OntologyAnnotation(term=\"genotype\")\n",
    "genotype_value1 = OntologyAnnotation(term=\"control - normal\")\n",
    "genotype_value2 = OntologyAnnotation(term=\"mutant\")\n",
    "\n",
    "arm1 = StudyArm(name='Arm 1', \n",
    "                group_size=2)\n",
    "\n",
    "arm1.source_type=Characteristic(category=genotype_cat,\n",
    "                                           value=genotype_value1)\n",
    "\n",
    "print(arm1)"
   ]
  },
  {
   "cell_type": "markdown",
   "metadata": {},
   "source": [
    "#### 8. Declaring an ISA `Sample Assay Plan`, defining which `Sample` are to be collected and which `Assay`s to be used"
   ]
  },
  {
   "cell_type": "code",
   "execution_count": 168,
   "metadata": {
    "scrolled": false
   },
   "outputs": [],
   "source": [
    "whole_patient=ProductNode(id_=\"MAT1\",\n",
    "                          name=\"subject\",\n",
    "                          node_type=SAMPLE, size=1,\n",
    "                          characteristics=[Characteristic(\n",
    "                                category=OntologyAnnotation(term='organism part'), \n",
    "                                value=OntologyAnnotation(term='whole organism'))])\n",
    "\n",
    "saliva=ProductNode(id_=\"MAT2\", name=\"saliva\", node_type=SAMPLE, size=1, characteristics=[\n",
    "    Characteristic(category=OntologyAnnotation(term='organism part'),\n",
    "                   value=OntologyAnnotation(term='saliva'))])\n",
    "\n"
   ]
  },
  {
   "cell_type": "markdown",
   "metadata": {},
   "source": [
    "Here we load an isa assay definition in the form of an ordered dictionary. It corresponds to an ISA configuration assay table but expressed in JSON."
   ]
  },
  {
   "cell_type": "markdown",
   "metadata": {},
   "source": [
    "We now show how to create an new AssayGraph structure from scratch, as if we were defining a completely new assay type."
   ]
  },
  {
   "cell_type": "code",
   "execution_count": 169,
   "metadata": {
    "scrolled": false
   },
   "outputs": [],
   "source": [
    "light_sensitivity_phenotyping_1 = OrderedDict([\n",
    "    ('measurement_type', OntologyAnnotation(term='melatonine concentration')),\n",
    "    ('technology_type', OntologyAnnotation(term='radioimmunoprecipitation assay')),\n",
    "     ('extraction', {}),\n",
    "            ('extract', [\n",
    "                {\n",
    "                    'node_type': EXTRACT,\n",
    "                    'characteristics_category': OntologyAnnotation(term='extract type'),\n",
    "                    'characteristics_value': OntologyAnnotation(term='extract'),\n",
    "                    'size': 1,\n",
    "                    'technical_replicates': None,\n",
    "                    'is_input_to_next_protocols': True\n",
    "                }]),\n",
    "                \n",
    "    ('radioimmunoprecipitation', {\n",
    "                OntologyAnnotation(term='instrument'): [OntologyAnnotation(term='Beckon Dickison XYZ')],\n",
    "                OntologyAnnotation(term='antibody'): [OntologyAnnotation(term='AbCam antiMelatonine ')],\n",
    "                OntologyAnnotation(term='time point'): [OntologyAnnotation(term='1 hr'),\n",
    "                                                        OntologyAnnotation(term='2 hr'),\n",
    "                                                        OntologyAnnotation(term='3 hr'),\n",
    "                                                        OntologyAnnotation(term='4 hr'),\n",
    "                                                        OntologyAnnotation(term='5 hr'),\n",
    "                                                        OntologyAnnotation(term='6 hr'),\n",
    "                                                        OntologyAnnotation(term='7 hr'),\n",
    "                                                        OntologyAnnotation(term='8 hr')]\n",
    "            }),\n",
    "            ('raw_data_file', [\n",
    "                {\n",
    "                    'node_type': DATA_FILE,\n",
    "                    'size': 1,\n",
    "                    'technical_replicates': 1,\n",
    "                    'is_input_to_next_protocols': False\n",
    "                }\n",
    "            ])\n",
    "])\n",
    "\n",
    "\n",
    "light_sensitivity_phenotyping_2 = OrderedDict([\n",
    "        ('measurement_type', OntologyAnnotation(term='light sensitivity')),\n",
    "        ('technology_type', OntologyAnnotation(term='electroencephalography')),\n",
    "            ('data_collection', {\n",
    "                OntologyAnnotation(term='instrument'): [OntologyAnnotation(term='Somnotouch')],\n",
    "                OntologyAnnotation(term='sampling_rate'): [OntologyAnnotation(term='200 Hz')],\n",
    "                OntologyAnnotation(term='time point'): [OntologyAnnotation(term='1 hr'),\n",
    "                                                        OntologyAnnotation(term='2 hr'),\n",
    "                                                        OntologyAnnotation(term='3 hr'),\n",
    "                                                        OntologyAnnotation(term='4 hr'),\n",
    "                                                        OntologyAnnotation(term='5 hr'),\n",
    "                                                        OntologyAnnotation(term='6 hr'),\n",
    "                                                        OntologyAnnotation(term='7 hr'),\n",
    "                                                        OntologyAnnotation(term='8 hr')]\n",
    "            }),\n",
    "            ('raw_data_file', [\n",
    "                {\n",
    "                    'node_type': DATA_FILE,\n",
    "                    'size': 1,\n",
    "                    'technical_replicates': 1,\n",
    "                    'is_input_to_next_protocols': False\n",
    "                }\n",
    "            ])\n",
    "])\n",
    "\n",
    "light_sensitivity_phenotyping_3 = OrderedDict([\n",
    "        ('measurement_type', OntologyAnnotation(term='light sensitivity phenotyping')),\n",
    "        ('technology_type', OntologyAnnotation(term='direct measurement')),\n",
    "            ('data_collection', {\n",
    "                OntologyAnnotation(term='variables'): [OntologyAnnotation(term='sleepiness'),\n",
    "                                                       OntologyAnnotation(term='heart rate'),\n",
    "                                                       OntologyAnnotation(term='pupilla size')],\n",
    "                OntologyAnnotation(term='time point'): [OntologyAnnotation(term='1 hr'),\n",
    "                                                        OntologyAnnotation(term='2 hr'),\n",
    "                                                        OntologyAnnotation(term='3 hr'),\n",
    "                                                        OntologyAnnotation(term='4 hr'),\n",
    "                                                        OntologyAnnotation(term='5 hr'),\n",
    "                                                        OntologyAnnotation(term='6 hr'),\n",
    "                                                        OntologyAnnotation(term='7 hr'),\n",
    "                                                        OntologyAnnotation(term='8 hr')]\n",
    "            }),\n",
    "            ('raw_data_file', [\n",
    "                {\n",
    "                    'node_type': DATA_FILE,\n",
    "                    'size': 1,\n",
    "                    'technical_replicates': 1,\n",
    "                    'is_input_to_next_protocols': False\n",
    "                }\n",
    "            ])\n",
    "])\n"
   ]
  },
  {
   "cell_type": "code",
   "execution_count": 170,
   "metadata": {
    "scrolled": true
   },
   "outputs": [
    {
     "name": "stdout",
     "output_type": "stream",
     "text": [
      "{}\n",
      "pv_combination: ()\n",
      "count: 0, prev_node: extraction_000\n",
      "{isatools.model.OntologyAnnotation(term='instrument', term_source=None, term_accession='', comments=[]): [isatools.model.OntologyAnnotation(term='Beckon Dickison XYZ', term_source=None, term_accession='', comments=[])], isatools.model.OntologyAnnotation(term='antibody', term_source=None, term_accession='', comments=[]): [isatools.model.OntologyAnnotation(term='AbCam antiMelatonine ', term_source=None, term_accession='', comments=[])], isatools.model.OntologyAnnotation(term='time point', term_source=None, term_accession='', comments=[]): [isatools.model.OntologyAnnotation(term='1 hr', term_source=None, term_accession='', comments=[]), isatools.model.OntologyAnnotation(term='2 hr', term_source=None, term_accession='', comments=[]), isatools.model.OntologyAnnotation(term='3 hr', term_source=None, term_accession='', comments=[]), isatools.model.OntologyAnnotation(term='4 hr', term_source=None, term_accession='', comments=[]), isatools.model.OntologyAnnotation(term='5 hr', term_source=None, term_accession='', comments=[]), isatools.model.OntologyAnnotation(term='6 hr', term_source=None, term_accession='', comments=[]), isatools.model.OntologyAnnotation(term='7 hr', term_source=None, term_accession='', comments=[]), isatools.model.OntologyAnnotation(term='8 hr', term_source=None, term_accession='', comments=[])]}\n",
      "pv_combination: (isatools.model.OntologyAnnotation(term='Beckon Dickison XYZ', term_source=None, term_accession='', comments=[]), isatools.model.OntologyAnnotation(term='AbCam antiMelatonine ', term_source=None, term_accession='', comments=[]), isatools.model.OntologyAnnotation(term='1 hr', term_source=None, term_accession='', comments=[]))\n",
      "count: 0, prev_node: extract_000_000\n",
      "pv_combination: (isatools.model.OntologyAnnotation(term='Beckon Dickison XYZ', term_source=None, term_accession='', comments=[]), isatools.model.OntologyAnnotation(term='AbCam antiMelatonine ', term_source=None, term_accession='', comments=[]), isatools.model.OntologyAnnotation(term='2 hr', term_source=None, term_accession='', comments=[]))\n",
      "count: 0, prev_node: extract_000_000\n",
      "pv_combination: (isatools.model.OntologyAnnotation(term='Beckon Dickison XYZ', term_source=None, term_accession='', comments=[]), isatools.model.OntologyAnnotation(term='AbCam antiMelatonine ', term_source=None, term_accession='', comments=[]), isatools.model.OntologyAnnotation(term='3 hr', term_source=None, term_accession='', comments=[]))\n",
      "count: 0, prev_node: extract_000_000\n",
      "pv_combination: (isatools.model.OntologyAnnotation(term='Beckon Dickison XYZ', term_source=None, term_accession='', comments=[]), isatools.model.OntologyAnnotation(term='AbCam antiMelatonine ', term_source=None, term_accession='', comments=[]), isatools.model.OntologyAnnotation(term='4 hr', term_source=None, term_accession='', comments=[]))\n",
      "count: 0, prev_node: extract_000_000\n",
      "pv_combination: (isatools.model.OntologyAnnotation(term='Beckon Dickison XYZ', term_source=None, term_accession='', comments=[]), isatools.model.OntologyAnnotation(term='AbCam antiMelatonine ', term_source=None, term_accession='', comments=[]), isatools.model.OntologyAnnotation(term='5 hr', term_source=None, term_accession='', comments=[]))\n",
      "count: 0, prev_node: extract_000_000\n",
      "pv_combination: (isatools.model.OntologyAnnotation(term='Beckon Dickison XYZ', term_source=None, term_accession='', comments=[]), isatools.model.OntologyAnnotation(term='AbCam antiMelatonine ', term_source=None, term_accession='', comments=[]), isatools.model.OntologyAnnotation(term='6 hr', term_source=None, term_accession='', comments=[]))\n",
      "count: 0, prev_node: extract_000_000\n",
      "pv_combination: (isatools.model.OntologyAnnotation(term='Beckon Dickison XYZ', term_source=None, term_accession='', comments=[]), isatools.model.OntologyAnnotation(term='AbCam antiMelatonine ', term_source=None, term_accession='', comments=[]), isatools.model.OntologyAnnotation(term='7 hr', term_source=None, term_accession='', comments=[]))\n",
      "count: 0, prev_node: extract_000_000\n",
      "pv_combination: (isatools.model.OntologyAnnotation(term='Beckon Dickison XYZ', term_source=None, term_accession='', comments=[]), isatools.model.OntologyAnnotation(term='AbCam antiMelatonine ', term_source=None, term_accession='', comments=[]), isatools.model.OntologyAnnotation(term='8 hr', term_source=None, term_accession='', comments=[]))\n",
      "count: 0, prev_node: extract_000_000\n",
      "count: 0, prev_node: radioimmunoprecipitation_000_000\n",
      "count: 1, prev_node: radioimmunoprecipitation_001_000\n",
      "count: 2, prev_node: radioimmunoprecipitation_002_000\n",
      "count: 3, prev_node: radioimmunoprecipitation_003_000\n",
      "count: 4, prev_node: radioimmunoprecipitation_004_000\n",
      "count: 5, prev_node: radioimmunoprecipitation_005_000\n",
      "count: 6, prev_node: radioimmunoprecipitation_006_000\n",
      "count: 7, prev_node: radioimmunoprecipitation_007_000\n",
      "{isatools.model.OntologyAnnotation(term='instrument', term_source=None, term_accession='', comments=[]): [isatools.model.OntologyAnnotation(term='Somnotouch', term_source=None, term_accession='', comments=[])], isatools.model.OntologyAnnotation(term='sampling_rate', term_source=None, term_accession='', comments=[]): [isatools.model.OntologyAnnotation(term='200 Hz', term_source=None, term_accession='', comments=[])], isatools.model.OntologyAnnotation(term='time point', term_source=None, term_accession='', comments=[]): [isatools.model.OntologyAnnotation(term='1 hr', term_source=None, term_accession='', comments=[]), isatools.model.OntologyAnnotation(term='2 hr', term_source=None, term_accession='', comments=[]), isatools.model.OntologyAnnotation(term='3 hr', term_source=None, term_accession='', comments=[]), isatools.model.OntologyAnnotation(term='4 hr', term_source=None, term_accession='', comments=[]), isatools.model.OntologyAnnotation(term='5 hr', term_source=None, term_accession='', comments=[]), isatools.model.OntologyAnnotation(term='6 hr', term_source=None, term_accession='', comments=[]), isatools.model.OntologyAnnotation(term='7 hr', term_source=None, term_accession='', comments=[]), isatools.model.OntologyAnnotation(term='8 hr', term_source=None, term_accession='', comments=[])]}\n",
      "pv_combination: (isatools.model.OntologyAnnotation(term='Somnotouch', term_source=None, term_accession='', comments=[]), isatools.model.OntologyAnnotation(term='200 Hz', term_source=None, term_accession='', comments=[]), isatools.model.OntologyAnnotation(term='1 hr', term_source=None, term_accession='', comments=[]))\n",
      "pv_combination: (isatools.model.OntologyAnnotation(term='Somnotouch', term_source=None, term_accession='', comments=[]), isatools.model.OntologyAnnotation(term='200 Hz', term_source=None, term_accession='', comments=[]), isatools.model.OntologyAnnotation(term='2 hr', term_source=None, term_accession='', comments=[]))\n",
      "pv_combination: (isatools.model.OntologyAnnotation(term='Somnotouch', term_source=None, term_accession='', comments=[]), isatools.model.OntologyAnnotation(term='200 Hz', term_source=None, term_accession='', comments=[]), isatools.model.OntologyAnnotation(term='3 hr', term_source=None, term_accession='', comments=[]))\n",
      "pv_combination: (isatools.model.OntologyAnnotation(term='Somnotouch', term_source=None, term_accession='', comments=[]), isatools.model.OntologyAnnotation(term='200 Hz', term_source=None, term_accession='', comments=[]), isatools.model.OntologyAnnotation(term='4 hr', term_source=None, term_accession='', comments=[]))\n",
      "pv_combination: (isatools.model.OntologyAnnotation(term='Somnotouch', term_source=None, term_accession='', comments=[]), isatools.model.OntologyAnnotation(term='200 Hz', term_source=None, term_accession='', comments=[]), isatools.model.OntologyAnnotation(term='5 hr', term_source=None, term_accession='', comments=[]))\n",
      "pv_combination: (isatools.model.OntologyAnnotation(term='Somnotouch', term_source=None, term_accession='', comments=[]), isatools.model.OntologyAnnotation(term='200 Hz', term_source=None, term_accession='', comments=[]), isatools.model.OntologyAnnotation(term='6 hr', term_source=None, term_accession='', comments=[]))\n",
      "pv_combination: (isatools.model.OntologyAnnotation(term='Somnotouch', term_source=None, term_accession='', comments=[]), isatools.model.OntologyAnnotation(term='200 Hz', term_source=None, term_accession='', comments=[]), isatools.model.OntologyAnnotation(term='7 hr', term_source=None, term_accession='', comments=[]))\n",
      "pv_combination: (isatools.model.OntologyAnnotation(term='Somnotouch', term_source=None, term_accession='', comments=[]), isatools.model.OntologyAnnotation(term='200 Hz', term_source=None, term_accession='', comments=[]), isatools.model.OntologyAnnotation(term='8 hr', term_source=None, term_accession='', comments=[]))\n",
      "count: 0, prev_node: data_collection_000\n",
      "count: 1, prev_node: data_collection_001\n",
      "count: 2, prev_node: data_collection_002\n",
      "count: 3, prev_node: data_collection_003\n",
      "count: 4, prev_node: data_collection_004\n",
      "count: 5, prev_node: data_collection_005\n",
      "count: 6, prev_node: data_collection_006\n",
      "count: 7, prev_node: data_collection_007\n",
      "{isatools.model.OntologyAnnotation(term='variables', term_source=None, term_accession='', comments=[]): [isatools.model.OntologyAnnotation(term='sleepiness', term_source=None, term_accession='', comments=[]), isatools.model.OntologyAnnotation(term='heart rate', term_source=None, term_accession='', comments=[]), isatools.model.OntologyAnnotation(term='pupilla size', term_source=None, term_accession='', comments=[])], isatools.model.OntologyAnnotation(term='time point', term_source=None, term_accession='', comments=[]): [isatools.model.OntologyAnnotation(term='1 hr', term_source=None, term_accession='', comments=[]), isatools.model.OntologyAnnotation(term='2 hr', term_source=None, term_accession='', comments=[]), isatools.model.OntologyAnnotation(term='3 hr', term_source=None, term_accession='', comments=[]), isatools.model.OntologyAnnotation(term='4 hr', term_source=None, term_accession='', comments=[]), isatools.model.OntologyAnnotation(term='5 hr', term_source=None, term_accession='', comments=[]), isatools.model.OntologyAnnotation(term='6 hr', term_source=None, term_accession='', comments=[]), isatools.model.OntologyAnnotation(term='7 hr', term_source=None, term_accession='', comments=[]), isatools.model.OntologyAnnotation(term='8 hr', term_source=None, term_accession='', comments=[])]}\n",
      "pv_combination: (isatools.model.OntologyAnnotation(term='sleepiness', term_source=None, term_accession='', comments=[]), isatools.model.OntologyAnnotation(term='1 hr', term_source=None, term_accession='', comments=[]))\n",
      "pv_combination: (isatools.model.OntologyAnnotation(term='sleepiness', term_source=None, term_accession='', comments=[]), isatools.model.OntologyAnnotation(term='2 hr', term_source=None, term_accession='', comments=[]))\n",
      "pv_combination: (isatools.model.OntologyAnnotation(term='sleepiness', term_source=None, term_accession='', comments=[]), isatools.model.OntologyAnnotation(term='3 hr', term_source=None, term_accession='', comments=[]))\n",
      "pv_combination: (isatools.model.OntologyAnnotation(term='sleepiness', term_source=None, term_accession='', comments=[]), isatools.model.OntologyAnnotation(term='4 hr', term_source=None, term_accession='', comments=[]))\n",
      "pv_combination: (isatools.model.OntologyAnnotation(term='sleepiness', term_source=None, term_accession='', comments=[]), isatools.model.OntologyAnnotation(term='5 hr', term_source=None, term_accession='', comments=[]))\n",
      "pv_combination: (isatools.model.OntologyAnnotation(term='sleepiness', term_source=None, term_accession='', comments=[]), isatools.model.OntologyAnnotation(term='6 hr', term_source=None, term_accession='', comments=[]))\n",
      "pv_combination: (isatools.model.OntologyAnnotation(term='sleepiness', term_source=None, term_accession='', comments=[]), isatools.model.OntologyAnnotation(term='7 hr', term_source=None, term_accession='', comments=[]))\n",
      "pv_combination: (isatools.model.OntologyAnnotation(term='sleepiness', term_source=None, term_accession='', comments=[]), isatools.model.OntologyAnnotation(term='8 hr', term_source=None, term_accession='', comments=[]))\n",
      "pv_combination: (isatools.model.OntologyAnnotation(term='heart rate', term_source=None, term_accession='', comments=[]), isatools.model.OntologyAnnotation(term='1 hr', term_source=None, term_accession='', comments=[]))\n",
      "pv_combination: (isatools.model.OntologyAnnotation(term='heart rate', term_source=None, term_accession='', comments=[]), isatools.model.OntologyAnnotation(term='2 hr', term_source=None, term_accession='', comments=[]))\n",
      "pv_combination: (isatools.model.OntologyAnnotation(term='heart rate', term_source=None, term_accession='', comments=[]), isatools.model.OntologyAnnotation(term='3 hr', term_source=None, term_accession='', comments=[]))\n",
      "pv_combination: (isatools.model.OntologyAnnotation(term='heart rate', term_source=None, term_accession='', comments=[]), isatools.model.OntologyAnnotation(term='4 hr', term_source=None, term_accession='', comments=[]))\n",
      "pv_combination: (isatools.model.OntologyAnnotation(term='heart rate', term_source=None, term_accession='', comments=[]), isatools.model.OntologyAnnotation(term='5 hr', term_source=None, term_accession='', comments=[]))\n",
      "pv_combination: (isatools.model.OntologyAnnotation(term='heart rate', term_source=None, term_accession='', comments=[]), isatools.model.OntologyAnnotation(term='6 hr', term_source=None, term_accession='', comments=[]))\n",
      "pv_combination: (isatools.model.OntologyAnnotation(term='heart rate', term_source=None, term_accession='', comments=[]), isatools.model.OntologyAnnotation(term='7 hr', term_source=None, term_accession='', comments=[]))\n",
      "pv_combination: (isatools.model.OntologyAnnotation(term='heart rate', term_source=None, term_accession='', comments=[]), isatools.model.OntologyAnnotation(term='8 hr', term_source=None, term_accession='', comments=[]))\n",
      "pv_combination: (isatools.model.OntologyAnnotation(term='pupilla size', term_source=None, term_accession='', comments=[]), isatools.model.OntologyAnnotation(term='1 hr', term_source=None, term_accession='', comments=[]))\n",
      "pv_combination: (isatools.model.OntologyAnnotation(term='pupilla size', term_source=None, term_accession='', comments=[]), isatools.model.OntologyAnnotation(term='2 hr', term_source=None, term_accession='', comments=[]))\n",
      "pv_combination: (isatools.model.OntologyAnnotation(term='pupilla size', term_source=None, term_accession='', comments=[]), isatools.model.OntologyAnnotation(term='3 hr', term_source=None, term_accession='', comments=[]))\n",
      "pv_combination: (isatools.model.OntologyAnnotation(term='pupilla size', term_source=None, term_accession='', comments=[]), isatools.model.OntologyAnnotation(term='4 hr', term_source=None, term_accession='', comments=[]))\n",
      "pv_combination: (isatools.model.OntologyAnnotation(term='pupilla size', term_source=None, term_accession='', comments=[]), isatools.model.OntologyAnnotation(term='5 hr', term_source=None, term_accession='', comments=[]))\n",
      "pv_combination: (isatools.model.OntologyAnnotation(term='pupilla size', term_source=None, term_accession='', comments=[]), isatools.model.OntologyAnnotation(term='6 hr', term_source=None, term_accession='', comments=[]))\n",
      "pv_combination: (isatools.model.OntologyAnnotation(term='pupilla size', term_source=None, term_accession='', comments=[]), isatools.model.OntologyAnnotation(term='7 hr', term_source=None, term_accession='', comments=[]))\n",
      "pv_combination: (isatools.model.OntologyAnnotation(term='pupilla size', term_source=None, term_accession='', comments=[]), isatools.model.OntologyAnnotation(term='8 hr', term_source=None, term_accession='', comments=[]))\n",
      "count: 0, prev_node: data_collection_000\n",
      "count: 1, prev_node: data_collection_001\n",
      "count: 2, prev_node: data_collection_002\n",
      "count: 3, prev_node: data_collection_003\n",
      "count: 4, prev_node: data_collection_004\n",
      "count: 5, prev_node: data_collection_005\n",
      "count: 6, prev_node: data_collection_006\n",
      "count: 7, prev_node: data_collection_007\n",
      "count: 8, prev_node: data_collection_008\n",
      "count: 9, prev_node: data_collection_009\n",
      "count: 10, prev_node: data_collection_010\n",
      "count: 11, prev_node: data_collection_011\n",
      "count: 12, prev_node: data_collection_012\n",
      "count: 13, prev_node: data_collection_013\n",
      "count: 14, prev_node: data_collection_014\n",
      "count: 15, prev_node: data_collection_015\n",
      "count: 16, prev_node: data_collection_016\n",
      "count: 17, prev_node: data_collection_017\n",
      "count: 18, prev_node: data_collection_018\n",
      "count: 19, prev_node: data_collection_019\n",
      "count: 20, prev_node: data_collection_020\n",
      "count: 21, prev_node: data_collection_021\n",
      "count: 22, prev_node: data_collection_022\n",
      "count: 23, prev_node: data_collection_023\n"
     ]
    }
   ],
   "source": [
    "alterness_assay_graph = AssayGraph.generate_assay_plan_from_dict(light_sensitivity_phenotyping_1)\n",
    "melatonine_assay_graph = AssayGraph.generate_assay_plan_from_dict(light_sensitivity_phenotyping_2)\n",
    "general_phenotyping_assay_graph = AssayGraph.generate_assay_plan_from_dict(light_sensitivity_phenotyping_3)"
   ]
  },
  {
   "cell_type": "code",
   "execution_count": 171,
   "metadata": {
    "scrolled": false
   },
   "outputs": [],
   "source": [
    "\n",
    "sap1 = SampleAndAssayPlan(name='sap1', sample_plan=[whole_patient,saliva],assay_plan=[alterness_assay_graph,melatonine_assay_graph,general_phenotyping_assay_graph])\n",
    "\n",
    "sap1.add_element_to_map(sample_node=saliva, assay_graph=melatonine_assay_graph)\n",
    "sap1.add_element_to_map(sample_node=whole_patient, assay_graph=alterness_assay_graph)\n",
    "sap1.add_element_to_map(sample_node=whole_patient,assay_graph=general_phenotyping_assay_graph)\n",
    "\n",
    "\n",
    "\n",
    "\n"
   ]
  },
  {
   "cell_type": "code",
   "execution_count": 172,
   "metadata": {
    "scrolled": true
   },
   "outputs": [],
   "source": [
    "# declare the type of `Assay` which will be performed\n",
    "# assay_type1 = AssayType(measurement_type='metabolite profiling', technology_type='mass spectrometry')\n",
    "# associate this assay type to the `SampleAssayPlan`\n",
    "# sap1.add_assay_type(assay_type1)\n",
    "# specify which `sample type` will be used as input to the declare `Assay`\n",
    "# sap1.add_assay_plan_record('liver',assay_type1)"
   ]
  },
  {
   "cell_type": "code",
   "execution_count": 173,
   "metadata": {
    "scrolled": false
   },
   "outputs": [
    {
     "data": {
      "text/plain": [
       "{isatools.create.models.ProductNode(id=MAT2, type=sample, name=saliva, characteristics=[isatools.model.Characteristic(category=isatools.model.OntologyAnnotation(term='organism part', term_source=None, term_accession='', comments=[]), value=isatools.model.OntologyAnnotation(term='saliva', term_source=None, term_accession='', comments=[]), unit=None, comments=[])], size=1): {isatools.create.models.AssayGraph(id=4c3d05d6-20c1-4c1f-9908-c4baa4e36d34, measurement_type=OntologyAnnotation(\n",
       "      term=light sensitivity\n",
       "      term_source=\n",
       "      term_accession=\n",
       "      comments=0 Comment objects\n",
       "  ), technology_type=OntologyAnnotation(\n",
       "      term=electroencephalography\n",
       "      term_source=\n",
       "      term_accession=\n",
       "      comments=0 Comment objects\n",
       "  ), nodes={isatools.create.models.ProductNode(id=raw_data_file_000_005, type=data file, name=raw_data_file, characteristics=[], size=1), isatools.create.models.ProtocolNode(id=data_collection_002, name=data_collection, protocol_type=OntologyAnnotation(\n",
       "      term=data_collection\n",
       "      term_source=\n",
       "      term_accession=\n",
       "      comments=0 Comment objects\n",
       "  ), uri=, description=, version=, parameter_values=[isatools.model.ParameterValue(category=isatools.model.ProtocolParameter(parameter_name=isatools.model.OntologyAnnotation(term='instrument', term_source=None, term_accession='', comments=[]), comments=[]), value=isatools.model.OntologyAnnotation(term='Somnotouch', term_source=None, term_accession='', comments=[]), unit=None, comments=[]), isatools.model.ParameterValue(category=isatools.model.ProtocolParameter(parameter_name=isatools.model.OntologyAnnotation(term='sampling_rate', term_source=None, term_accession='', comments=[]), comments=[]), value=isatools.model.OntologyAnnotation(term='200 Hz', term_source=None, term_accession='', comments=[]), unit=None, comments=[]), isatools.model.ParameterValue(category=isatools.model.ProtocolParameter(parameter_name=isatools.model.OntologyAnnotation(term='time point', term_source=None, term_accession='', comments=[]), comments=[]), value=isatools.model.OntologyAnnotation(term='3 hr', term_source=None, term_accession='', comments=[]), unit=None, comments=[])]), isatools.create.models.ProductNode(id=raw_data_file_000_006, type=data file, name=raw_data_file, characteristics=[], size=1), isatools.create.models.ProtocolNode(id=data_collection_001, name=data_collection, protocol_type=OntologyAnnotation(\n",
       "      term=data_collection\n",
       "      term_source=\n",
       "      term_accession=\n",
       "      comments=0 Comment objects\n",
       "  ), uri=, description=, version=, parameter_values=[isatools.model.ParameterValue(category=isatools.model.ProtocolParameter(parameter_name=isatools.model.OntologyAnnotation(term='instrument', term_source=None, term_accession='', comments=[]), comments=[]), value=isatools.model.OntologyAnnotation(term='Somnotouch', term_source=None, term_accession='', comments=[]), unit=None, comments=[]), isatools.model.ParameterValue(category=isatools.model.ProtocolParameter(parameter_name=isatools.model.OntologyAnnotation(term='sampling_rate', term_source=None, term_accession='', comments=[]), comments=[]), value=isatools.model.OntologyAnnotation(term='200 Hz', term_source=None, term_accession='', comments=[]), unit=None, comments=[]), isatools.model.ParameterValue(category=isatools.model.ProtocolParameter(parameter_name=isatools.model.OntologyAnnotation(term='time point', term_source=None, term_accession='', comments=[]), comments=[]), value=isatools.model.OntologyAnnotation(term='2 hr', term_source=None, term_accession='', comments=[]), unit=None, comments=[])]), isatools.create.models.ProtocolNode(id=data_collection_006, name=data_collection, protocol_type=OntologyAnnotation(\n",
       "      term=data_collection\n",
       "      term_source=\n",
       "      term_accession=\n",
       "      comments=0 Comment objects\n",
       "  ), uri=, description=, version=, parameter_values=[isatools.model.ParameterValue(category=isatools.model.ProtocolParameter(parameter_name=isatools.model.OntologyAnnotation(term='instrument', term_source=None, term_accession='', comments=[]), comments=[]), value=isatools.model.OntologyAnnotation(term='Somnotouch', term_source=None, term_accession='', comments=[]), unit=None, comments=[]), isatools.model.ParameterValue(category=isatools.model.ProtocolParameter(parameter_name=isatools.model.OntologyAnnotation(term='sampling_rate', term_source=None, term_accession='', comments=[]), comments=[]), value=isatools.model.OntologyAnnotation(term='200 Hz', term_source=None, term_accession='', comments=[]), unit=None, comments=[]), isatools.model.ParameterValue(category=isatools.model.ProtocolParameter(parameter_name=isatools.model.OntologyAnnotation(term='time point', term_source=None, term_accession='', comments=[]), comments=[]), value=isatools.model.OntologyAnnotation(term='7 hr', term_source=None, term_accession='', comments=[]), unit=None, comments=[])]), isatools.create.models.ProductNode(id=raw_data_file_000_000, type=data file, name=raw_data_file, characteristics=[], size=1), isatools.create.models.ProductNode(id=raw_data_file_000_007, type=data file, name=raw_data_file, characteristics=[], size=1), isatools.create.models.ProductNode(id=raw_data_file_000_001, type=data file, name=raw_data_file, characteristics=[], size=1), isatools.create.models.ProtocolNode(id=data_collection_003, name=data_collection, protocol_type=OntologyAnnotation(\n",
       "      term=data_collection\n",
       "      term_source=\n",
       "      term_accession=\n",
       "      comments=0 Comment objects\n",
       "  ), uri=, description=, version=, parameter_values=[isatools.model.ParameterValue(category=isatools.model.ProtocolParameter(parameter_name=isatools.model.OntologyAnnotation(term='instrument', term_source=None, term_accession='', comments=[]), comments=[]), value=isatools.model.OntologyAnnotation(term='Somnotouch', term_source=None, term_accession='', comments=[]), unit=None, comments=[]), isatools.model.ParameterValue(category=isatools.model.ProtocolParameter(parameter_name=isatools.model.OntologyAnnotation(term='sampling_rate', term_source=None, term_accession='', comments=[]), comments=[]), value=isatools.model.OntologyAnnotation(term='200 Hz', term_source=None, term_accession='', comments=[]), unit=None, comments=[]), isatools.model.ParameterValue(category=isatools.model.ProtocolParameter(parameter_name=isatools.model.OntologyAnnotation(term='time point', term_source=None, term_accession='', comments=[]), comments=[]), value=isatools.model.OntologyAnnotation(term='4 hr', term_source=None, term_accession='', comments=[]), unit=None, comments=[])]), isatools.create.models.ProtocolNode(id=data_collection_004, name=data_collection, protocol_type=OntologyAnnotation(\n",
       "      term=data_collection\n",
       "      term_source=\n",
       "      term_accession=\n",
       "      comments=0 Comment objects\n",
       "  ), uri=, description=, version=, parameter_values=[isatools.model.ParameterValue(category=isatools.model.ProtocolParameter(parameter_name=isatools.model.OntologyAnnotation(term='instrument', term_source=None, term_accession='', comments=[]), comments=[]), value=isatools.model.OntologyAnnotation(term='Somnotouch', term_source=None, term_accession='', comments=[]), unit=None, comments=[]), isatools.model.ParameterValue(category=isatools.model.ProtocolParameter(parameter_name=isatools.model.OntologyAnnotation(term='sampling_rate', term_source=None, term_accession='', comments=[]), comments=[]), value=isatools.model.OntologyAnnotation(term='200 Hz', term_source=None, term_accession='', comments=[]), unit=None, comments=[]), isatools.model.ParameterValue(category=isatools.model.ProtocolParameter(parameter_name=isatools.model.OntologyAnnotation(term='time point', term_source=None, term_accession='', comments=[]), comments=[]), value=isatools.model.OntologyAnnotation(term='5 hr', term_source=None, term_accession='', comments=[]), unit=None, comments=[])]), isatools.create.models.ProductNode(id=raw_data_file_000_002, type=data file, name=raw_data_file, characteristics=[], size=1), isatools.create.models.ProtocolNode(id=data_collection_007, name=data_collection, protocol_type=OntologyAnnotation(\n",
       "      term=data_collection\n",
       "      term_source=\n",
       "      term_accession=\n",
       "      comments=0 Comment objects\n",
       "  ), uri=, description=, version=, parameter_values=[isatools.model.ParameterValue(category=isatools.model.ProtocolParameter(parameter_name=isatools.model.OntologyAnnotation(term='instrument', term_source=None, term_accession='', comments=[]), comments=[]), value=isatools.model.OntologyAnnotation(term='Somnotouch', term_source=None, term_accession='', comments=[]), unit=None, comments=[]), isatools.model.ParameterValue(category=isatools.model.ProtocolParameter(parameter_name=isatools.model.OntologyAnnotation(term='sampling_rate', term_source=None, term_accession='', comments=[]), comments=[]), value=isatools.model.OntologyAnnotation(term='200 Hz', term_source=None, term_accession='', comments=[]), unit=None, comments=[]), isatools.model.ParameterValue(category=isatools.model.ProtocolParameter(parameter_name=isatools.model.OntologyAnnotation(term='time point', term_source=None, term_accession='', comments=[]), comments=[]), value=isatools.model.OntologyAnnotation(term='8 hr', term_source=None, term_accession='', comments=[]), unit=None, comments=[])]), isatools.create.models.ProtocolNode(id=data_collection_005, name=data_collection, protocol_type=OntologyAnnotation(\n",
       "      term=data_collection\n",
       "      term_source=\n",
       "      term_accession=\n",
       "      comments=0 Comment objects\n",
       "  ), uri=, description=, version=, parameter_values=[isatools.model.ParameterValue(category=isatools.model.ProtocolParameter(parameter_name=isatools.model.OntologyAnnotation(term='instrument', term_source=None, term_accession='', comments=[]), comments=[]), value=isatools.model.OntologyAnnotation(term='Somnotouch', term_source=None, term_accession='', comments=[]), unit=None, comments=[]), isatools.model.ParameterValue(category=isatools.model.ProtocolParameter(parameter_name=isatools.model.OntologyAnnotation(term='sampling_rate', term_source=None, term_accession='', comments=[]), comments=[]), value=isatools.model.OntologyAnnotation(term='200 Hz', term_source=None, term_accession='', comments=[]), unit=None, comments=[]), isatools.model.ParameterValue(category=isatools.model.ProtocolParameter(parameter_name=isatools.model.OntologyAnnotation(term='time point', term_source=None, term_accession='', comments=[]), comments=[]), value=isatools.model.OntologyAnnotation(term='6 hr', term_source=None, term_accession='', comments=[]), unit=None, comments=[])]), isatools.create.models.ProductNode(id=raw_data_file_000_004, type=data file, name=raw_data_file, characteristics=[], size=1), isatools.create.models.ProductNode(id=raw_data_file_000_003, type=data file, name=raw_data_file, characteristics=[], size=1), isatools.create.models.ProtocolNode(id=data_collection_000, name=data_collection, protocol_type=OntologyAnnotation(\n",
       "      term=data_collection\n",
       "      term_source=\n",
       "      term_accession=\n",
       "      comments=0 Comment objects\n",
       "  ), uri=, description=, version=, parameter_values=[isatools.model.ParameterValue(category=isatools.model.ProtocolParameter(parameter_name=isatools.model.OntologyAnnotation(term='instrument', term_source=None, term_accession='', comments=[]), comments=[]), value=isatools.model.OntologyAnnotation(term='Somnotouch', term_source=None, term_accession='', comments=[]), unit=None, comments=[]), isatools.model.ParameterValue(category=isatools.model.ProtocolParameter(parameter_name=isatools.model.OntologyAnnotation(term='sampling_rate', term_source=None, term_accession='', comments=[]), comments=[]), value=isatools.model.OntologyAnnotation(term='200 Hz', term_source=None, term_accession='', comments=[]), unit=None, comments=[]), isatools.model.ParameterValue(category=isatools.model.ProtocolParameter(parameter_name=isatools.model.OntologyAnnotation(term='time point', term_source=None, term_accession='', comments=[]), comments=[]), value=isatools.model.OntologyAnnotation(term='1 hr', term_source=None, term_accession='', comments=[]), unit=None, comments=[])])}, links=[('data_collection_000', 'raw_data_file_000_000'), ('data_collection_001', 'raw_data_file_000_001'), ('data_collection_002', 'raw_data_file_000_002'), ('data_collection_003', 'raw_data_file_000_003'), ('data_collection_004', 'raw_data_file_000_004'), ('data_collection_005', 'raw_data_file_000_005'), ('data_collection_006', 'raw_data_file_000_006'), ('data_collection_007', 'raw_data_file_000_007')], quality_control=None)},\n",
       " isatools.create.models.ProductNode(id=MAT1, type=sample, name=subject, characteristics=[isatools.model.Characteristic(category=isatools.model.OntologyAnnotation(term='organism part', term_source=None, term_accession='', comments=[]), value=isatools.model.OntologyAnnotation(term='whole organism', term_source=None, term_accession='', comments=[]), unit=None, comments=[])], size=1): {isatools.create.models.AssayGraph(id=84a7de45-17f6-4590-940a-f55994c25737, measurement_type=OntologyAnnotation(\n",
       "      term=melatonine concentration\n",
       "      term_source=\n",
       "      term_accession=\n",
       "      comments=0 Comment objects\n",
       "  ), technology_type=OntologyAnnotation(\n",
       "      term=radioimmunoprecipitation assay\n",
       "      term_source=\n",
       "      term_accession=\n",
       "      comments=0 Comment objects\n",
       "  ), nodes={isatools.create.models.ProductNode(id=raw_data_file_000_005, type=data file, name=raw_data_file, characteristics=[], size=1), isatools.create.models.ProtocolNode(id=extraction_000, name=extraction, protocol_type=OntologyAnnotation(\n",
       "      term=extraction\n",
       "      term_source=\n",
       "      term_accession=\n",
       "      comments=0 Comment objects\n",
       "  ), uri=, description=, version=, parameter_values=[]), isatools.create.models.ProtocolNode(id=radioimmunoprecipitation_007_000, name=radioimmunoprecipitation, protocol_type=OntologyAnnotation(\n",
       "      term=radioimmunoprecipitation\n",
       "      term_source=\n",
       "      term_accession=\n",
       "      comments=0 Comment objects\n",
       "  ), uri=, description=, version=, parameter_values=[isatools.model.ParameterValue(category=isatools.model.ProtocolParameter(parameter_name=isatools.model.OntologyAnnotation(term='instrument', term_source=None, term_accession='', comments=[]), comments=[]), value=isatools.model.OntologyAnnotation(term='Beckon Dickison XYZ', term_source=None, term_accession='', comments=[]), unit=None, comments=[]), isatools.model.ParameterValue(category=isatools.model.ProtocolParameter(parameter_name=isatools.model.OntologyAnnotation(term='antibody', term_source=None, term_accession='', comments=[]), comments=[]), value=isatools.model.OntologyAnnotation(term='AbCam antiMelatonine ', term_source=None, term_accession='', comments=[]), unit=None, comments=[]), isatools.model.ParameterValue(category=isatools.model.ProtocolParameter(parameter_name=isatools.model.OntologyAnnotation(term='time point', term_source=None, term_accession='', comments=[]), comments=[]), value=isatools.model.OntologyAnnotation(term='8 hr', term_source=None, term_accession='', comments=[]), unit=None, comments=[])]), isatools.create.models.ProductNode(id=raw_data_file_000_006, type=data file, name=raw_data_file, characteristics=[], size=1), isatools.create.models.ProductNode(id=raw_data_file_000_007, type=data file, name=raw_data_file, characteristics=[], size=1), isatools.create.models.ProtocolNode(id=radioimmunoprecipitation_000_000, name=radioimmunoprecipitation, protocol_type=OntologyAnnotation(\n",
       "      term=radioimmunoprecipitation\n",
       "      term_source=\n",
       "      term_accession=\n",
       "      comments=0 Comment objects\n",
       "  ), uri=, description=, version=, parameter_values=[isatools.model.ParameterValue(category=isatools.model.ProtocolParameter(parameter_name=isatools.model.OntologyAnnotation(term='instrument', term_source=None, term_accession='', comments=[]), comments=[]), value=isatools.model.OntologyAnnotation(term='Beckon Dickison XYZ', term_source=None, term_accession='', comments=[]), unit=None, comments=[]), isatools.model.ParameterValue(category=isatools.model.ProtocolParameter(parameter_name=isatools.model.OntologyAnnotation(term='antibody', term_source=None, term_accession='', comments=[]), comments=[]), value=isatools.model.OntologyAnnotation(term='AbCam antiMelatonine ', term_source=None, term_accession='', comments=[]), unit=None, comments=[]), isatools.model.ParameterValue(category=isatools.model.ProtocolParameter(parameter_name=isatools.model.OntologyAnnotation(term='time point', term_source=None, term_accession='', comments=[]), comments=[]), value=isatools.model.OntologyAnnotation(term='1 hr', term_source=None, term_accession='', comments=[]), unit=None, comments=[])]), isatools.create.models.ProductNode(id=raw_data_file_000_000, type=data file, name=raw_data_file, characteristics=[], size=1), isatools.create.models.ProtocolNode(id=radioimmunoprecipitation_006_000, name=radioimmunoprecipitation, protocol_type=OntologyAnnotation(\n",
       "      term=radioimmunoprecipitation\n",
       "      term_source=\n",
       "      term_accession=\n",
       "      comments=0 Comment objects\n",
       "  ), uri=, description=, version=, parameter_values=[isatools.model.ParameterValue(category=isatools.model.ProtocolParameter(parameter_name=isatools.model.OntologyAnnotation(term='instrument', term_source=None, term_accession='', comments=[]), comments=[]), value=isatools.model.OntologyAnnotation(term='Beckon Dickison XYZ', term_source=None, term_accession='', comments=[]), unit=None, comments=[]), isatools.model.ParameterValue(category=isatools.model.ProtocolParameter(parameter_name=isatools.model.OntologyAnnotation(term='antibody', term_source=None, term_accession='', comments=[]), comments=[]), value=isatools.model.OntologyAnnotation(term='AbCam antiMelatonine ', term_source=None, term_accession='', comments=[]), unit=None, comments=[]), isatools.model.ParameterValue(category=isatools.model.ProtocolParameter(parameter_name=isatools.model.OntologyAnnotation(term='time point', term_source=None, term_accession='', comments=[]), comments=[]), value=isatools.model.OntologyAnnotation(term='7 hr', term_source=None, term_accession='', comments=[]), unit=None, comments=[])]), isatools.create.models.ProductNode(id=raw_data_file_000_001, type=data file, name=raw_data_file, characteristics=[], size=1), isatools.create.models.ProtocolNode(id=radioimmunoprecipitation_003_000, name=radioimmunoprecipitation, protocol_type=OntologyAnnotation(\n",
       "      term=radioimmunoprecipitation\n",
       "      term_source=\n",
       "      term_accession=\n",
       "      comments=0 Comment objects\n",
       "  ), uri=, description=, version=, parameter_values=[isatools.model.ParameterValue(category=isatools.model.ProtocolParameter(parameter_name=isatools.model.OntologyAnnotation(term='instrument', term_source=None, term_accession='', comments=[]), comments=[]), value=isatools.model.OntologyAnnotation(term='Beckon Dickison XYZ', term_source=None, term_accession='', comments=[]), unit=None, comments=[]), isatools.model.ParameterValue(category=isatools.model.ProtocolParameter(parameter_name=isatools.model.OntologyAnnotation(term='antibody', term_source=None, term_accession='', comments=[]), comments=[]), value=isatools.model.OntologyAnnotation(term='AbCam antiMelatonine ', term_source=None, term_accession='', comments=[]), unit=None, comments=[]), isatools.model.ParameterValue(category=isatools.model.ProtocolParameter(parameter_name=isatools.model.OntologyAnnotation(term='time point', term_source=None, term_accession='', comments=[]), comments=[]), value=isatools.model.OntologyAnnotation(term='4 hr', term_source=None, term_accession='', comments=[]), unit=None, comments=[])]), isatools.create.models.ProtocolNode(id=radioimmunoprecipitation_002_000, name=radioimmunoprecipitation, protocol_type=OntologyAnnotation(\n",
       "      term=radioimmunoprecipitation\n",
       "      term_source=\n",
       "      term_accession=\n",
       "      comments=0 Comment objects\n",
       "  ), uri=, description=, version=, parameter_values=[isatools.model.ParameterValue(category=isatools.model.ProtocolParameter(parameter_name=isatools.model.OntologyAnnotation(term='instrument', term_source=None, term_accession='', comments=[]), comments=[]), value=isatools.model.OntologyAnnotation(term='Beckon Dickison XYZ', term_source=None, term_accession='', comments=[]), unit=None, comments=[]), isatools.model.ParameterValue(category=isatools.model.ProtocolParameter(parameter_name=isatools.model.OntologyAnnotation(term='antibody', term_source=None, term_accession='', comments=[]), comments=[]), value=isatools.model.OntologyAnnotation(term='AbCam antiMelatonine ', term_source=None, term_accession='', comments=[]), unit=None, comments=[]), isatools.model.ParameterValue(category=isatools.model.ProtocolParameter(parameter_name=isatools.model.OntologyAnnotation(term='time point', term_source=None, term_accession='', comments=[]), comments=[]), value=isatools.model.OntologyAnnotation(term='3 hr', term_source=None, term_accession='', comments=[]), unit=None, comments=[])]), isatools.create.models.ProductNode(id=extract_000_000, type=extract, name=extract, characteristics=[isatools.model.Characteristic(category=isatools.model.OntologyAnnotation(term='extract type', term_source=None, term_accession='', comments=[]), value=isatools.model.OntologyAnnotation(term='extract', term_source=None, term_accession='', comments=[]), unit=None, comments=[])], size=1), isatools.create.models.ProductNode(id=raw_data_file_000_002, type=data file, name=raw_data_file, characteristics=[], size=1), isatools.create.models.ProductNode(id=raw_data_file_000_003, type=data file, name=raw_data_file, characteristics=[], size=1), isatools.create.models.ProtocolNode(id=radioimmunoprecipitation_005_000, name=radioimmunoprecipitation, protocol_type=OntologyAnnotation(\n",
       "      term=radioimmunoprecipitation\n",
       "      term_source=\n",
       "      term_accession=\n",
       "      comments=0 Comment objects\n",
       "  ), uri=, description=, version=, parameter_values=[isatools.model.ParameterValue(category=isatools.model.ProtocolParameter(parameter_name=isatools.model.OntologyAnnotation(term='instrument', term_source=None, term_accession='', comments=[]), comments=[]), value=isatools.model.OntologyAnnotation(term='Beckon Dickison XYZ', term_source=None, term_accession='', comments=[]), unit=None, comments=[]), isatools.model.ParameterValue(category=isatools.model.ProtocolParameter(parameter_name=isatools.model.OntologyAnnotation(term='antibody', term_source=None, term_accession='', comments=[]), comments=[]), value=isatools.model.OntologyAnnotation(term='AbCam antiMelatonine ', term_source=None, term_accession='', comments=[]), unit=None, comments=[]), isatools.model.ParameterValue(category=isatools.model.ProtocolParameter(parameter_name=isatools.model.OntologyAnnotation(term='time point', term_source=None, term_accession='', comments=[]), comments=[]), value=isatools.model.OntologyAnnotation(term='6 hr', term_source=None, term_accession='', comments=[]), unit=None, comments=[])]), isatools.create.models.ProtocolNode(id=radioimmunoprecipitation_004_000, name=radioimmunoprecipitation, protocol_type=OntologyAnnotation(\n",
       "      term=radioimmunoprecipitation\n",
       "      term_source=\n",
       "      term_accession=\n",
       "      comments=0 Comment objects\n",
       "  ), uri=, description=, version=, parameter_values=[isatools.model.ParameterValue(category=isatools.model.ProtocolParameter(parameter_name=isatools.model.OntologyAnnotation(term='instrument', term_source=None, term_accession='', comments=[]), comments=[]), value=isatools.model.OntologyAnnotation(term='Beckon Dickison XYZ', term_source=None, term_accession='', comments=[]), unit=None, comments=[]), isatools.model.ParameterValue(category=isatools.model.ProtocolParameter(parameter_name=isatools.model.OntologyAnnotation(term='antibody', term_source=None, term_accession='', comments=[]), comments=[]), value=isatools.model.OntologyAnnotation(term='AbCam antiMelatonine ', term_source=None, term_accession='', comments=[]), unit=None, comments=[]), isatools.model.ParameterValue(category=isatools.model.ProtocolParameter(parameter_name=isatools.model.OntologyAnnotation(term='time point', term_source=None, term_accession='', comments=[]), comments=[]), value=isatools.model.OntologyAnnotation(term='5 hr', term_source=None, term_accession='', comments=[]), unit=None, comments=[])]), isatools.create.models.ProductNode(id=raw_data_file_000_004, type=data file, name=raw_data_file, characteristics=[], size=1), isatools.create.models.ProtocolNode(id=radioimmunoprecipitation_001_000, name=radioimmunoprecipitation, protocol_type=OntologyAnnotation(\n",
       "      term=radioimmunoprecipitation\n",
       "      term_source=\n",
       "      term_accession=\n",
       "      comments=0 Comment objects\n",
       "  ), uri=, description=, version=, parameter_values=[isatools.model.ParameterValue(category=isatools.model.ProtocolParameter(parameter_name=isatools.model.OntologyAnnotation(term='instrument', term_source=None, term_accession='', comments=[]), comments=[]), value=isatools.model.OntologyAnnotation(term='Beckon Dickison XYZ', term_source=None, term_accession='', comments=[]), unit=None, comments=[]), isatools.model.ParameterValue(category=isatools.model.ProtocolParameter(parameter_name=isatools.model.OntologyAnnotation(term='antibody', term_source=None, term_accession='', comments=[]), comments=[]), value=isatools.model.OntologyAnnotation(term='AbCam antiMelatonine ', term_source=None, term_accession='', comments=[]), unit=None, comments=[]), isatools.model.ParameterValue(category=isatools.model.ProtocolParameter(parameter_name=isatools.model.OntologyAnnotation(term='time point', term_source=None, term_accession='', comments=[]), comments=[]), value=isatools.model.OntologyAnnotation(term='2 hr', term_source=None, term_accession='', comments=[]), unit=None, comments=[])])}, links=[('extract_000_000', 'radioimmunoprecipitation_000_000'), ('extract_000_000', 'radioimmunoprecipitation_001_000'), ('extract_000_000', 'radioimmunoprecipitation_002_000'), ('extract_000_000', 'radioimmunoprecipitation_003_000'), ('extract_000_000', 'radioimmunoprecipitation_004_000'), ('extract_000_000', 'radioimmunoprecipitation_005_000'), ('extract_000_000', 'radioimmunoprecipitation_006_000'), ('extract_000_000', 'radioimmunoprecipitation_007_000'), ('extraction_000', 'extract_000_000'), ('radioimmunoprecipitation_000_000', 'raw_data_file_000_000'), ('radioimmunoprecipitation_001_000', 'raw_data_file_000_001'), ('radioimmunoprecipitation_002_000', 'raw_data_file_000_002'), ('radioimmunoprecipitation_003_000', 'raw_data_file_000_003'), ('radioimmunoprecipitation_004_000', 'raw_data_file_000_004'), ('radioimmunoprecipitation_005_000', 'raw_data_file_000_005'), ('radioimmunoprecipitation_006_000', 'raw_data_file_000_006'), ('radioimmunoprecipitation_007_000', 'raw_data_file_000_007')], quality_control=None),\n",
       "  isatools.create.models.AssayGraph(id=fe8f737f-763b-4b4b-9976-3d6434281f02, measurement_type=OntologyAnnotation(\n",
       "      term=light sensitivity phenotyping\n",
       "      term_source=\n",
       "      term_accession=\n",
       "      comments=0 Comment objects\n",
       "  ), technology_type=OntologyAnnotation(\n",
       "      term=direct measurement\n",
       "      term_source=\n",
       "      term_accession=\n",
       "      comments=0 Comment objects\n",
       "  ), nodes={isatools.create.models.ProtocolNode(id=data_collection_017, name=data_collection, protocol_type=OntologyAnnotation(\n",
       "      term=data_collection\n",
       "      term_source=\n",
       "      term_accession=\n",
       "      comments=0 Comment objects\n",
       "  ), uri=, description=, version=, parameter_values=[isatools.model.ParameterValue(category=isatools.model.ProtocolParameter(parameter_name=isatools.model.OntologyAnnotation(term='variables', term_source=None, term_accession='', comments=[]), comments=[]), value=isatools.model.OntologyAnnotation(term='pupilla size', term_source=None, term_accession='', comments=[]), unit=None, comments=[]), isatools.model.ParameterValue(category=isatools.model.ProtocolParameter(parameter_name=isatools.model.OntologyAnnotation(term='time point', term_source=None, term_accession='', comments=[]), comments=[]), value=isatools.model.OntologyAnnotation(term='2 hr', term_source=None, term_accession='', comments=[]), unit=None, comments=[])]), isatools.create.models.ProductNode(id=raw_data_file_000_017, type=data file, name=raw_data_file, characteristics=[], size=1), isatools.create.models.ProductNode(id=raw_data_file_000_006, type=data file, name=raw_data_file, characteristics=[], size=1), isatools.create.models.ProtocolNode(id=data_collection_020, name=data_collection, protocol_type=OntologyAnnotation(\n",
       "      term=data_collection\n",
       "      term_source=\n",
       "      term_accession=\n",
       "      comments=0 Comment objects\n",
       "  ), uri=, description=, version=, parameter_values=[isatools.model.ParameterValue(category=isatools.model.ProtocolParameter(parameter_name=isatools.model.OntologyAnnotation(term='variables', term_source=None, term_accession='', comments=[]), comments=[]), value=isatools.model.OntologyAnnotation(term='pupilla size', term_source=None, term_accession='', comments=[]), unit=None, comments=[]), isatools.model.ParameterValue(category=isatools.model.ProtocolParameter(parameter_name=isatools.model.OntologyAnnotation(term='time point', term_source=None, term_accession='', comments=[]), comments=[]), value=isatools.model.OntologyAnnotation(term='5 hr', term_source=None, term_accession='', comments=[]), unit=None, comments=[])]), isatools.create.models.ProductNode(id=raw_data_file_000_007, type=data file, name=raw_data_file, characteristics=[], size=1), isatools.create.models.ProductNode(id=raw_data_file_000_001, type=data file, name=raw_data_file, characteristics=[], size=1), isatools.create.models.ProtocolNode(id=data_collection_001, name=data_collection, protocol_type=OntologyAnnotation(\n",
       "      term=data_collection\n",
       "      term_source=\n",
       "      term_accession=\n",
       "      comments=0 Comment objects\n",
       "  ), uri=, description=, version=, parameter_values=[isatools.model.ParameterValue(category=isatools.model.ProtocolParameter(parameter_name=isatools.model.OntologyAnnotation(term='variables', term_source=None, term_accession='', comments=[]), comments=[]), value=isatools.model.OntologyAnnotation(term='sleepiness', term_source=None, term_accession='', comments=[]), unit=None, comments=[]), isatools.model.ParameterValue(category=isatools.model.ProtocolParameter(parameter_name=isatools.model.OntologyAnnotation(term='time point', term_source=None, term_accession='', comments=[]), comments=[]), value=isatools.model.OntologyAnnotation(term='2 hr', term_source=None, term_accession='', comments=[]), unit=None, comments=[])]), isatools.create.models.ProductNode(id=raw_data_file_000_010, type=data file, name=raw_data_file, characteristics=[], size=1), isatools.create.models.ProductNode(id=raw_data_file_000_012, type=data file, name=raw_data_file, characteristics=[], size=1), isatools.create.models.ProductNode(id=raw_data_file_000_011, type=data file, name=raw_data_file, characteristics=[], size=1), isatools.create.models.ProtocolNode(id=data_collection_015, name=data_collection, protocol_type=OntologyAnnotation(\n",
       "      term=data_collection\n",
       "      term_source=\n",
       "      term_accession=\n",
       "      comments=0 Comment objects\n",
       "  ), uri=, description=, version=, parameter_values=[isatools.model.ParameterValue(category=isatools.model.ProtocolParameter(parameter_name=isatools.model.OntologyAnnotation(term='variables', term_source=None, term_accession='', comments=[]), comments=[]), value=isatools.model.OntologyAnnotation(term='heart rate', term_source=None, term_accession='', comments=[]), unit=None, comments=[]), isatools.model.ParameterValue(category=isatools.model.ProtocolParameter(parameter_name=isatools.model.OntologyAnnotation(term='time point', term_source=None, term_accession='', comments=[]), comments=[]), value=isatools.model.OntologyAnnotation(term='8 hr', term_source=None, term_accession='', comments=[]), unit=None, comments=[])]), isatools.create.models.ProductNode(id=raw_data_file_000_003, type=data file, name=raw_data_file, characteristics=[], size=1), isatools.create.models.ProductNode(id=raw_data_file_000_015, type=data file, name=raw_data_file, characteristics=[], size=1), isatools.create.models.ProtocolNode(id=data_collection_011, name=data_collection, protocol_type=OntologyAnnotation(\n",
       "      term=data_collection\n",
       "      term_source=\n",
       "      term_accession=\n",
       "      comments=0 Comment objects\n",
       "  ), uri=, description=, version=, parameter_values=[isatools.model.ParameterValue(category=isatools.model.ProtocolParameter(parameter_name=isatools.model.OntologyAnnotation(term='variables', term_source=None, term_accession='', comments=[]), comments=[]), value=isatools.model.OntologyAnnotation(term='heart rate', term_source=None, term_accession='', comments=[]), unit=None, comments=[]), isatools.model.ParameterValue(category=isatools.model.ProtocolParameter(parameter_name=isatools.model.OntologyAnnotation(term='time point', term_source=None, term_accession='', comments=[]), comments=[]), value=isatools.model.OntologyAnnotation(term='4 hr', term_source=None, term_accession='', comments=[]), unit=None, comments=[])]), isatools.create.models.ProtocolNode(id=data_collection_012, name=data_collection, protocol_type=OntologyAnnotation(\n",
       "      term=data_collection\n",
       "      term_source=\n",
       "      term_accession=\n",
       "      comments=0 Comment objects\n",
       "  ), uri=, description=, version=, parameter_values=[isatools.model.ParameterValue(category=isatools.model.ProtocolParameter(parameter_name=isatools.model.OntologyAnnotation(term='variables', term_source=None, term_accession='', comments=[]), comments=[]), value=isatools.model.OntologyAnnotation(term='heart rate', term_source=None, term_accession='', comments=[]), unit=None, comments=[]), isatools.model.ParameterValue(category=isatools.model.ProtocolParameter(parameter_name=isatools.model.OntologyAnnotation(term='time point', term_source=None, term_accession='', comments=[]), comments=[]), value=isatools.model.OntologyAnnotation(term='5 hr', term_source=None, term_accession='', comments=[]), unit=None, comments=[])]), isatools.create.models.ProtocolNode(id=data_collection_002, name=data_collection, protocol_type=OntologyAnnotation(\n",
       "      term=data_collection\n",
       "      term_source=\n",
       "      term_accession=\n",
       "      comments=0 Comment objects\n",
       "  ), uri=, description=, version=, parameter_values=[isatools.model.ParameterValue(category=isatools.model.ProtocolParameter(parameter_name=isatools.model.OntologyAnnotation(term='variables', term_source=None, term_accession='', comments=[]), comments=[]), value=isatools.model.OntologyAnnotation(term='sleepiness', term_source=None, term_accession='', comments=[]), unit=None, comments=[]), isatools.model.ParameterValue(category=isatools.model.ProtocolParameter(parameter_name=isatools.model.OntologyAnnotation(term='time point', term_source=None, term_accession='', comments=[]), comments=[]), value=isatools.model.OntologyAnnotation(term='3 hr', term_source=None, term_accession='', comments=[]), unit=None, comments=[])]), isatools.create.models.ProtocolNode(id=data_collection_003, name=data_collection, protocol_type=OntologyAnnotation(\n",
       "      term=data_collection\n",
       "      term_source=\n",
       "      term_accession=\n",
       "      comments=0 Comment objects\n",
       "  ), uri=, description=, version=, parameter_values=[isatools.model.ParameterValue(category=isatools.model.ProtocolParameter(parameter_name=isatools.model.OntologyAnnotation(term='variables', term_source=None, term_accession='', comments=[]), comments=[]), value=isatools.model.OntologyAnnotation(term='sleepiness', term_source=None, term_accession='', comments=[]), unit=None, comments=[]), isatools.model.ParameterValue(category=isatools.model.ProtocolParameter(parameter_name=isatools.model.OntologyAnnotation(term='time point', term_source=None, term_accession='', comments=[]), comments=[]), value=isatools.model.OntologyAnnotation(term='4 hr', term_source=None, term_accession='', comments=[]), unit=None, comments=[])]), isatools.create.models.ProtocolNode(id=data_collection_009, name=data_collection, protocol_type=OntologyAnnotation(\n",
       "      term=data_collection\n",
       "      term_source=\n",
       "      term_accession=\n",
       "      comments=0 Comment objects\n",
       "  ), uri=, description=, version=, parameter_values=[isatools.model.ParameterValue(category=isatools.model.ProtocolParameter(parameter_name=isatools.model.OntologyAnnotation(term='variables', term_source=None, term_accession='', comments=[]), comments=[]), value=isatools.model.OntologyAnnotation(term='heart rate', term_source=None, term_accession='', comments=[]), unit=None, comments=[]), isatools.model.ParameterValue(category=isatools.model.ProtocolParameter(parameter_name=isatools.model.OntologyAnnotation(term='time point', term_source=None, term_accession='', comments=[]), comments=[]), value=isatools.model.OntologyAnnotation(term='2 hr', term_source=None, term_accession='', comments=[]), unit=None, comments=[])]), isatools.create.models.ProductNode(id=raw_data_file_000_009, type=data file, name=raw_data_file, characteristics=[], size=1), isatools.create.models.ProductNode(id=raw_data_file_000_002, type=data file, name=raw_data_file, characteristics=[], size=1), isatools.create.models.ProductNode(id=raw_data_file_000_021, type=data file, name=raw_data_file, characteristics=[], size=1), isatools.create.models.ProductNode(id=raw_data_file_000_014, type=data file, name=raw_data_file, characteristics=[], size=1), isatools.create.models.ProtocolNode(id=data_collection_021, name=data_collection, protocol_type=OntologyAnnotation(\n",
       "      term=data_collection\n",
       "      term_source=\n",
       "      term_accession=\n",
       "      comments=0 Comment objects\n",
       "  ), uri=, description=, version=, parameter_values=[isatools.model.ParameterValue(category=isatools.model.ProtocolParameter(parameter_name=isatools.model.OntologyAnnotation(term='variables', term_source=None, term_accession='', comments=[]), comments=[]), value=isatools.model.OntologyAnnotation(term='pupilla size', term_source=None, term_accession='', comments=[]), unit=None, comments=[]), isatools.model.ParameterValue(category=isatools.model.ProtocolParameter(parameter_name=isatools.model.OntologyAnnotation(term='time point', term_source=None, term_accession='', comments=[]), comments=[]), value=isatools.model.OntologyAnnotation(term='6 hr', term_source=None, term_accession='', comments=[]), unit=None, comments=[])]), isatools.create.models.ProductNode(id=raw_data_file_000_004, type=data file, name=raw_data_file, characteristics=[], size=1), isatools.create.models.ProtocolNode(id=data_collection_000, name=data_collection, protocol_type=OntologyAnnotation(\n",
       "      term=data_collection\n",
       "      term_source=\n",
       "      term_accession=\n",
       "      comments=0 Comment objects\n",
       "  ), uri=, description=, version=, parameter_values=[isatools.model.ParameterValue(category=isatools.model.ProtocolParameter(parameter_name=isatools.model.OntologyAnnotation(term='variables', term_source=None, term_accession='', comments=[]), comments=[]), value=isatools.model.OntologyAnnotation(term='sleepiness', term_source=None, term_accession='', comments=[]), unit=None, comments=[]), isatools.model.ParameterValue(category=isatools.model.ProtocolParameter(parameter_name=isatools.model.OntologyAnnotation(term='time point', term_source=None, term_accession='', comments=[]), comments=[]), value=isatools.model.OntologyAnnotation(term='1 hr', term_source=None, term_accession='', comments=[]), unit=None, comments=[])]), isatools.create.models.ProtocolNode(id=data_collection_004, name=data_collection, protocol_type=OntologyAnnotation(\n",
       "      term=data_collection\n",
       "      term_source=\n",
       "      term_accession=\n",
       "      comments=0 Comment objects\n",
       "  ), uri=, description=, version=, parameter_values=[isatools.model.ParameterValue(category=isatools.model.ProtocolParameter(parameter_name=isatools.model.OntologyAnnotation(term='variables', term_source=None, term_accession='', comments=[]), comments=[]), value=isatools.model.OntologyAnnotation(term='sleepiness', term_source=None, term_accession='', comments=[]), unit=None, comments=[]), isatools.model.ParameterValue(category=isatools.model.ProtocolParameter(parameter_name=isatools.model.OntologyAnnotation(term='time point', term_source=None, term_accession='', comments=[]), comments=[]), value=isatools.model.OntologyAnnotation(term='5 hr', term_source=None, term_accession='', comments=[]), unit=None, comments=[])]), isatools.create.models.ProtocolNode(id=data_collection_008, name=data_collection, protocol_type=OntologyAnnotation(\n",
       "      term=data_collection\n",
       "      term_source=\n",
       "      term_accession=\n",
       "      comments=0 Comment objects\n",
       "  ), uri=, description=, version=, parameter_values=[isatools.model.ParameterValue(category=isatools.model.ProtocolParameter(parameter_name=isatools.model.OntologyAnnotation(term='variables', term_source=None, term_accession='', comments=[]), comments=[]), value=isatools.model.OntologyAnnotation(term='heart rate', term_source=None, term_accession='', comments=[]), unit=None, comments=[]), isatools.model.ParameterValue(category=isatools.model.ProtocolParameter(parameter_name=isatools.model.OntologyAnnotation(term='time point', term_source=None, term_accession='', comments=[]), comments=[]), value=isatools.model.OntologyAnnotation(term='1 hr', term_source=None, term_accession='', comments=[]), unit=None, comments=[])]), isatools.create.models.ProtocolNode(id=data_collection_010, name=data_collection, protocol_type=OntologyAnnotation(\n",
       "      term=data_collection\n",
       "      term_source=\n",
       "      term_accession=\n",
       "      comments=0 Comment objects\n",
       "  ), uri=, description=, version=, parameter_values=[isatools.model.ParameterValue(category=isatools.model.ProtocolParameter(parameter_name=isatools.model.OntologyAnnotation(term='variables', term_source=None, term_accession='', comments=[]), comments=[]), value=isatools.model.OntologyAnnotation(term='heart rate', term_source=None, term_accession='', comments=[]), unit=None, comments=[]), isatools.model.ParameterValue(category=isatools.model.ProtocolParameter(parameter_name=isatools.model.OntologyAnnotation(term='time point', term_source=None, term_accession='', comments=[]), comments=[]), value=isatools.model.OntologyAnnotation(term='3 hr', term_source=None, term_accession='', comments=[]), unit=None, comments=[])]), isatools.create.models.ProtocolNode(id=data_collection_023, name=data_collection, protocol_type=OntologyAnnotation(\n",
       "      term=data_collection\n",
       "      term_source=\n",
       "      term_accession=\n",
       "      comments=0 Comment objects\n",
       "  ), uri=, description=, version=, parameter_values=[isatools.model.ParameterValue(category=isatools.model.ProtocolParameter(parameter_name=isatools.model.OntologyAnnotation(term='variables', term_source=None, term_accession='', comments=[]), comments=[]), value=isatools.model.OntologyAnnotation(term='pupilla size', term_source=None, term_accession='', comments=[]), unit=None, comments=[]), isatools.model.ParameterValue(category=isatools.model.ProtocolParameter(parameter_name=isatools.model.OntologyAnnotation(term='time point', term_source=None, term_accession='', comments=[]), comments=[]), value=isatools.model.OntologyAnnotation(term='8 hr', term_source=None, term_accession='', comments=[]), unit=None, comments=[])]), isatools.create.models.ProtocolNode(id=data_collection_005, name=data_collection, protocol_type=OntologyAnnotation(\n",
       "      term=data_collection\n",
       "      term_source=\n",
       "      term_accession=\n",
       "      comments=0 Comment objects\n",
       "  ), uri=, description=, version=, parameter_values=[isatools.model.ParameterValue(category=isatools.model.ProtocolParameter(parameter_name=isatools.model.OntologyAnnotation(term='variables', term_source=None, term_accession='', comments=[]), comments=[]), value=isatools.model.OntologyAnnotation(term='sleepiness', term_source=None, term_accession='', comments=[]), unit=None, comments=[]), isatools.model.ParameterValue(category=isatools.model.ProtocolParameter(parameter_name=isatools.model.OntologyAnnotation(term='time point', term_source=None, term_accession='', comments=[]), comments=[]), value=isatools.model.OntologyAnnotation(term='6 hr', term_source=None, term_accession='', comments=[]), unit=None, comments=[])]), isatools.create.models.ProductNode(id=raw_data_file_000_008, type=data file, name=raw_data_file, characteristics=[], size=1), isatools.create.models.ProductNode(id=raw_data_file_000_019, type=data file, name=raw_data_file, characteristics=[], size=1), isatools.create.models.ProtocolNode(id=data_collection_016, name=data_collection, protocol_type=OntologyAnnotation(\n",
       "      term=data_collection\n",
       "      term_source=\n",
       "      term_accession=\n",
       "      comments=0 Comment objects\n",
       "  ), uri=, description=, version=, parameter_values=[isatools.model.ParameterValue(category=isatools.model.ProtocolParameter(parameter_name=isatools.model.OntologyAnnotation(term='variables', term_source=None, term_accession='', comments=[]), comments=[]), value=isatools.model.OntologyAnnotation(term='pupilla size', term_source=None, term_accession='', comments=[]), unit=None, comments=[]), isatools.model.ParameterValue(category=isatools.model.ProtocolParameter(parameter_name=isatools.model.OntologyAnnotation(term='time point', term_source=None, term_accession='', comments=[]), comments=[]), value=isatools.model.OntologyAnnotation(term='1 hr', term_source=None, term_accession='', comments=[]), unit=None, comments=[])]), isatools.create.models.ProtocolNode(id=data_collection_019, name=data_collection, protocol_type=OntologyAnnotation(\n",
       "      term=data_collection\n",
       "      term_source=\n",
       "      term_accession=\n",
       "      comments=0 Comment objects\n",
       "  ), uri=, description=, version=, parameter_values=[isatools.model.ParameterValue(category=isatools.model.ProtocolParameter(parameter_name=isatools.model.OntologyAnnotation(term='variables', term_source=None, term_accession='', comments=[]), comments=[]), value=isatools.model.OntologyAnnotation(term='pupilla size', term_source=None, term_accession='', comments=[]), unit=None, comments=[]), isatools.model.ParameterValue(category=isatools.model.ProtocolParameter(parameter_name=isatools.model.OntologyAnnotation(term='time point', term_source=None, term_accession='', comments=[]), comments=[]), value=isatools.model.OntologyAnnotation(term='4 hr', term_source=None, term_accession='', comments=[]), unit=None, comments=[])]), isatools.create.models.ProtocolNode(id=data_collection_014, name=data_collection, protocol_type=OntologyAnnotation(\n",
       "      term=data_collection\n",
       "      term_source=\n",
       "      term_accession=\n",
       "      comments=0 Comment objects\n",
       "  ), uri=, description=, version=, parameter_values=[isatools.model.ParameterValue(category=isatools.model.ProtocolParameter(parameter_name=isatools.model.OntologyAnnotation(term='variables', term_source=None, term_accession='', comments=[]), comments=[]), value=isatools.model.OntologyAnnotation(term='heart rate', term_source=None, term_accession='', comments=[]), unit=None, comments=[]), isatools.model.ParameterValue(category=isatools.model.ProtocolParameter(parameter_name=isatools.model.OntologyAnnotation(term='time point', term_source=None, term_accession='', comments=[]), comments=[]), value=isatools.model.OntologyAnnotation(term='7 hr', term_source=None, term_accession='', comments=[]), unit=None, comments=[])]), isatools.create.models.ProtocolNode(id=data_collection_022, name=data_collection, protocol_type=OntologyAnnotation(\n",
       "      term=data_collection\n",
       "      term_source=\n",
       "      term_accession=\n",
       "      comments=0 Comment objects\n",
       "  ), uri=, description=, version=, parameter_values=[isatools.model.ParameterValue(category=isatools.model.ProtocolParameter(parameter_name=isatools.model.OntologyAnnotation(term='variables', term_source=None, term_accession='', comments=[]), comments=[]), value=isatools.model.OntologyAnnotation(term='pupilla size', term_source=None, term_accession='', comments=[]), unit=None, comments=[]), isatools.model.ParameterValue(category=isatools.model.ProtocolParameter(parameter_name=isatools.model.OntologyAnnotation(term='time point', term_source=None, term_accession='', comments=[]), comments=[]), value=isatools.model.OntologyAnnotation(term='7 hr', term_source=None, term_accession='', comments=[]), unit=None, comments=[])]), isatools.create.models.ProductNode(id=raw_data_file_000_005, type=data file, name=raw_data_file, characteristics=[], size=1), isatools.create.models.ProtocolNode(id=data_collection_007, name=data_collection, protocol_type=OntologyAnnotation(\n",
       "      term=data_collection\n",
       "      term_source=\n",
       "      term_accession=\n",
       "      comments=0 Comment objects\n",
       "  ), uri=, description=, version=, parameter_values=[isatools.model.ParameterValue(category=isatools.model.ProtocolParameter(parameter_name=isatools.model.OntologyAnnotation(term='variables', term_source=None, term_accession='', comments=[]), comments=[]), value=isatools.model.OntologyAnnotation(term='sleepiness', term_source=None, term_accession='', comments=[]), unit=None, comments=[]), isatools.model.ParameterValue(category=isatools.model.ProtocolParameter(parameter_name=isatools.model.OntologyAnnotation(term='time point', term_source=None, term_accession='', comments=[]), comments=[]), value=isatools.model.OntologyAnnotation(term='8 hr', term_source=None, term_accession='', comments=[]), unit=None, comments=[])]), isatools.create.models.ProductNode(id=raw_data_file_000_018, type=data file, name=raw_data_file, characteristics=[], size=1), isatools.create.models.ProductNode(id=raw_data_file_000_013, type=data file, name=raw_data_file, characteristics=[], size=1), isatools.create.models.ProductNode(id=raw_data_file_000_022, type=data file, name=raw_data_file, characteristics=[], size=1), isatools.create.models.ProductNode(id=raw_data_file_000_016, type=data file, name=raw_data_file, characteristics=[], size=1), isatools.create.models.ProtocolNode(id=data_collection_013, name=data_collection, protocol_type=OntologyAnnotation(\n",
       "      term=data_collection\n",
       "      term_source=\n",
       "      term_accession=\n",
       "      comments=0 Comment objects\n",
       "  ), uri=, description=, version=, parameter_values=[isatools.model.ParameterValue(category=isatools.model.ProtocolParameter(parameter_name=isatools.model.OntologyAnnotation(term='variables', term_source=None, term_accession='', comments=[]), comments=[]), value=isatools.model.OntologyAnnotation(term='heart rate', term_source=None, term_accession='', comments=[]), unit=None, comments=[]), isatools.model.ParameterValue(category=isatools.model.ProtocolParameter(parameter_name=isatools.model.OntologyAnnotation(term='time point', term_source=None, term_accession='', comments=[]), comments=[]), value=isatools.model.OntologyAnnotation(term='6 hr', term_source=None, term_accession='', comments=[]), unit=None, comments=[])]), isatools.create.models.ProductNode(id=raw_data_file_000_000, type=data file, name=raw_data_file, characteristics=[], size=1), isatools.create.models.ProductNode(id=raw_data_file_000_023, type=data file, name=raw_data_file, characteristics=[], size=1), isatools.create.models.ProtocolNode(id=data_collection_018, name=data_collection, protocol_type=OntologyAnnotation(\n",
       "      term=data_collection\n",
       "      term_source=\n",
       "      term_accession=\n",
       "      comments=0 Comment objects\n",
       "  ), uri=, description=, version=, parameter_values=[isatools.model.ParameterValue(category=isatools.model.ProtocolParameter(parameter_name=isatools.model.OntologyAnnotation(term='variables', term_source=None, term_accession='', comments=[]), comments=[]), value=isatools.model.OntologyAnnotation(term='pupilla size', term_source=None, term_accession='', comments=[]), unit=None, comments=[]), isatools.model.ParameterValue(category=isatools.model.ProtocolParameter(parameter_name=isatools.model.OntologyAnnotation(term='time point', term_source=None, term_accession='', comments=[]), comments=[]), value=isatools.model.OntologyAnnotation(term='3 hr', term_source=None, term_accession='', comments=[]), unit=None, comments=[])]), isatools.create.models.ProtocolNode(id=data_collection_006, name=data_collection, protocol_type=OntologyAnnotation(\n",
       "      term=data_collection\n",
       "      term_source=\n",
       "      term_accession=\n",
       "      comments=0 Comment objects\n",
       "  ), uri=, description=, version=, parameter_values=[isatools.model.ParameterValue(category=isatools.model.ProtocolParameter(parameter_name=isatools.model.OntologyAnnotation(term='variables', term_source=None, term_accession='', comments=[]), comments=[]), value=isatools.model.OntologyAnnotation(term='sleepiness', term_source=None, term_accession='', comments=[]), unit=None, comments=[]), isatools.model.ParameterValue(category=isatools.model.ProtocolParameter(parameter_name=isatools.model.OntologyAnnotation(term='time point', term_source=None, term_accession='', comments=[]), comments=[]), value=isatools.model.OntologyAnnotation(term='7 hr', term_source=None, term_accession='', comments=[]), unit=None, comments=[])]), isatools.create.models.ProductNode(id=raw_data_file_000_020, type=data file, name=raw_data_file, characteristics=[], size=1)}, links=[('data_collection_000', 'raw_data_file_000_000'), ('data_collection_001', 'raw_data_file_000_001'), ('data_collection_002', 'raw_data_file_000_002'), ('data_collection_003', 'raw_data_file_000_003'), ('data_collection_004', 'raw_data_file_000_004'), ('data_collection_005', 'raw_data_file_000_005'), ('data_collection_006', 'raw_data_file_000_006'), ('data_collection_007', 'raw_data_file_000_007'), ('data_collection_008', 'raw_data_file_000_008'), ('data_collection_009', 'raw_data_file_000_009'), ('data_collection_010', 'raw_data_file_000_010'), ('data_collection_011', 'raw_data_file_000_011'), ('data_collection_012', 'raw_data_file_000_012'), ('data_collection_013', 'raw_data_file_000_013'), ('data_collection_014', 'raw_data_file_000_014'), ('data_collection_015', 'raw_data_file_000_015'), ('data_collection_016', 'raw_data_file_000_016'), ('data_collection_017', 'raw_data_file_000_017'), ('data_collection_018', 'raw_data_file_000_018'), ('data_collection_019', 'raw_data_file_000_019'), ('data_collection_020', 'raw_data_file_000_020'), ('data_collection_021', 'raw_data_file_000_021'), ('data_collection_022', 'raw_data_file_000_022'), ('data_collection_023', 'raw_data_file_000_023')], quality_control=None)}}"
      ]
     },
     "execution_count": 173,
     "metadata": {},
     "output_type": "execute_result"
    }
   ],
   "source": [
    "sap1.sample_to_assay_map\n",
    "\n",
    "# for node, assayts in sap1.sample_to_assay_map.entries:\n",
    "#     print('Mapping {} -> {}'.format(node.id, [assayt.id for assayt in assayts]))"
   ]
  },
  {
   "cell_type": "markdown",
   "metadata": {},
   "source": [
    "#### 9. Declaration of an ISA assay and linking specimen type and data acquisition plan for this assay"
   ]
  },
  {
   "cell_type": "markdown",
   "metadata": {},
   "source": [
    "#### 10. Build an ISA `Study Design Arm` by adding the first set of ISA `Cells` and setting the `Sample Assay Plan`"
   ]
  },
  {
   "cell_type": "code",
   "execution_count": 174,
   "metadata": {
    "scrolled": true
   },
   "outputs": [],
   "source": [
    "arm1.add_item_to_arm_map(st_cl1, sap1)\n",
    "# print(arm1)"
   ]
  },
  {
   "cell_type": "markdown",
   "metadata": {},
   "source": [
    "##### 10.1 Now expanding the `Arm` by adding a new `Cell`, which uses the same `Sample Assay Plan` as the one used in Cell #1.\n",
    "Of course, the `Sample Assay Plan` for this new `Cell` could be different. It would have to be to built as shown before."
   ]
  },
  {
   "cell_type": "code",
   "execution_count": 175,
   "metadata": {
    "scrolled": true
   },
   "outputs": [],
   "source": [
    "arm1.add_item_to_arm_map(st_cl2, sap1)"
   ]
  },
  {
   "cell_type": "code",
   "execution_count": 176,
   "metadata": {
    "scrolled": true
   },
   "outputs": [],
   "source": [
    "# Adding the last section of the Arm, with a cell which also uses the same sample assay plan.\n",
    "arm1.add_item_to_arm_map(st_cl3, sap1)\n",
    "arm1.add_item_to_arm_map(st_cl4, sap1)\n",
    "arm1.add_item_to_arm_map(st_cl5, sap1)"
   ]
  },
  {
   "cell_type": "markdown",
   "metadata": {},
   "source": [
    "## 11. Creation of additional ISA Study Arms and setting the number of subjects associated to that unique sequence of ISA Cells."
   ]
  },
  {
   "cell_type": "code",
   "execution_count": 177,
   "metadata": {
    "scrolled": true
   },
   "outputs": [],
   "source": [
    "arm2 = StudyArm(name='Arm 2')\n",
    "arm2.group_size=2\n",
    "arm2.source_type=Characteristic(category=genotype_cat,\n",
    "                                value=genotype_value2)\n",
    "\n",
    "# st_cl6= StudyCell(name=\"st_cl6\", elements=[nte1])\n",
    "# st_cl7= StudyCell(name=\"st_cl7\", elements=[te1])\n",
    "# st_cl8= StudyCell(name=\"st_cl8\", elements=[nte2])\n",
    "# st_cl9= StudyCell(name=\"st_cl9\", elements=[te3])\n",
    "# st_cl10= StudyCell(name=\"st_cl10\", elements=[nte3])\n",
    "\n",
    "\n",
    "\n",
    "arm2.source_type.category\n",
    "arm2.add_item_to_arm_map(st_cl1,sap1)\n",
    "arm2.add_item_to_arm_map(st_cl4,sap1)\n",
    "arm2.add_item_to_arm_map(st_cl3,sap1)\n",
    "arm2.add_item_to_arm_map(st_cl2,sap1)\n",
    "arm2.add_item_to_arm_map(st_cl5,sap1)"
   ]
  },
  {
   "cell_type": "code",
   "execution_count": 178,
   "metadata": {
    "scrolled": false
   },
   "outputs": [],
   "source": [
    "arm3 = StudyArm(name='Arm 3')\n",
    "arm3.group_size=2\n",
    "arm3.source_type=Characteristic(category=genotype_cat,\n",
    "                                value=genotype_value1\n",
    "                               )\n",
    "arm3.add_item_to_arm_map(st_cl1,sap1)\n",
    "arm3.add_item_to_arm_map(st_cl2,sap1)\n",
    "arm3.add_item_to_arm_map(st_cl3,sap1)\n",
    "arm3.add_item_to_arm_map(st_cl4,sap1)\n",
    "arm3.add_item_to_arm_map(st_cl5,sap1)"
   ]
  },
  {
   "cell_type": "code",
   "execution_count": 184,
   "metadata": {
    "scrolled": true
   },
   "outputs": [],
   "source": [
    "arm4 = StudyArm(name='Arm 4')\n",
    "arm4.group_size=2\n",
    "arm4.source_type=Characteristic(category=genotype_cat,\n",
    "                                value=genotype_value2)\n",
    "\n",
    "arm4.add_item_to_arm_map(st_cl1,sap1)\n",
    "arm4.add_item_to_arm_map(st_cl4,None)\n",
    "arm4.add_item_to_arm_map(st_cl3,sap1)\n",
    "arm4.add_item_to_arm_map(st_cl2,None)\n",
    "arm4.add_item_to_arm_map(st_cl5,sap1)"
   ]
  },
  {
   "cell_type": "markdown",
   "metadata": {},
   "source": [
    "#### 12. We can now create the ISA `Study Design` object, which will receive the `Arms` defined by the user."
   ]
  },
  {
   "cell_type": "code",
   "execution_count": 185,
   "metadata": {
    "scrolled": true
   },
   "outputs": [],
   "source": [
    "study_design_final= StudyDesign(name='trial design #1')\n",
    "# print(sd)"
   ]
  },
  {
   "cell_type": "code",
   "execution_count": 186,
   "metadata": {
    "scrolled": true
   },
   "outputs": [
    {
     "name": "stdout",
     "output_type": "stream",
     "text": [
      "Sampling protocol is Protocol(\n",
      "    name=sample collection\n",
      "    protocol_type=sample_collection\n",
      "    uri=\n",
      "    version=\n",
      "    parameters=2 ProtocolParameter objects\n",
      "    components=0 OntologyAnnotation objects\n",
      "    comments=0 Comment objects\n",
      ")\n"
     ]
    }
   ],
   "source": [
    "# Adding a study arm to the study design object.\n",
    "study_design_final.add_study_arm(arm1)\n",
    "study_design_final.add_study_arm(arm2)\n",
    "study_design_final.add_study_arm(arm3)\n",
    "study_design_final.add_study_arm(arm4)\n",
    "\n",
    "study_finale = study_design_final.generate_isa_study()\n",
    "investigation1.studies.append(study_finale)\n",
    "# print(investigation1.studies[0].name)"
   ]
  },
  {
   "cell_type": "code",
   "execution_count": 187,
   "metadata": {
    "scrolled": true
   },
   "outputs": [
    {
     "name": "stdout",
     "output_type": "stream",
     "text": [
      "{'Arm 1': {'name': 'Arm 1', 'groupSize': 2, 'sourceType': {'category': {'term': 'genotype'}, 'value': {'term': 'control - normal'}}, 'cells': [{'name': 'st_cl1', 'elements': [{'isTreatment': False, 'type': 'screen', 'factorValues': [{'factor': {'name': 'DURATION', 'type': {'term': 'time'}}, 'value': 0.0}]}]}, {'name': 'st_cl2', 'elements': [{'isTreatment': True, 'type': 'radiological intervention', 'factorValues': [{'factor': {'name': 'duration', 'type': {'term': 'time'}}, 'value': '1', 'unit': {'term': 'hr'}}, {'factor': {'name': 'light', 'type': {'term': 'electromagnetic energy'}}, 'value': 'visible light at 3000K produced by LED array'}, {'factor': {'name': 'dose', 'type': {'term': 'quantity'}}, 'value': '250', 'unit': {'term': 'lux'}}]}]}, {'name': 'st_cl3', 'elements': [{'isTreatment': False, 'type': 'washout', 'factorValues': [{'factor': {'name': 'DURATION', 'type': {'term': 'time'}}, 'value': '2', 'unit': {'term': 'weeks'}}]}]}, {'name': 'st_cl4', 'elements': [{'isTreatment': True, 'type': 'radiological intervention', 'factorValues': [{'factor': {'name': 'light', 'type': {'term': 'electromagnetic energy'}}, 'value': 'visible light at 3000K produced by LED array'}, {'factor': {'name': 'dose', 'type': {'term': 'quantity'}}, 'value': '250', 'unit': {'term': 'lux'}}, {'factor': {'name': 'duration', 'type': {'term': 'time'}}, 'value': '1', 'unit': {'term': 'hour'}}]}]}, {'name': 'st_cl5', 'elements': [{'isTreatment': False, 'type': 'follow-up', 'factorValues': [{'factor': {'name': 'DURATION', 'type': {'term': 'time'}}, 'value': 1, 'unit': {'term': 'month'}}]}]}], 'sampleAndAssayPlans': [{'name': 'sap1', 'samplePlan': [{'@id': 'MAT1', 'name': 'subject', 'productType': 'sample', 'size': 1, 'characteristics': [{'category': {'term': 'organism part'}, 'value': {'term': 'whole organism'}}]}, {'@id': 'MAT2', 'name': 'saliva', 'productType': 'sample', 'size': 1, 'characteristics': [{'category': {'term': 'organism part'}, 'value': {'term': 'saliva'}}]}], 'assayPlan': [{'@id': '4c3d05d6-20c1-4c1f-9908-c4baa4e36d34', 'measurementType': {'term': 'light sensitivity'}, 'technologyType': {'term': 'electroencephalography'}, 'nodes': [{'@id': 'raw_data_file_000_005', 'name': 'raw_data_file', 'productType': 'data file', 'size': 1, 'characteristics': []}, {'@id': 'data_collection_002', 'name': 'data_collection', 'protocolType': {'term': 'data_collection'}, 'description': '', 'uri': '', 'version': '', 'parameterValues': [{'name': {'term': 'instrument'}, 'value': {'term': 'Somnotouch'}, 'unit': None}, {'name': {'term': 'sampling_rate'}, 'value': {'term': '200 Hz'}, 'unit': None}, {'name': {'term': 'time point'}, 'value': {'term': '3 hr'}, 'unit': None}]}, {'@id': 'raw_data_file_000_006', 'name': 'raw_data_file', 'productType': 'data file', 'size': 1, 'characteristics': []}, {'@id': 'data_collection_001', 'name': 'data_collection', 'protocolType': {'term': 'data_collection'}, 'description': '', 'uri': '', 'version': '', 'parameterValues': [{'name': {'term': 'instrument'}, 'value': {'term': 'Somnotouch'}, 'unit': None}, {'name': {'term': 'sampling_rate'}, 'value': {'term': '200 Hz'}, 'unit': None}, {'name': {'term': 'time point'}, 'value': {'term': '2 hr'}, 'unit': None}]}, {'@id': 'data_collection_006', 'name': 'data_collection', 'protocolType': {'term': 'data_collection'}, 'description': '', 'uri': '', 'version': '', 'parameterValues': [{'name': {'term': 'instrument'}, 'value': {'term': 'Somnotouch'}, 'unit': None}, {'name': {'term': 'sampling_rate'}, 'value': {'term': '200 Hz'}, 'unit': None}, {'name': {'term': 'time point'}, 'value': {'term': '7 hr'}, 'unit': None}]}, {'@id': 'raw_data_file_000_000', 'name': 'raw_data_file', 'productType': 'data file', 'size': 1, 'characteristics': []}, {'@id': 'raw_data_file_000_007', 'name': 'raw_data_file', 'productType': 'data file', 'size': 1, 'characteristics': []}, {'@id': 'raw_data_file_000_001', 'name': 'raw_data_file', 'productType': 'data file', 'size': 1, 'characteristics': []}, {'@id': 'data_collection_003', 'name': 'data_collection', 'protocolType': {'term': 'data_collection'}, 'description': '', 'uri': '', 'version': '', 'parameterValues': [{'name': {'term': 'instrument'}, 'value': {'term': 'Somnotouch'}, 'unit': None}, {'name': {'term': 'sampling_rate'}, 'value': {'term': '200 Hz'}, 'unit': None}, {'name': {'term': 'time point'}, 'value': {'term': '4 hr'}, 'unit': None}]}, {'@id': 'data_collection_004', 'name': 'data_collection', 'protocolType': {'term': 'data_collection'}, 'description': '', 'uri': '', 'version': '', 'parameterValues': [{'name': {'term': 'instrument'}, 'value': {'term': 'Somnotouch'}, 'unit': None}, {'name': {'term': 'sampling_rate'}, 'value': {'term': '200 Hz'}, 'unit': None}, {'name': {'term': 'time point'}, 'value': {'term': '5 hr'}, 'unit': None}]}, {'@id': 'raw_data_file_000_002', 'name': 'raw_data_file', 'productType': 'data file', 'size': 1, 'characteristics': []}, {'@id': 'data_collection_007', 'name': 'data_collection', 'protocolType': {'term': 'data_collection'}, 'description': '', 'uri': '', 'version': '', 'parameterValues': [{'name': {'term': 'instrument'}, 'value': {'term': 'Somnotouch'}, 'unit': None}, {'name': {'term': 'sampling_rate'}, 'value': {'term': '200 Hz'}, 'unit': None}, {'name': {'term': 'time point'}, 'value': {'term': '8 hr'}, 'unit': None}]}, {'@id': 'data_collection_005', 'name': 'data_collection', 'protocolType': {'term': 'data_collection'}, 'description': '', 'uri': '', 'version': '', 'parameterValues': [{'name': {'term': 'instrument'}, 'value': {'term': 'Somnotouch'}, 'unit': None}, {'name': {'term': 'sampling_rate'}, 'value': {'term': '200 Hz'}, 'unit': None}, {'name': {'term': 'time point'}, 'value': {'term': '6 hr'}, 'unit': None}]}, {'@id': 'raw_data_file_000_004', 'name': 'raw_data_file', 'productType': 'data file', 'size': 1, 'characteristics': []}, {'@id': 'raw_data_file_000_003', 'name': 'raw_data_file', 'productType': 'data file', 'size': 1, 'characteristics': []}, {'@id': 'data_collection_000', 'name': 'data_collection', 'protocolType': {'term': 'data_collection'}, 'description': '', 'uri': '', 'version': '', 'parameterValues': [{'name': {'term': 'instrument'}, 'value': {'term': 'Somnotouch'}, 'unit': None}, {'name': {'term': 'sampling_rate'}, 'value': {'term': '200 Hz'}, 'unit': None}, {'name': {'term': 'time point'}, 'value': {'term': '1 hr'}, 'unit': None}]}], 'links': [['data_collection_005', 'raw_data_file_000_005'], ['data_collection_000', 'raw_data_file_000_000'], ['data_collection_007', 'raw_data_file_000_007'], ['data_collection_006', 'raw_data_file_000_006'], ['data_collection_003', 'raw_data_file_000_003'], ['data_collection_004', 'raw_data_file_000_004'], ['data_collection_001', 'raw_data_file_000_001'], ['data_collection_002', 'raw_data_file_000_002']]}, {'@id': '84a7de45-17f6-4590-940a-f55994c25737', 'measurementType': {'term': 'melatonine concentration'}, 'technologyType': {'term': 'radioimmunoprecipitation assay'}, 'nodes': [{'@id': 'raw_data_file_000_005', 'name': 'raw_data_file', 'productType': 'data file', 'size': 1, 'characteristics': []}, {'@id': 'extraction_000', 'name': 'extraction', 'protocolType': {'term': 'extraction'}, 'description': '', 'uri': '', 'version': '', 'parameterValues': []}, {'@id': 'radioimmunoprecipitation_007_000', 'name': 'radioimmunoprecipitation', 'protocolType': {'term': 'radioimmunoprecipitation'}, 'description': '', 'uri': '', 'version': '', 'parameterValues': [{'name': {'term': 'instrument'}, 'value': {'term': 'Beckon Dickison XYZ'}, 'unit': None}, {'name': {'term': 'antibody'}, 'value': {'term': 'AbCam antiMelatonine '}, 'unit': None}, {'name': {'term': 'time point'}, 'value': {'term': '8 hr'}, 'unit': None}]}, {'@id': 'raw_data_file_000_006', 'name': 'raw_data_file', 'productType': 'data file', 'size': 1, 'characteristics': []}, {'@id': 'raw_data_file_000_007', 'name': 'raw_data_file', 'productType': 'data file', 'size': 1, 'characteristics': []}, {'@id': 'radioimmunoprecipitation_000_000', 'name': 'radioimmunoprecipitation', 'protocolType': {'term': 'radioimmunoprecipitation'}, 'description': '', 'uri': '', 'version': '', 'parameterValues': [{'name': {'term': 'instrument'}, 'value': {'term': 'Beckon Dickison XYZ'}, 'unit': None}, {'name': {'term': 'antibody'}, 'value': {'term': 'AbCam antiMelatonine '}, 'unit': None}, {'name': {'term': 'time point'}, 'value': {'term': '1 hr'}, 'unit': None}]}, {'@id': 'raw_data_file_000_000', 'name': 'raw_data_file', 'productType': 'data file', 'size': 1, 'characteristics': []}, {'@id': 'radioimmunoprecipitation_006_000', 'name': 'radioimmunoprecipitation', 'protocolType': {'term': 'radioimmunoprecipitation'}, 'description': '', 'uri': '', 'version': '', 'parameterValues': [{'name': {'term': 'instrument'}, 'value': {'term': 'Beckon Dickison XYZ'}, 'unit': None}, {'name': {'term': 'antibody'}, 'value': {'term': 'AbCam antiMelatonine '}, 'unit': None}, {'name': {'term': 'time point'}, 'value': {'term': '7 hr'}, 'unit': None}]}, {'@id': 'raw_data_file_000_001', 'name': 'raw_data_file', 'productType': 'data file', 'size': 1, 'characteristics': []}, {'@id': 'radioimmunoprecipitation_003_000', 'name': 'radioimmunoprecipitation', 'protocolType': {'term': 'radioimmunoprecipitation'}, 'description': '', 'uri': '', 'version': '', 'parameterValues': [{'name': {'term': 'instrument'}, 'value': {'term': 'Beckon Dickison XYZ'}, 'unit': None}, {'name': {'term': 'antibody'}, 'value': {'term': 'AbCam antiMelatonine '}, 'unit': None}, {'name': {'term': 'time point'}, 'value': {'term': '4 hr'}, 'unit': None}]}, {'@id': 'radioimmunoprecipitation_002_000', 'name': 'radioimmunoprecipitation', 'protocolType': {'term': 'radioimmunoprecipitation'}, 'description': '', 'uri': '', 'version': '', 'parameterValues': [{'name': {'term': 'instrument'}, 'value': {'term': 'Beckon Dickison XYZ'}, 'unit': None}, {'name': {'term': 'antibody'}, 'value': {'term': 'AbCam antiMelatonine '}, 'unit': None}, {'name': {'term': 'time point'}, 'value': {'term': '3 hr'}, 'unit': None}]}, {'@id': 'extract_000_000', 'name': 'extract', 'productType': 'extract', 'size': 1, 'characteristics': [{'category': {'term': 'extract type'}, 'value': {'term': 'extract'}}]}, {'@id': 'raw_data_file_000_002', 'name': 'raw_data_file', 'productType': 'data file', 'size': 1, 'characteristics': []}, {'@id': 'raw_data_file_000_003', 'name': 'raw_data_file', 'productType': 'data file', 'size': 1, 'characteristics': []}, {'@id': 'radioimmunoprecipitation_005_000', 'name': 'radioimmunoprecipitation', 'protocolType': {'term': 'radioimmunoprecipitation'}, 'description': '', 'uri': '', 'version': '', 'parameterValues': [{'name': {'term': 'instrument'}, 'value': {'term': 'Beckon Dickison XYZ'}, 'unit': None}, {'name': {'term': 'antibody'}, 'value': {'term': 'AbCam antiMelatonine '}, 'unit': None}, {'name': {'term': 'time point'}, 'value': {'term': '6 hr'}, 'unit': None}]}, {'@id': 'radioimmunoprecipitation_004_000', 'name': 'radioimmunoprecipitation', 'protocolType': {'term': 'radioimmunoprecipitation'}, 'description': '', 'uri': '', 'version': '', 'parameterValues': [{'name': {'term': 'instrument'}, 'value': {'term': 'Beckon Dickison XYZ'}, 'unit': None}, {'name': {'term': 'antibody'}, 'value': {'term': 'AbCam antiMelatonine '}, 'unit': None}, {'name': {'term': 'time point'}, 'value': {'term': '5 hr'}, 'unit': None}]}, {'@id': 'raw_data_file_000_004', 'name': 'raw_data_file', 'productType': 'data file', 'size': 1, 'characteristics': []}, {'@id': 'radioimmunoprecipitation_001_000', 'name': 'radioimmunoprecipitation', 'protocolType': {'term': 'radioimmunoprecipitation'}, 'description': '', 'uri': '', 'version': '', 'parameterValues': [{'name': {'term': 'instrument'}, 'value': {'term': 'Beckon Dickison XYZ'}, 'unit': None}, {'name': {'term': 'antibody'}, 'value': {'term': 'AbCam antiMelatonine '}, 'unit': None}, {'name': {'term': 'time point'}, 'value': {'term': '2 hr'}, 'unit': None}]}], 'links': [['extract_000_000', 'radioimmunoprecipitation_006_000'], ['extract_000_000', 'radioimmunoprecipitation_007_000'], ['extract_000_000', 'radioimmunoprecipitation_005_000'], ['extraction_000', 'extract_000_000'], ['radioimmunoprecipitation_004_000', 'raw_data_file_000_004'], ['radioimmunoprecipitation_003_000', 'raw_data_file_000_003'], ['radioimmunoprecipitation_007_000', 'raw_data_file_000_007'], ['extract_000_000', 'radioimmunoprecipitation_002_000'], ['radioimmunoprecipitation_006_000', 'raw_data_file_000_006'], ['radioimmunoprecipitation_001_000', 'raw_data_file_000_001'], ['extract_000_000', 'radioimmunoprecipitation_003_000'], ['radioimmunoprecipitation_005_000', 'raw_data_file_000_005'], ['radioimmunoprecipitation_000_000', 'raw_data_file_000_000'], ['extract_000_000', 'radioimmunoprecipitation_004_000'], ['extract_000_000', 'radioimmunoprecipitation_000_000'], ['extract_000_000', 'radioimmunoprecipitation_001_000'], ['radioimmunoprecipitation_002_000', 'raw_data_file_000_002']]}, {'@id': 'fe8f737f-763b-4b4b-9976-3d6434281f02', 'measurementType': {'term': 'light sensitivity phenotyping'}, 'technologyType': {'term': 'direct measurement'}, 'nodes': [{'@id': 'data_collection_017', 'name': 'data_collection', 'protocolType': {'term': 'data_collection'}, 'description': '', 'uri': '', 'version': '', 'parameterValues': [{'name': {'term': 'variables'}, 'value': {'term': 'pupilla size'}, 'unit': None}, {'name': {'term': 'time point'}, 'value': {'term': '2 hr'}, 'unit': None}]}, {'@id': 'raw_data_file_000_017', 'name': 'raw_data_file', 'productType': 'data file', 'size': 1, 'characteristics': []}, {'@id': 'raw_data_file_000_006', 'name': 'raw_data_file', 'productType': 'data file', 'size': 1, 'characteristics': []}, {'@id': 'data_collection_020', 'name': 'data_collection', 'protocolType': {'term': 'data_collection'}, 'description': '', 'uri': '', 'version': '', 'parameterValues': [{'name': {'term': 'variables'}, 'value': {'term': 'pupilla size'}, 'unit': None}, {'name': {'term': 'time point'}, 'value': {'term': '5 hr'}, 'unit': None}]}, {'@id': 'raw_data_file_000_007', 'name': 'raw_data_file', 'productType': 'data file', 'size': 1, 'characteristics': []}, {'@id': 'raw_data_file_000_001', 'name': 'raw_data_file', 'productType': 'data file', 'size': 1, 'characteristics': []}, {'@id': 'data_collection_001', 'name': 'data_collection', 'protocolType': {'term': 'data_collection'}, 'description': '', 'uri': '', 'version': '', 'parameterValues': [{'name': {'term': 'variables'}, 'value': {'term': 'sleepiness'}, 'unit': None}, {'name': {'term': 'time point'}, 'value': {'term': '2 hr'}, 'unit': None}]}, {'@id': 'raw_data_file_000_010', 'name': 'raw_data_file', 'productType': 'data file', 'size': 1, 'characteristics': []}, {'@id': 'raw_data_file_000_012', 'name': 'raw_data_file', 'productType': 'data file', 'size': 1, 'characteristics': []}, {'@id': 'raw_data_file_000_011', 'name': 'raw_data_file', 'productType': 'data file', 'size': 1, 'characteristics': []}, {'@id': 'data_collection_015', 'name': 'data_collection', 'protocolType': {'term': 'data_collection'}, 'description': '', 'uri': '', 'version': '', 'parameterValues': [{'name': {'term': 'variables'}, 'value': {'term': 'heart rate'}, 'unit': None}, {'name': {'term': 'time point'}, 'value': {'term': '8 hr'}, 'unit': None}]}, {'@id': 'raw_data_file_000_003', 'name': 'raw_data_file', 'productType': 'data file', 'size': 1, 'characteristics': []}, {'@id': 'raw_data_file_000_015', 'name': 'raw_data_file', 'productType': 'data file', 'size': 1, 'characteristics': []}, {'@id': 'data_collection_011', 'name': 'data_collection', 'protocolType': {'term': 'data_collection'}, 'description': '', 'uri': '', 'version': '', 'parameterValues': [{'name': {'term': 'variables'}, 'value': {'term': 'heart rate'}, 'unit': None}, {'name': {'term': 'time point'}, 'value': {'term': '4 hr'}, 'unit': None}]}, {'@id': 'data_collection_012', 'name': 'data_collection', 'protocolType': {'term': 'data_collection'}, 'description': '', 'uri': '', 'version': '', 'parameterValues': [{'name': {'term': 'variables'}, 'value': {'term': 'heart rate'}, 'unit': None}, {'name': {'term': 'time point'}, 'value': {'term': '5 hr'}, 'unit': None}]}, {'@id': 'data_collection_002', 'name': 'data_collection', 'protocolType': {'term': 'data_collection'}, 'description': '', 'uri': '', 'version': '', 'parameterValues': [{'name': {'term': 'variables'}, 'value': {'term': 'sleepiness'}, 'unit': None}, {'name': {'term': 'time point'}, 'value': {'term': '3 hr'}, 'unit': None}]}, {'@id': 'data_collection_003', 'name': 'data_collection', 'protocolType': {'term': 'data_collection'}, 'description': '', 'uri': '', 'version': '', 'parameterValues': [{'name': {'term': 'variables'}, 'value': {'term': 'sleepiness'}, 'unit': None}, {'name': {'term': 'time point'}, 'value': {'term': '4 hr'}, 'unit': None}]}, {'@id': 'data_collection_009', 'name': 'data_collection', 'protocolType': {'term': 'data_collection'}, 'description': '', 'uri': '', 'version': '', 'parameterValues': [{'name': {'term': 'variables'}, 'value': {'term': 'heart rate'}, 'unit': None}, {'name': {'term': 'time point'}, 'value': {'term': '2 hr'}, 'unit': None}]}, {'@id': 'raw_data_file_000_009', 'name': 'raw_data_file', 'productType': 'data file', 'size': 1, 'characteristics': []}, {'@id': 'raw_data_file_000_002', 'name': 'raw_data_file', 'productType': 'data file', 'size': 1, 'characteristics': []}, {'@id': 'raw_data_file_000_021', 'name': 'raw_data_file', 'productType': 'data file', 'size': 1, 'characteristics': []}, {'@id': 'raw_data_file_000_014', 'name': 'raw_data_file', 'productType': 'data file', 'size': 1, 'characteristics': []}, {'@id': 'data_collection_021', 'name': 'data_collection', 'protocolType': {'term': 'data_collection'}, 'description': '', 'uri': '', 'version': '', 'parameterValues': [{'name': {'term': 'variables'}, 'value': {'term': 'pupilla size'}, 'unit': None}, {'name': {'term': 'time point'}, 'value': {'term': '6 hr'}, 'unit': None}]}, {'@id': 'raw_data_file_000_004', 'name': 'raw_data_file', 'productType': 'data file', 'size': 1, 'characteristics': []}, {'@id': 'data_collection_000', 'name': 'data_collection', 'protocolType': {'term': 'data_collection'}, 'description': '', 'uri': '', 'version': '', 'parameterValues': [{'name': {'term': 'variables'}, 'value': {'term': 'sleepiness'}, 'unit': None}, {'name': {'term': 'time point'}, 'value': {'term': '1 hr'}, 'unit': None}]}, {'@id': 'data_collection_004', 'name': 'data_collection', 'protocolType': {'term': 'data_collection'}, 'description': '', 'uri': '', 'version': '', 'parameterValues': [{'name': {'term': 'variables'}, 'value': {'term': 'sleepiness'}, 'unit': None}, {'name': {'term': 'time point'}, 'value': {'term': '5 hr'}, 'unit': None}]}, {'@id': 'data_collection_008', 'name': 'data_collection', 'protocolType': {'term': 'data_collection'}, 'description': '', 'uri': '', 'version': '', 'parameterValues': [{'name': {'term': 'variables'}, 'value': {'term': 'heart rate'}, 'unit': None}, {'name': {'term': 'time point'}, 'value': {'term': '1 hr'}, 'unit': None}]}, {'@id': 'data_collection_010', 'name': 'data_collection', 'protocolType': {'term': 'data_collection'}, 'description': '', 'uri': '', 'version': '', 'parameterValues': [{'name': {'term': 'variables'}, 'value': {'term': 'heart rate'}, 'unit': None}, {'name': {'term': 'time point'}, 'value': {'term': '3 hr'}, 'unit': None}]}, {'@id': 'data_collection_023', 'name': 'data_collection', 'protocolType': {'term': 'data_collection'}, 'description': '', 'uri': '', 'version': '', 'parameterValues': [{'name': {'term': 'variables'}, 'value': {'term': 'pupilla size'}, 'unit': None}, {'name': {'term': 'time point'}, 'value': {'term': '8 hr'}, 'unit': None}]}, {'@id': 'data_collection_005', 'name': 'data_collection', 'protocolType': {'term': 'data_collection'}, 'description': '', 'uri': '', 'version': '', 'parameterValues': [{'name': {'term': 'variables'}, 'value': {'term': 'sleepiness'}, 'unit': None}, {'name': {'term': 'time point'}, 'value': {'term': '6 hr'}, 'unit': None}]}, {'@id': 'raw_data_file_000_008', 'name': 'raw_data_file', 'productType': 'data file', 'size': 1, 'characteristics': []}, {'@id': 'raw_data_file_000_019', 'name': 'raw_data_file', 'productType': 'data file', 'size': 1, 'characteristics': []}, {'@id': 'data_collection_016', 'name': 'data_collection', 'protocolType': {'term': 'data_collection'}, 'description': '', 'uri': '', 'version': '', 'parameterValues': [{'name': {'term': 'variables'}, 'value': {'term': 'pupilla size'}, 'unit': None}, {'name': {'term': 'time point'}, 'value': {'term': '1 hr'}, 'unit': None}]}, {'@id': 'data_collection_019', 'name': 'data_collection', 'protocolType': {'term': 'data_collection'}, 'description': '', 'uri': '', 'version': '', 'parameterValues': [{'name': {'term': 'variables'}, 'value': {'term': 'pupilla size'}, 'unit': None}, {'name': {'term': 'time point'}, 'value': {'term': '4 hr'}, 'unit': None}]}, {'@id': 'data_collection_014', 'name': 'data_collection', 'protocolType': {'term': 'data_collection'}, 'description': '', 'uri': '', 'version': '', 'parameterValues': [{'name': {'term': 'variables'}, 'value': {'term': 'heart rate'}, 'unit': None}, {'name': {'term': 'time point'}, 'value': {'term': '7 hr'}, 'unit': None}]}, {'@id': 'data_collection_022', 'name': 'data_collection', 'protocolType': {'term': 'data_collection'}, 'description': '', 'uri': '', 'version': '', 'parameterValues': [{'name': {'term': 'variables'}, 'value': {'term': 'pupilla size'}, 'unit': None}, {'name': {'term': 'time point'}, 'value': {'term': '7 hr'}, 'unit': None}]}, {'@id': 'raw_data_file_000_005', 'name': 'raw_data_file', 'productType': 'data file', 'size': 1, 'characteristics': []}, {'@id': 'data_collection_007', 'name': 'data_collection', 'protocolType': {'term': 'data_collection'}, 'description': '', 'uri': '', 'version': '', 'parameterValues': [{'name': {'term': 'variables'}, 'value': {'term': 'sleepiness'}, 'unit': None}, {'name': {'term': 'time point'}, 'value': {'term': '8 hr'}, 'unit': None}]}, {'@id': 'raw_data_file_000_018', 'name': 'raw_data_file', 'productType': 'data file', 'size': 1, 'characteristics': []}, {'@id': 'raw_data_file_000_013', 'name': 'raw_data_file', 'productType': 'data file', 'size': 1, 'characteristics': []}, {'@id': 'raw_data_file_000_022', 'name': 'raw_data_file', 'productType': 'data file', 'size': 1, 'characteristics': []}, {'@id': 'raw_data_file_000_016', 'name': 'raw_data_file', 'productType': 'data file', 'size': 1, 'characteristics': []}, {'@id': 'data_collection_013', 'name': 'data_collection', 'protocolType': {'term': 'data_collection'}, 'description': '', 'uri': '', 'version': '', 'parameterValues': [{'name': {'term': 'variables'}, 'value': {'term': 'heart rate'}, 'unit': None}, {'name': {'term': 'time point'}, 'value': {'term': '6 hr'}, 'unit': None}]}, {'@id': 'raw_data_file_000_000', 'name': 'raw_data_file', 'productType': 'data file', 'size': 1, 'characteristics': []}, {'@id': 'raw_data_file_000_023', 'name': 'raw_data_file', 'productType': 'data file', 'size': 1, 'characteristics': []}, {'@id': 'data_collection_018', 'name': 'data_collection', 'protocolType': {'term': 'data_collection'}, 'description': '', 'uri': '', 'version': '', 'parameterValues': [{'name': {'term': 'variables'}, 'value': {'term': 'pupilla size'}, 'unit': None}, {'name': {'term': 'time point'}, 'value': {'term': '3 hr'}, 'unit': None}]}, {'@id': 'data_collection_006', 'name': 'data_collection', 'protocolType': {'term': 'data_collection'}, 'description': '', 'uri': '', 'version': '', 'parameterValues': [{'name': {'term': 'variables'}, 'value': {'term': 'sleepiness'}, 'unit': None}, {'name': {'term': 'time point'}, 'value': {'term': '7 hr'}, 'unit': None}]}, {'@id': 'raw_data_file_000_020', 'name': 'raw_data_file', 'productType': 'data file', 'size': 1, 'characteristics': []}], 'links': [['data_collection_022', 'raw_data_file_000_022'], ['data_collection_010', 'raw_data_file_000_010'], ['data_collection_006', 'raw_data_file_000_006'], ['data_collection_008', 'raw_data_file_000_008'], ['data_collection_019', 'raw_data_file_000_019'], ['data_collection_012', 'raw_data_file_000_012'], ['data_collection_021', 'raw_data_file_000_021'], ['data_collection_000', 'raw_data_file_000_000'], ['data_collection_020', 'raw_data_file_000_020'], ['data_collection_015', 'raw_data_file_000_015'], ['data_collection_009', 'raw_data_file_000_009'], ['data_collection_023', 'raw_data_file_000_023'], ['data_collection_014', 'raw_data_file_000_014'], ['data_collection_004', 'raw_data_file_000_004'], ['data_collection_017', 'raw_data_file_000_017'], ['data_collection_016', 'raw_data_file_000_016'], ['data_collection_005', 'raw_data_file_000_005'], ['data_collection_018', 'raw_data_file_000_018'], ['data_collection_007', 'raw_data_file_000_007'], ['data_collection_001', 'raw_data_file_000_001'], ['data_collection_013', 'raw_data_file_000_013'], ['data_collection_002', 'raw_data_file_000_002'], ['data_collection_003', 'raw_data_file_000_003'], ['data_collection_011', 'raw_data_file_000_011']]}], 'sampleToAssayMap': {'MAT2': ['4c3d05d6-20c1-4c1f-9908-c4baa4e36d34'], 'MAT1': ['84a7de45-17f6-4590-940a-f55994c25737', 'fe8f737f-763b-4b4b-9976-3d6434281f02']}}], 'mappings': [['st_cl1', 'sap1'], ['st_cl2', 'sap1'], ['st_cl3', 'sap1'], ['st_cl4', 'sap1'], ['st_cl5', 'sap1']]}, 'Arm 2': {'name': 'Arm 2', 'groupSize': 2, 'sourceType': {'category': {'term': 'genotype'}, 'value': {'term': 'mutant'}}, 'cells': [{'name': 'st_cl1', 'elements': [{'isTreatment': False, 'type': 'screen', 'factorValues': [{'factor': {'name': 'DURATION', 'type': {'term': 'time'}}, 'value': 0.0}]}]}, {'name': 'st_cl4', 'elements': [{'isTreatment': True, 'type': 'radiological intervention', 'factorValues': [{'factor': {'name': 'light', 'type': {'term': 'electromagnetic energy'}}, 'value': 'visible light at 3000K produced by LED array'}, {'factor': {'name': 'dose', 'type': {'term': 'quantity'}}, 'value': '250', 'unit': {'term': 'lux'}}, {'factor': {'name': 'duration', 'type': {'term': 'time'}}, 'value': '1', 'unit': {'term': 'hour'}}]}]}, {'name': 'st_cl3', 'elements': [{'isTreatment': False, 'type': 'washout', 'factorValues': [{'factor': {'name': 'DURATION', 'type': {'term': 'time'}}, 'value': '2', 'unit': {'term': 'weeks'}}]}]}, {'name': 'st_cl2', 'elements': [{'isTreatment': True, 'type': 'radiological intervention', 'factorValues': [{'factor': {'name': 'duration', 'type': {'term': 'time'}}, 'value': '1', 'unit': {'term': 'hr'}}, {'factor': {'name': 'light', 'type': {'term': 'electromagnetic energy'}}, 'value': 'visible light at 3000K produced by LED array'}, {'factor': {'name': 'dose', 'type': {'term': 'quantity'}}, 'value': '250', 'unit': {'term': 'lux'}}]}]}, {'name': 'st_cl5', 'elements': [{'isTreatment': False, 'type': 'follow-up', 'factorValues': [{'factor': {'name': 'DURATION', 'type': {'term': 'time'}}, 'value': 1, 'unit': {'term': 'month'}}]}]}], 'sampleAndAssayPlans': [{'name': 'sap1', 'samplePlan': [{'@id': 'MAT1', 'name': 'subject', 'productType': 'sample', 'size': 1, 'characteristics': [{'category': {'term': 'organism part'}, 'value': {'term': 'whole organism'}}]}, {'@id': 'MAT2', 'name': 'saliva', 'productType': 'sample', 'size': 1, 'characteristics': [{'category': {'term': 'organism part'}, 'value': {'term': 'saliva'}}]}], 'assayPlan': [{'@id': '4c3d05d6-20c1-4c1f-9908-c4baa4e36d34', 'measurementType': {'term': 'light sensitivity'}, 'technologyType': {'term': 'electroencephalography'}, 'nodes': [{'@id': 'raw_data_file_000_005', 'name': 'raw_data_file', 'productType': 'data file', 'size': 1, 'characteristics': []}, {'@id': 'data_collection_002', 'name': 'data_collection', 'protocolType': {'term': 'data_collection'}, 'description': '', 'uri': '', 'version': '', 'parameterValues': [{'name': {'term': 'instrument'}, 'value': {'term': 'Somnotouch'}, 'unit': None}, {'name': {'term': 'sampling_rate'}, 'value': {'term': '200 Hz'}, 'unit': None}, {'name': {'term': 'time point'}, 'value': {'term': '3 hr'}, 'unit': None}]}, {'@id': 'raw_data_file_000_006', 'name': 'raw_data_file', 'productType': 'data file', 'size': 1, 'characteristics': []}, {'@id': 'data_collection_001', 'name': 'data_collection', 'protocolType': {'term': 'data_collection'}, 'description': '', 'uri': '', 'version': '', 'parameterValues': [{'name': {'term': 'instrument'}, 'value': {'term': 'Somnotouch'}, 'unit': None}, {'name': {'term': 'sampling_rate'}, 'value': {'term': '200 Hz'}, 'unit': None}, {'name': {'term': 'time point'}, 'value': {'term': '2 hr'}, 'unit': None}]}, {'@id': 'data_collection_006', 'name': 'data_collection', 'protocolType': {'term': 'data_collection'}, 'description': '', 'uri': '', 'version': '', 'parameterValues': [{'name': {'term': 'instrument'}, 'value': {'term': 'Somnotouch'}, 'unit': None}, {'name': {'term': 'sampling_rate'}, 'value': {'term': '200 Hz'}, 'unit': None}, {'name': {'term': 'time point'}, 'value': {'term': '7 hr'}, 'unit': None}]}, {'@id': 'raw_data_file_000_000', 'name': 'raw_data_file', 'productType': 'data file', 'size': 1, 'characteristics': []}, {'@id': 'raw_data_file_000_007', 'name': 'raw_data_file', 'productType': 'data file', 'size': 1, 'characteristics': []}, {'@id': 'raw_data_file_000_001', 'name': 'raw_data_file', 'productType': 'data file', 'size': 1, 'characteristics': []}, {'@id': 'data_collection_003', 'name': 'data_collection', 'protocolType': {'term': 'data_collection'}, 'description': '', 'uri': '', 'version': '', 'parameterValues': [{'name': {'term': 'instrument'}, 'value': {'term': 'Somnotouch'}, 'unit': None}, {'name': {'term': 'sampling_rate'}, 'value': {'term': '200 Hz'}, 'unit': None}, {'name': {'term': 'time point'}, 'value': {'term': '4 hr'}, 'unit': None}]}, {'@id': 'data_collection_004', 'name': 'data_collection', 'protocolType': {'term': 'data_collection'}, 'description': '', 'uri': '', 'version': '', 'parameterValues': [{'name': {'term': 'instrument'}, 'value': {'term': 'Somnotouch'}, 'unit': None}, {'name': {'term': 'sampling_rate'}, 'value': {'term': '200 Hz'}, 'unit': None}, {'name': {'term': 'time point'}, 'value': {'term': '5 hr'}, 'unit': None}]}, {'@id': 'raw_data_file_000_002', 'name': 'raw_data_file', 'productType': 'data file', 'size': 1, 'characteristics': []}, {'@id': 'data_collection_007', 'name': 'data_collection', 'protocolType': {'term': 'data_collection'}, 'description': '', 'uri': '', 'version': '', 'parameterValues': [{'name': {'term': 'instrument'}, 'value': {'term': 'Somnotouch'}, 'unit': None}, {'name': {'term': 'sampling_rate'}, 'value': {'term': '200 Hz'}, 'unit': None}, {'name': {'term': 'time point'}, 'value': {'term': '8 hr'}, 'unit': None}]}, {'@id': 'data_collection_005', 'name': 'data_collection', 'protocolType': {'term': 'data_collection'}, 'description': '', 'uri': '', 'version': '', 'parameterValues': [{'name': {'term': 'instrument'}, 'value': {'term': 'Somnotouch'}, 'unit': None}, {'name': {'term': 'sampling_rate'}, 'value': {'term': '200 Hz'}, 'unit': None}, {'name': {'term': 'time point'}, 'value': {'term': '6 hr'}, 'unit': None}]}, {'@id': 'raw_data_file_000_004', 'name': 'raw_data_file', 'productType': 'data file', 'size': 1, 'characteristics': []}, {'@id': 'raw_data_file_000_003', 'name': 'raw_data_file', 'productType': 'data file', 'size': 1, 'characteristics': []}, {'@id': 'data_collection_000', 'name': 'data_collection', 'protocolType': {'term': 'data_collection'}, 'description': '', 'uri': '', 'version': '', 'parameterValues': [{'name': {'term': 'instrument'}, 'value': {'term': 'Somnotouch'}, 'unit': None}, {'name': {'term': 'sampling_rate'}, 'value': {'term': '200 Hz'}, 'unit': None}, {'name': {'term': 'time point'}, 'value': {'term': '1 hr'}, 'unit': None}]}], 'links': [['data_collection_005', 'raw_data_file_000_005'], ['data_collection_000', 'raw_data_file_000_000'], ['data_collection_007', 'raw_data_file_000_007'], ['data_collection_006', 'raw_data_file_000_006'], ['data_collection_003', 'raw_data_file_000_003'], ['data_collection_004', 'raw_data_file_000_004'], ['data_collection_001', 'raw_data_file_000_001'], ['data_collection_002', 'raw_data_file_000_002']]}, {'@id': '84a7de45-17f6-4590-940a-f55994c25737', 'measurementType': {'term': 'melatonine concentration'}, 'technologyType': {'term': 'radioimmunoprecipitation assay'}, 'nodes': [{'@id': 'raw_data_file_000_005', 'name': 'raw_data_file', 'productType': 'data file', 'size': 1, 'characteristics': []}, {'@id': 'extraction_000', 'name': 'extraction', 'protocolType': {'term': 'extraction'}, 'description': '', 'uri': '', 'version': '', 'parameterValues': []}, {'@id': 'radioimmunoprecipitation_007_000', 'name': 'radioimmunoprecipitation', 'protocolType': {'term': 'radioimmunoprecipitation'}, 'description': '', 'uri': '', 'version': '', 'parameterValues': [{'name': {'term': 'instrument'}, 'value': {'term': 'Beckon Dickison XYZ'}, 'unit': None}, {'name': {'term': 'antibody'}, 'value': {'term': 'AbCam antiMelatonine '}, 'unit': None}, {'name': {'term': 'time point'}, 'value': {'term': '8 hr'}, 'unit': None}]}, {'@id': 'raw_data_file_000_006', 'name': 'raw_data_file', 'productType': 'data file', 'size': 1, 'characteristics': []}, {'@id': 'raw_data_file_000_007', 'name': 'raw_data_file', 'productType': 'data file', 'size': 1, 'characteristics': []}, {'@id': 'radioimmunoprecipitation_000_000', 'name': 'radioimmunoprecipitation', 'protocolType': {'term': 'radioimmunoprecipitation'}, 'description': '', 'uri': '', 'version': '', 'parameterValues': [{'name': {'term': 'instrument'}, 'value': {'term': 'Beckon Dickison XYZ'}, 'unit': None}, {'name': {'term': 'antibody'}, 'value': {'term': 'AbCam antiMelatonine '}, 'unit': None}, {'name': {'term': 'time point'}, 'value': {'term': '1 hr'}, 'unit': None}]}, {'@id': 'raw_data_file_000_000', 'name': 'raw_data_file', 'productType': 'data file', 'size': 1, 'characteristics': []}, {'@id': 'radioimmunoprecipitation_006_000', 'name': 'radioimmunoprecipitation', 'protocolType': {'term': 'radioimmunoprecipitation'}, 'description': '', 'uri': '', 'version': '', 'parameterValues': [{'name': {'term': 'instrument'}, 'value': {'term': 'Beckon Dickison XYZ'}, 'unit': None}, {'name': {'term': 'antibody'}, 'value': {'term': 'AbCam antiMelatonine '}, 'unit': None}, {'name': {'term': 'time point'}, 'value': {'term': '7 hr'}, 'unit': None}]}, {'@id': 'raw_data_file_000_001', 'name': 'raw_data_file', 'productType': 'data file', 'size': 1, 'characteristics': []}, {'@id': 'radioimmunoprecipitation_003_000', 'name': 'radioimmunoprecipitation', 'protocolType': {'term': 'radioimmunoprecipitation'}, 'description': '', 'uri': '', 'version': '', 'parameterValues': [{'name': {'term': 'instrument'}, 'value': {'term': 'Beckon Dickison XYZ'}, 'unit': None}, {'name': {'term': 'antibody'}, 'value': {'term': 'AbCam antiMelatonine '}, 'unit': None}, {'name': {'term': 'time point'}, 'value': {'term': '4 hr'}, 'unit': None}]}, {'@id': 'radioimmunoprecipitation_002_000', 'name': 'radioimmunoprecipitation', 'protocolType': {'term': 'radioimmunoprecipitation'}, 'description': '', 'uri': '', 'version': '', 'parameterValues': [{'name': {'term': 'instrument'}, 'value': {'term': 'Beckon Dickison XYZ'}, 'unit': None}, {'name': {'term': 'antibody'}, 'value': {'term': 'AbCam antiMelatonine '}, 'unit': None}, {'name': {'term': 'time point'}, 'value': {'term': '3 hr'}, 'unit': None}]}, {'@id': 'extract_000_000', 'name': 'extract', 'productType': 'extract', 'size': 1, 'characteristics': [{'category': {'term': 'extract type'}, 'value': {'term': 'extract'}}]}, {'@id': 'raw_data_file_000_002', 'name': 'raw_data_file', 'productType': 'data file', 'size': 1, 'characteristics': []}, {'@id': 'raw_data_file_000_003', 'name': 'raw_data_file', 'productType': 'data file', 'size': 1, 'characteristics': []}, {'@id': 'radioimmunoprecipitation_005_000', 'name': 'radioimmunoprecipitation', 'protocolType': {'term': 'radioimmunoprecipitation'}, 'description': '', 'uri': '', 'version': '', 'parameterValues': [{'name': {'term': 'instrument'}, 'value': {'term': 'Beckon Dickison XYZ'}, 'unit': None}, {'name': {'term': 'antibody'}, 'value': {'term': 'AbCam antiMelatonine '}, 'unit': None}, {'name': {'term': 'time point'}, 'value': {'term': '6 hr'}, 'unit': None}]}, {'@id': 'radioimmunoprecipitation_004_000', 'name': 'radioimmunoprecipitation', 'protocolType': {'term': 'radioimmunoprecipitation'}, 'description': '', 'uri': '', 'version': '', 'parameterValues': [{'name': {'term': 'instrument'}, 'value': {'term': 'Beckon Dickison XYZ'}, 'unit': None}, {'name': {'term': 'antibody'}, 'value': {'term': 'AbCam antiMelatonine '}, 'unit': None}, {'name': {'term': 'time point'}, 'value': {'term': '5 hr'}, 'unit': None}]}, {'@id': 'raw_data_file_000_004', 'name': 'raw_data_file', 'productType': 'data file', 'size': 1, 'characteristics': []}, {'@id': 'radioimmunoprecipitation_001_000', 'name': 'radioimmunoprecipitation', 'protocolType': {'term': 'radioimmunoprecipitation'}, 'description': '', 'uri': '', 'version': '', 'parameterValues': [{'name': {'term': 'instrument'}, 'value': {'term': 'Beckon Dickison XYZ'}, 'unit': None}, {'name': {'term': 'antibody'}, 'value': {'term': 'AbCam antiMelatonine '}, 'unit': None}, {'name': {'term': 'time point'}, 'value': {'term': '2 hr'}, 'unit': None}]}], 'links': [['extract_000_000', 'radioimmunoprecipitation_006_000'], ['extract_000_000', 'radioimmunoprecipitation_007_000'], ['extract_000_000', 'radioimmunoprecipitation_005_000'], ['extraction_000', 'extract_000_000'], ['radioimmunoprecipitation_004_000', 'raw_data_file_000_004'], ['radioimmunoprecipitation_003_000', 'raw_data_file_000_003'], ['radioimmunoprecipitation_007_000', 'raw_data_file_000_007'], ['extract_000_000', 'radioimmunoprecipitation_002_000'], ['radioimmunoprecipitation_006_000', 'raw_data_file_000_006'], ['radioimmunoprecipitation_001_000', 'raw_data_file_000_001'], ['extract_000_000', 'radioimmunoprecipitation_003_000'], ['radioimmunoprecipitation_005_000', 'raw_data_file_000_005'], ['radioimmunoprecipitation_000_000', 'raw_data_file_000_000'], ['extract_000_000', 'radioimmunoprecipitation_004_000'], ['extract_000_000', 'radioimmunoprecipitation_000_000'], ['extract_000_000', 'radioimmunoprecipitation_001_000'], ['radioimmunoprecipitation_002_000', 'raw_data_file_000_002']]}, {'@id': 'fe8f737f-763b-4b4b-9976-3d6434281f02', 'measurementType': {'term': 'light sensitivity phenotyping'}, 'technologyType': {'term': 'direct measurement'}, 'nodes': [{'@id': 'data_collection_017', 'name': 'data_collection', 'protocolType': {'term': 'data_collection'}, 'description': '', 'uri': '', 'version': '', 'parameterValues': [{'name': {'term': 'variables'}, 'value': {'term': 'pupilla size'}, 'unit': None}, {'name': {'term': 'time point'}, 'value': {'term': '2 hr'}, 'unit': None}]}, {'@id': 'raw_data_file_000_017', 'name': 'raw_data_file', 'productType': 'data file', 'size': 1, 'characteristics': []}, {'@id': 'raw_data_file_000_006', 'name': 'raw_data_file', 'productType': 'data file', 'size': 1, 'characteristics': []}, {'@id': 'data_collection_020', 'name': 'data_collection', 'protocolType': {'term': 'data_collection'}, 'description': '', 'uri': '', 'version': '', 'parameterValues': [{'name': {'term': 'variables'}, 'value': {'term': 'pupilla size'}, 'unit': None}, {'name': {'term': 'time point'}, 'value': {'term': '5 hr'}, 'unit': None}]}, {'@id': 'raw_data_file_000_007', 'name': 'raw_data_file', 'productType': 'data file', 'size': 1, 'characteristics': []}, {'@id': 'raw_data_file_000_001', 'name': 'raw_data_file', 'productType': 'data file', 'size': 1, 'characteristics': []}, {'@id': 'data_collection_001', 'name': 'data_collection', 'protocolType': {'term': 'data_collection'}, 'description': '', 'uri': '', 'version': '', 'parameterValues': [{'name': {'term': 'variables'}, 'value': {'term': 'sleepiness'}, 'unit': None}, {'name': {'term': 'time point'}, 'value': {'term': '2 hr'}, 'unit': None}]}, {'@id': 'raw_data_file_000_010', 'name': 'raw_data_file', 'productType': 'data file', 'size': 1, 'characteristics': []}, {'@id': 'raw_data_file_000_012', 'name': 'raw_data_file', 'productType': 'data file', 'size': 1, 'characteristics': []}, {'@id': 'raw_data_file_000_011', 'name': 'raw_data_file', 'productType': 'data file', 'size': 1, 'characteristics': []}, {'@id': 'data_collection_015', 'name': 'data_collection', 'protocolType': {'term': 'data_collection'}, 'description': '', 'uri': '', 'version': '', 'parameterValues': [{'name': {'term': 'variables'}, 'value': {'term': 'heart rate'}, 'unit': None}, {'name': {'term': 'time point'}, 'value': {'term': '8 hr'}, 'unit': None}]}, {'@id': 'raw_data_file_000_003', 'name': 'raw_data_file', 'productType': 'data file', 'size': 1, 'characteristics': []}, {'@id': 'raw_data_file_000_015', 'name': 'raw_data_file', 'productType': 'data file', 'size': 1, 'characteristics': []}, {'@id': 'data_collection_011', 'name': 'data_collection', 'protocolType': {'term': 'data_collection'}, 'description': '', 'uri': '', 'version': '', 'parameterValues': [{'name': {'term': 'variables'}, 'value': {'term': 'heart rate'}, 'unit': None}, {'name': {'term': 'time point'}, 'value': {'term': '4 hr'}, 'unit': None}]}, {'@id': 'data_collection_012', 'name': 'data_collection', 'protocolType': {'term': 'data_collection'}, 'description': '', 'uri': '', 'version': '', 'parameterValues': [{'name': {'term': 'variables'}, 'value': {'term': 'heart rate'}, 'unit': None}, {'name': {'term': 'time point'}, 'value': {'term': '5 hr'}, 'unit': None}]}, {'@id': 'data_collection_002', 'name': 'data_collection', 'protocolType': {'term': 'data_collection'}, 'description': '', 'uri': '', 'version': '', 'parameterValues': [{'name': {'term': 'variables'}, 'value': {'term': 'sleepiness'}, 'unit': None}, {'name': {'term': 'time point'}, 'value': {'term': '3 hr'}, 'unit': None}]}, {'@id': 'data_collection_003', 'name': 'data_collection', 'protocolType': {'term': 'data_collection'}, 'description': '', 'uri': '', 'version': '', 'parameterValues': [{'name': {'term': 'variables'}, 'value': {'term': 'sleepiness'}, 'unit': None}, {'name': {'term': 'time point'}, 'value': {'term': '4 hr'}, 'unit': None}]}, {'@id': 'data_collection_009', 'name': 'data_collection', 'protocolType': {'term': 'data_collection'}, 'description': '', 'uri': '', 'version': '', 'parameterValues': [{'name': {'term': 'variables'}, 'value': {'term': 'heart rate'}, 'unit': None}, {'name': {'term': 'time point'}, 'value': {'term': '2 hr'}, 'unit': None}]}, {'@id': 'raw_data_file_000_009', 'name': 'raw_data_file', 'productType': 'data file', 'size': 1, 'characteristics': []}, {'@id': 'raw_data_file_000_002', 'name': 'raw_data_file', 'productType': 'data file', 'size': 1, 'characteristics': []}, {'@id': 'raw_data_file_000_021', 'name': 'raw_data_file', 'productType': 'data file', 'size': 1, 'characteristics': []}, {'@id': 'raw_data_file_000_014', 'name': 'raw_data_file', 'productType': 'data file', 'size': 1, 'characteristics': []}, {'@id': 'data_collection_021', 'name': 'data_collection', 'protocolType': {'term': 'data_collection'}, 'description': '', 'uri': '', 'version': '', 'parameterValues': [{'name': {'term': 'variables'}, 'value': {'term': 'pupilla size'}, 'unit': None}, {'name': {'term': 'time point'}, 'value': {'term': '6 hr'}, 'unit': None}]}, {'@id': 'raw_data_file_000_004', 'name': 'raw_data_file', 'productType': 'data file', 'size': 1, 'characteristics': []}, {'@id': 'data_collection_000', 'name': 'data_collection', 'protocolType': {'term': 'data_collection'}, 'description': '', 'uri': '', 'version': '', 'parameterValues': [{'name': {'term': 'variables'}, 'value': {'term': 'sleepiness'}, 'unit': None}, {'name': {'term': 'time point'}, 'value': {'term': '1 hr'}, 'unit': None}]}, {'@id': 'data_collection_004', 'name': 'data_collection', 'protocolType': {'term': 'data_collection'}, 'description': '', 'uri': '', 'version': '', 'parameterValues': [{'name': {'term': 'variables'}, 'value': {'term': 'sleepiness'}, 'unit': None}, {'name': {'term': 'time point'}, 'value': {'term': '5 hr'}, 'unit': None}]}, {'@id': 'data_collection_008', 'name': 'data_collection', 'protocolType': {'term': 'data_collection'}, 'description': '', 'uri': '', 'version': '', 'parameterValues': [{'name': {'term': 'variables'}, 'value': {'term': 'heart rate'}, 'unit': None}, {'name': {'term': 'time point'}, 'value': {'term': '1 hr'}, 'unit': None}]}, {'@id': 'data_collection_010', 'name': 'data_collection', 'protocolType': {'term': 'data_collection'}, 'description': '', 'uri': '', 'version': '', 'parameterValues': [{'name': {'term': 'variables'}, 'value': {'term': 'heart rate'}, 'unit': None}, {'name': {'term': 'time point'}, 'value': {'term': '3 hr'}, 'unit': None}]}, {'@id': 'data_collection_023', 'name': 'data_collection', 'protocolType': {'term': 'data_collection'}, 'description': '', 'uri': '', 'version': '', 'parameterValues': [{'name': {'term': 'variables'}, 'value': {'term': 'pupilla size'}, 'unit': None}, {'name': {'term': 'time point'}, 'value': {'term': '8 hr'}, 'unit': None}]}, {'@id': 'data_collection_005', 'name': 'data_collection', 'protocolType': {'term': 'data_collection'}, 'description': '', 'uri': '', 'version': '', 'parameterValues': [{'name': {'term': 'variables'}, 'value': {'term': 'sleepiness'}, 'unit': None}, {'name': {'term': 'time point'}, 'value': {'term': '6 hr'}, 'unit': None}]}, {'@id': 'raw_data_file_000_008', 'name': 'raw_data_file', 'productType': 'data file', 'size': 1, 'characteristics': []}, {'@id': 'raw_data_file_000_019', 'name': 'raw_data_file', 'productType': 'data file', 'size': 1, 'characteristics': []}, {'@id': 'data_collection_016', 'name': 'data_collection', 'protocolType': {'term': 'data_collection'}, 'description': '', 'uri': '', 'version': '', 'parameterValues': [{'name': {'term': 'variables'}, 'value': {'term': 'pupilla size'}, 'unit': None}, {'name': {'term': 'time point'}, 'value': {'term': '1 hr'}, 'unit': None}]}, {'@id': 'data_collection_019', 'name': 'data_collection', 'protocolType': {'term': 'data_collection'}, 'description': '', 'uri': '', 'version': '', 'parameterValues': [{'name': {'term': 'variables'}, 'value': {'term': 'pupilla size'}, 'unit': None}, {'name': {'term': 'time point'}, 'value': {'term': '4 hr'}, 'unit': None}]}, {'@id': 'data_collection_014', 'name': 'data_collection', 'protocolType': {'term': 'data_collection'}, 'description': '', 'uri': '', 'version': '', 'parameterValues': [{'name': {'term': 'variables'}, 'value': {'term': 'heart rate'}, 'unit': None}, {'name': {'term': 'time point'}, 'value': {'term': '7 hr'}, 'unit': None}]}, {'@id': 'data_collection_022', 'name': 'data_collection', 'protocolType': {'term': 'data_collection'}, 'description': '', 'uri': '', 'version': '', 'parameterValues': [{'name': {'term': 'variables'}, 'value': {'term': 'pupilla size'}, 'unit': None}, {'name': {'term': 'time point'}, 'value': {'term': '7 hr'}, 'unit': None}]}, {'@id': 'raw_data_file_000_005', 'name': 'raw_data_file', 'productType': 'data file', 'size': 1, 'characteristics': []}, {'@id': 'data_collection_007', 'name': 'data_collection', 'protocolType': {'term': 'data_collection'}, 'description': '', 'uri': '', 'version': '', 'parameterValues': [{'name': {'term': 'variables'}, 'value': {'term': 'sleepiness'}, 'unit': None}, {'name': {'term': 'time point'}, 'value': {'term': '8 hr'}, 'unit': None}]}, {'@id': 'raw_data_file_000_018', 'name': 'raw_data_file', 'productType': 'data file', 'size': 1, 'characteristics': []}, {'@id': 'raw_data_file_000_013', 'name': 'raw_data_file', 'productType': 'data file', 'size': 1, 'characteristics': []}, {'@id': 'raw_data_file_000_022', 'name': 'raw_data_file', 'productType': 'data file', 'size': 1, 'characteristics': []}, {'@id': 'raw_data_file_000_016', 'name': 'raw_data_file', 'productType': 'data file', 'size': 1, 'characteristics': []}, {'@id': 'data_collection_013', 'name': 'data_collection', 'protocolType': {'term': 'data_collection'}, 'description': '', 'uri': '', 'version': '', 'parameterValues': [{'name': {'term': 'variables'}, 'value': {'term': 'heart rate'}, 'unit': None}, {'name': {'term': 'time point'}, 'value': {'term': '6 hr'}, 'unit': None}]}, {'@id': 'raw_data_file_000_000', 'name': 'raw_data_file', 'productType': 'data file', 'size': 1, 'characteristics': []}, {'@id': 'raw_data_file_000_023', 'name': 'raw_data_file', 'productType': 'data file', 'size': 1, 'characteristics': []}, {'@id': 'data_collection_018', 'name': 'data_collection', 'protocolType': {'term': 'data_collection'}, 'description': '', 'uri': '', 'version': '', 'parameterValues': [{'name': {'term': 'variables'}, 'value': {'term': 'pupilla size'}, 'unit': None}, {'name': {'term': 'time point'}, 'value': {'term': '3 hr'}, 'unit': None}]}, {'@id': 'data_collection_006', 'name': 'data_collection', 'protocolType': {'term': 'data_collection'}, 'description': '', 'uri': '', 'version': '', 'parameterValues': [{'name': {'term': 'variables'}, 'value': {'term': 'sleepiness'}, 'unit': None}, {'name': {'term': 'time point'}, 'value': {'term': '7 hr'}, 'unit': None}]}, {'@id': 'raw_data_file_000_020', 'name': 'raw_data_file', 'productType': 'data file', 'size': 1, 'characteristics': []}], 'links': [['data_collection_022', 'raw_data_file_000_022'], ['data_collection_010', 'raw_data_file_000_010'], ['data_collection_006', 'raw_data_file_000_006'], ['data_collection_008', 'raw_data_file_000_008'], ['data_collection_019', 'raw_data_file_000_019'], ['data_collection_012', 'raw_data_file_000_012'], ['data_collection_021', 'raw_data_file_000_021'], ['data_collection_000', 'raw_data_file_000_000'], ['data_collection_020', 'raw_data_file_000_020'], ['data_collection_015', 'raw_data_file_000_015'], ['data_collection_009', 'raw_data_file_000_009'], ['data_collection_023', 'raw_data_file_000_023'], ['data_collection_014', 'raw_data_file_000_014'], ['data_collection_004', 'raw_data_file_000_004'], ['data_collection_017', 'raw_data_file_000_017'], ['data_collection_016', 'raw_data_file_000_016'], ['data_collection_005', 'raw_data_file_000_005'], ['data_collection_018', 'raw_data_file_000_018'], ['data_collection_007', 'raw_data_file_000_007'], ['data_collection_001', 'raw_data_file_000_001'], ['data_collection_013', 'raw_data_file_000_013'], ['data_collection_002', 'raw_data_file_000_002'], ['data_collection_003', 'raw_data_file_000_003'], ['data_collection_011', 'raw_data_file_000_011']]}], 'sampleToAssayMap': {'MAT2': ['4c3d05d6-20c1-4c1f-9908-c4baa4e36d34'], 'MAT1': ['84a7de45-17f6-4590-940a-f55994c25737', 'fe8f737f-763b-4b4b-9976-3d6434281f02']}}], 'mappings': [['st_cl1', 'sap1'], ['st_cl4', 'sap1'], ['st_cl3', 'sap1'], ['st_cl2', 'sap1'], ['st_cl5', 'sap1']]}, 'Arm 3': {'name': 'Arm 3', 'groupSize': 2, 'sourceType': {'category': {'term': 'genotype'}, 'value': {'term': 'control - normal'}}, 'cells': [{'name': 'st_cl1', 'elements': [{'isTreatment': False, 'type': 'screen', 'factorValues': [{'factor': {'name': 'DURATION', 'type': {'term': 'time'}}, 'value': 0.0}]}]}, {'name': 'st_cl2', 'elements': [{'isTreatment': True, 'type': 'radiological intervention', 'factorValues': [{'factor': {'name': 'duration', 'type': {'term': 'time'}}, 'value': '1', 'unit': {'term': 'hr'}}, {'factor': {'name': 'light', 'type': {'term': 'electromagnetic energy'}}, 'value': 'visible light at 3000K produced by LED array'}, {'factor': {'name': 'dose', 'type': {'term': 'quantity'}}, 'value': '250', 'unit': {'term': 'lux'}}]}]}, {'name': 'st_cl3', 'elements': [{'isTreatment': False, 'type': 'washout', 'factorValues': [{'factor': {'name': 'DURATION', 'type': {'term': 'time'}}, 'value': '2', 'unit': {'term': 'weeks'}}]}]}, {'name': 'st_cl4', 'elements': [{'isTreatment': True, 'type': 'radiological intervention', 'factorValues': [{'factor': {'name': 'light', 'type': {'term': 'electromagnetic energy'}}, 'value': 'visible light at 3000K produced by LED array'}, {'factor': {'name': 'dose', 'type': {'term': 'quantity'}}, 'value': '250', 'unit': {'term': 'lux'}}, {'factor': {'name': 'duration', 'type': {'term': 'time'}}, 'value': '1', 'unit': {'term': 'hour'}}]}]}, {'name': 'st_cl5', 'elements': [{'isTreatment': False, 'type': 'follow-up', 'factorValues': [{'factor': {'name': 'DURATION', 'type': {'term': 'time'}}, 'value': 1, 'unit': {'term': 'month'}}]}]}], 'sampleAndAssayPlans': [{'name': 'sap1', 'samplePlan': [{'@id': 'MAT1', 'name': 'subject', 'productType': 'sample', 'size': 1, 'characteristics': [{'category': {'term': 'organism part'}, 'value': {'term': 'whole organism'}}]}, {'@id': 'MAT2', 'name': 'saliva', 'productType': 'sample', 'size': 1, 'characteristics': [{'category': {'term': 'organism part'}, 'value': {'term': 'saliva'}}]}], 'assayPlan': [{'@id': '4c3d05d6-20c1-4c1f-9908-c4baa4e36d34', 'measurementType': {'term': 'light sensitivity'}, 'technologyType': {'term': 'electroencephalography'}, 'nodes': [{'@id': 'raw_data_file_000_005', 'name': 'raw_data_file', 'productType': 'data file', 'size': 1, 'characteristics': []}, {'@id': 'data_collection_002', 'name': 'data_collection', 'protocolType': {'term': 'data_collection'}, 'description': '', 'uri': '', 'version': '', 'parameterValues': [{'name': {'term': 'instrument'}, 'value': {'term': 'Somnotouch'}, 'unit': None}, {'name': {'term': 'sampling_rate'}, 'value': {'term': '200 Hz'}, 'unit': None}, {'name': {'term': 'time point'}, 'value': {'term': '3 hr'}, 'unit': None}]}, {'@id': 'raw_data_file_000_006', 'name': 'raw_data_file', 'productType': 'data file', 'size': 1, 'characteristics': []}, {'@id': 'data_collection_001', 'name': 'data_collection', 'protocolType': {'term': 'data_collection'}, 'description': '', 'uri': '', 'version': '', 'parameterValues': [{'name': {'term': 'instrument'}, 'value': {'term': 'Somnotouch'}, 'unit': None}, {'name': {'term': 'sampling_rate'}, 'value': {'term': '200 Hz'}, 'unit': None}, {'name': {'term': 'time point'}, 'value': {'term': '2 hr'}, 'unit': None}]}, {'@id': 'data_collection_006', 'name': 'data_collection', 'protocolType': {'term': 'data_collection'}, 'description': '', 'uri': '', 'version': '', 'parameterValues': [{'name': {'term': 'instrument'}, 'value': {'term': 'Somnotouch'}, 'unit': None}, {'name': {'term': 'sampling_rate'}, 'value': {'term': '200 Hz'}, 'unit': None}, {'name': {'term': 'time point'}, 'value': {'term': '7 hr'}, 'unit': None}]}, {'@id': 'raw_data_file_000_000', 'name': 'raw_data_file', 'productType': 'data file', 'size': 1, 'characteristics': []}, {'@id': 'raw_data_file_000_007', 'name': 'raw_data_file', 'productType': 'data file', 'size': 1, 'characteristics': []}, {'@id': 'raw_data_file_000_001', 'name': 'raw_data_file', 'productType': 'data file', 'size': 1, 'characteristics': []}, {'@id': 'data_collection_003', 'name': 'data_collection', 'protocolType': {'term': 'data_collection'}, 'description': '', 'uri': '', 'version': '', 'parameterValues': [{'name': {'term': 'instrument'}, 'value': {'term': 'Somnotouch'}, 'unit': None}, {'name': {'term': 'sampling_rate'}, 'value': {'term': '200 Hz'}, 'unit': None}, {'name': {'term': 'time point'}, 'value': {'term': '4 hr'}, 'unit': None}]}, {'@id': 'data_collection_004', 'name': 'data_collection', 'protocolType': {'term': 'data_collection'}, 'description': '', 'uri': '', 'version': '', 'parameterValues': [{'name': {'term': 'instrument'}, 'value': {'term': 'Somnotouch'}, 'unit': None}, {'name': {'term': 'sampling_rate'}, 'value': {'term': '200 Hz'}, 'unit': None}, {'name': {'term': 'time point'}, 'value': {'term': '5 hr'}, 'unit': None}]}, {'@id': 'raw_data_file_000_002', 'name': 'raw_data_file', 'productType': 'data file', 'size': 1, 'characteristics': []}, {'@id': 'data_collection_007', 'name': 'data_collection', 'protocolType': {'term': 'data_collection'}, 'description': '', 'uri': '', 'version': '', 'parameterValues': [{'name': {'term': 'instrument'}, 'value': {'term': 'Somnotouch'}, 'unit': None}, {'name': {'term': 'sampling_rate'}, 'value': {'term': '200 Hz'}, 'unit': None}, {'name': {'term': 'time point'}, 'value': {'term': '8 hr'}, 'unit': None}]}, {'@id': 'data_collection_005', 'name': 'data_collection', 'protocolType': {'term': 'data_collection'}, 'description': '', 'uri': '', 'version': '', 'parameterValues': [{'name': {'term': 'instrument'}, 'value': {'term': 'Somnotouch'}, 'unit': None}, {'name': {'term': 'sampling_rate'}, 'value': {'term': '200 Hz'}, 'unit': None}, {'name': {'term': 'time point'}, 'value': {'term': '6 hr'}, 'unit': None}]}, {'@id': 'raw_data_file_000_004', 'name': 'raw_data_file', 'productType': 'data file', 'size': 1, 'characteristics': []}, {'@id': 'raw_data_file_000_003', 'name': 'raw_data_file', 'productType': 'data file', 'size': 1, 'characteristics': []}, {'@id': 'data_collection_000', 'name': 'data_collection', 'protocolType': {'term': 'data_collection'}, 'description': '', 'uri': '', 'version': '', 'parameterValues': [{'name': {'term': 'instrument'}, 'value': {'term': 'Somnotouch'}, 'unit': None}, {'name': {'term': 'sampling_rate'}, 'value': {'term': '200 Hz'}, 'unit': None}, {'name': {'term': 'time point'}, 'value': {'term': '1 hr'}, 'unit': None}]}], 'links': [['data_collection_005', 'raw_data_file_000_005'], ['data_collection_000', 'raw_data_file_000_000'], ['data_collection_007', 'raw_data_file_000_007'], ['data_collection_006', 'raw_data_file_000_006'], ['data_collection_003', 'raw_data_file_000_003'], ['data_collection_004', 'raw_data_file_000_004'], ['data_collection_001', 'raw_data_file_000_001'], ['data_collection_002', 'raw_data_file_000_002']]}, {'@id': '84a7de45-17f6-4590-940a-f55994c25737', 'measurementType': {'term': 'melatonine concentration'}, 'technologyType': {'term': 'radioimmunoprecipitation assay'}, 'nodes': [{'@id': 'raw_data_file_000_005', 'name': 'raw_data_file', 'productType': 'data file', 'size': 1, 'characteristics': []}, {'@id': 'extraction_000', 'name': 'extraction', 'protocolType': {'term': 'extraction'}, 'description': '', 'uri': '', 'version': '', 'parameterValues': []}, {'@id': 'radioimmunoprecipitation_007_000', 'name': 'radioimmunoprecipitation', 'protocolType': {'term': 'radioimmunoprecipitation'}, 'description': '', 'uri': '', 'version': '', 'parameterValues': [{'name': {'term': 'instrument'}, 'value': {'term': 'Beckon Dickison XYZ'}, 'unit': None}, {'name': {'term': 'antibody'}, 'value': {'term': 'AbCam antiMelatonine '}, 'unit': None}, {'name': {'term': 'time point'}, 'value': {'term': '8 hr'}, 'unit': None}]}, {'@id': 'raw_data_file_000_006', 'name': 'raw_data_file', 'productType': 'data file', 'size': 1, 'characteristics': []}, {'@id': 'raw_data_file_000_007', 'name': 'raw_data_file', 'productType': 'data file', 'size': 1, 'characteristics': []}, {'@id': 'radioimmunoprecipitation_000_000', 'name': 'radioimmunoprecipitation', 'protocolType': {'term': 'radioimmunoprecipitation'}, 'description': '', 'uri': '', 'version': '', 'parameterValues': [{'name': {'term': 'instrument'}, 'value': {'term': 'Beckon Dickison XYZ'}, 'unit': None}, {'name': {'term': 'antibody'}, 'value': {'term': 'AbCam antiMelatonine '}, 'unit': None}, {'name': {'term': 'time point'}, 'value': {'term': '1 hr'}, 'unit': None}]}, {'@id': 'raw_data_file_000_000', 'name': 'raw_data_file', 'productType': 'data file', 'size': 1, 'characteristics': []}, {'@id': 'radioimmunoprecipitation_006_000', 'name': 'radioimmunoprecipitation', 'protocolType': {'term': 'radioimmunoprecipitation'}, 'description': '', 'uri': '', 'version': '', 'parameterValues': [{'name': {'term': 'instrument'}, 'value': {'term': 'Beckon Dickison XYZ'}, 'unit': None}, {'name': {'term': 'antibody'}, 'value': {'term': 'AbCam antiMelatonine '}, 'unit': None}, {'name': {'term': 'time point'}, 'value': {'term': '7 hr'}, 'unit': None}]}, {'@id': 'raw_data_file_000_001', 'name': 'raw_data_file', 'productType': 'data file', 'size': 1, 'characteristics': []}, {'@id': 'radioimmunoprecipitation_003_000', 'name': 'radioimmunoprecipitation', 'protocolType': {'term': 'radioimmunoprecipitation'}, 'description': '', 'uri': '', 'version': '', 'parameterValues': [{'name': {'term': 'instrument'}, 'value': {'term': 'Beckon Dickison XYZ'}, 'unit': None}, {'name': {'term': 'antibody'}, 'value': {'term': 'AbCam antiMelatonine '}, 'unit': None}, {'name': {'term': 'time point'}, 'value': {'term': '4 hr'}, 'unit': None}]}, {'@id': 'radioimmunoprecipitation_002_000', 'name': 'radioimmunoprecipitation', 'protocolType': {'term': 'radioimmunoprecipitation'}, 'description': '', 'uri': '', 'version': '', 'parameterValues': [{'name': {'term': 'instrument'}, 'value': {'term': 'Beckon Dickison XYZ'}, 'unit': None}, {'name': {'term': 'antibody'}, 'value': {'term': 'AbCam antiMelatonine '}, 'unit': None}, {'name': {'term': 'time point'}, 'value': {'term': '3 hr'}, 'unit': None}]}, {'@id': 'extract_000_000', 'name': 'extract', 'productType': 'extract', 'size': 1, 'characteristics': [{'category': {'term': 'extract type'}, 'value': {'term': 'extract'}}]}, {'@id': 'raw_data_file_000_002', 'name': 'raw_data_file', 'productType': 'data file', 'size': 1, 'characteristics': []}, {'@id': 'raw_data_file_000_003', 'name': 'raw_data_file', 'productType': 'data file', 'size': 1, 'characteristics': []}, {'@id': 'radioimmunoprecipitation_005_000', 'name': 'radioimmunoprecipitation', 'protocolType': {'term': 'radioimmunoprecipitation'}, 'description': '', 'uri': '', 'version': '', 'parameterValues': [{'name': {'term': 'instrument'}, 'value': {'term': 'Beckon Dickison XYZ'}, 'unit': None}, {'name': {'term': 'antibody'}, 'value': {'term': 'AbCam antiMelatonine '}, 'unit': None}, {'name': {'term': 'time point'}, 'value': {'term': '6 hr'}, 'unit': None}]}, {'@id': 'radioimmunoprecipitation_004_000', 'name': 'radioimmunoprecipitation', 'protocolType': {'term': 'radioimmunoprecipitation'}, 'description': '', 'uri': '', 'version': '', 'parameterValues': [{'name': {'term': 'instrument'}, 'value': {'term': 'Beckon Dickison XYZ'}, 'unit': None}, {'name': {'term': 'antibody'}, 'value': {'term': 'AbCam antiMelatonine '}, 'unit': None}, {'name': {'term': 'time point'}, 'value': {'term': '5 hr'}, 'unit': None}]}, {'@id': 'raw_data_file_000_004', 'name': 'raw_data_file', 'productType': 'data file', 'size': 1, 'characteristics': []}, {'@id': 'radioimmunoprecipitation_001_000', 'name': 'radioimmunoprecipitation', 'protocolType': {'term': 'radioimmunoprecipitation'}, 'description': '', 'uri': '', 'version': '', 'parameterValues': [{'name': {'term': 'instrument'}, 'value': {'term': 'Beckon Dickison XYZ'}, 'unit': None}, {'name': {'term': 'antibody'}, 'value': {'term': 'AbCam antiMelatonine '}, 'unit': None}, {'name': {'term': 'time point'}, 'value': {'term': '2 hr'}, 'unit': None}]}], 'links': [['extract_000_000', 'radioimmunoprecipitation_006_000'], ['extract_000_000', 'radioimmunoprecipitation_007_000'], ['extract_000_000', 'radioimmunoprecipitation_005_000'], ['extraction_000', 'extract_000_000'], ['radioimmunoprecipitation_004_000', 'raw_data_file_000_004'], ['radioimmunoprecipitation_003_000', 'raw_data_file_000_003'], ['radioimmunoprecipitation_007_000', 'raw_data_file_000_007'], ['extract_000_000', 'radioimmunoprecipitation_002_000'], ['radioimmunoprecipitation_006_000', 'raw_data_file_000_006'], ['radioimmunoprecipitation_001_000', 'raw_data_file_000_001'], ['extract_000_000', 'radioimmunoprecipitation_003_000'], ['radioimmunoprecipitation_005_000', 'raw_data_file_000_005'], ['radioimmunoprecipitation_000_000', 'raw_data_file_000_000'], ['extract_000_000', 'radioimmunoprecipitation_004_000'], ['extract_000_000', 'radioimmunoprecipitation_000_000'], ['extract_000_000', 'radioimmunoprecipitation_001_000'], ['radioimmunoprecipitation_002_000', 'raw_data_file_000_002']]}, {'@id': 'fe8f737f-763b-4b4b-9976-3d6434281f02', 'measurementType': {'term': 'light sensitivity phenotyping'}, 'technologyType': {'term': 'direct measurement'}, 'nodes': [{'@id': 'data_collection_017', 'name': 'data_collection', 'protocolType': {'term': 'data_collection'}, 'description': '', 'uri': '', 'version': '', 'parameterValues': [{'name': {'term': 'variables'}, 'value': {'term': 'pupilla size'}, 'unit': None}, {'name': {'term': 'time point'}, 'value': {'term': '2 hr'}, 'unit': None}]}, {'@id': 'raw_data_file_000_017', 'name': 'raw_data_file', 'productType': 'data file', 'size': 1, 'characteristics': []}, {'@id': 'raw_data_file_000_006', 'name': 'raw_data_file', 'productType': 'data file', 'size': 1, 'characteristics': []}, {'@id': 'data_collection_020', 'name': 'data_collection', 'protocolType': {'term': 'data_collection'}, 'description': '', 'uri': '', 'version': '', 'parameterValues': [{'name': {'term': 'variables'}, 'value': {'term': 'pupilla size'}, 'unit': None}, {'name': {'term': 'time point'}, 'value': {'term': '5 hr'}, 'unit': None}]}, {'@id': 'raw_data_file_000_007', 'name': 'raw_data_file', 'productType': 'data file', 'size': 1, 'characteristics': []}, {'@id': 'raw_data_file_000_001', 'name': 'raw_data_file', 'productType': 'data file', 'size': 1, 'characteristics': []}, {'@id': 'data_collection_001', 'name': 'data_collection', 'protocolType': {'term': 'data_collection'}, 'description': '', 'uri': '', 'version': '', 'parameterValues': [{'name': {'term': 'variables'}, 'value': {'term': 'sleepiness'}, 'unit': None}, {'name': {'term': 'time point'}, 'value': {'term': '2 hr'}, 'unit': None}]}, {'@id': 'raw_data_file_000_010', 'name': 'raw_data_file', 'productType': 'data file', 'size': 1, 'characteristics': []}, {'@id': 'raw_data_file_000_012', 'name': 'raw_data_file', 'productType': 'data file', 'size': 1, 'characteristics': []}, {'@id': 'raw_data_file_000_011', 'name': 'raw_data_file', 'productType': 'data file', 'size': 1, 'characteristics': []}, {'@id': 'data_collection_015', 'name': 'data_collection', 'protocolType': {'term': 'data_collection'}, 'description': '', 'uri': '', 'version': '', 'parameterValues': [{'name': {'term': 'variables'}, 'value': {'term': 'heart rate'}, 'unit': None}, {'name': {'term': 'time point'}, 'value': {'term': '8 hr'}, 'unit': None}]}, {'@id': 'raw_data_file_000_003', 'name': 'raw_data_file', 'productType': 'data file', 'size': 1, 'characteristics': []}, {'@id': 'raw_data_file_000_015', 'name': 'raw_data_file', 'productType': 'data file', 'size': 1, 'characteristics': []}, {'@id': 'data_collection_011', 'name': 'data_collection', 'protocolType': {'term': 'data_collection'}, 'description': '', 'uri': '', 'version': '', 'parameterValues': [{'name': {'term': 'variables'}, 'value': {'term': 'heart rate'}, 'unit': None}, {'name': {'term': 'time point'}, 'value': {'term': '4 hr'}, 'unit': None}]}, {'@id': 'data_collection_012', 'name': 'data_collection', 'protocolType': {'term': 'data_collection'}, 'description': '', 'uri': '', 'version': '', 'parameterValues': [{'name': {'term': 'variables'}, 'value': {'term': 'heart rate'}, 'unit': None}, {'name': {'term': 'time point'}, 'value': {'term': '5 hr'}, 'unit': None}]}, {'@id': 'data_collection_002', 'name': 'data_collection', 'protocolType': {'term': 'data_collection'}, 'description': '', 'uri': '', 'version': '', 'parameterValues': [{'name': {'term': 'variables'}, 'value': {'term': 'sleepiness'}, 'unit': None}, {'name': {'term': 'time point'}, 'value': {'term': '3 hr'}, 'unit': None}]}, {'@id': 'data_collection_003', 'name': 'data_collection', 'protocolType': {'term': 'data_collection'}, 'description': '', 'uri': '', 'version': '', 'parameterValues': [{'name': {'term': 'variables'}, 'value': {'term': 'sleepiness'}, 'unit': None}, {'name': {'term': 'time point'}, 'value': {'term': '4 hr'}, 'unit': None}]}, {'@id': 'data_collection_009', 'name': 'data_collection', 'protocolType': {'term': 'data_collection'}, 'description': '', 'uri': '', 'version': '', 'parameterValues': [{'name': {'term': 'variables'}, 'value': {'term': 'heart rate'}, 'unit': None}, {'name': {'term': 'time point'}, 'value': {'term': '2 hr'}, 'unit': None}]}, {'@id': 'raw_data_file_000_009', 'name': 'raw_data_file', 'productType': 'data file', 'size': 1, 'characteristics': []}, {'@id': 'raw_data_file_000_002', 'name': 'raw_data_file', 'productType': 'data file', 'size': 1, 'characteristics': []}, {'@id': 'raw_data_file_000_021', 'name': 'raw_data_file', 'productType': 'data file', 'size': 1, 'characteristics': []}, {'@id': 'raw_data_file_000_014', 'name': 'raw_data_file', 'productType': 'data file', 'size': 1, 'characteristics': []}, {'@id': 'data_collection_021', 'name': 'data_collection', 'protocolType': {'term': 'data_collection'}, 'description': '', 'uri': '', 'version': '', 'parameterValues': [{'name': {'term': 'variables'}, 'value': {'term': 'pupilla size'}, 'unit': None}, {'name': {'term': 'time point'}, 'value': {'term': '6 hr'}, 'unit': None}]}, {'@id': 'raw_data_file_000_004', 'name': 'raw_data_file', 'productType': 'data file', 'size': 1, 'characteristics': []}, {'@id': 'data_collection_000', 'name': 'data_collection', 'protocolType': {'term': 'data_collection'}, 'description': '', 'uri': '', 'version': '', 'parameterValues': [{'name': {'term': 'variables'}, 'value': {'term': 'sleepiness'}, 'unit': None}, {'name': {'term': 'time point'}, 'value': {'term': '1 hr'}, 'unit': None}]}, {'@id': 'data_collection_004', 'name': 'data_collection', 'protocolType': {'term': 'data_collection'}, 'description': '', 'uri': '', 'version': '', 'parameterValues': [{'name': {'term': 'variables'}, 'value': {'term': 'sleepiness'}, 'unit': None}, {'name': {'term': 'time point'}, 'value': {'term': '5 hr'}, 'unit': None}]}, {'@id': 'data_collection_008', 'name': 'data_collection', 'protocolType': {'term': 'data_collection'}, 'description': '', 'uri': '', 'version': '', 'parameterValues': [{'name': {'term': 'variables'}, 'value': {'term': 'heart rate'}, 'unit': None}, {'name': {'term': 'time point'}, 'value': {'term': '1 hr'}, 'unit': None}]}, {'@id': 'data_collection_010', 'name': 'data_collection', 'protocolType': {'term': 'data_collection'}, 'description': '', 'uri': '', 'version': '', 'parameterValues': [{'name': {'term': 'variables'}, 'value': {'term': 'heart rate'}, 'unit': None}, {'name': {'term': 'time point'}, 'value': {'term': '3 hr'}, 'unit': None}]}, {'@id': 'data_collection_023', 'name': 'data_collection', 'protocolType': {'term': 'data_collection'}, 'description': '', 'uri': '', 'version': '', 'parameterValues': [{'name': {'term': 'variables'}, 'value': {'term': 'pupilla size'}, 'unit': None}, {'name': {'term': 'time point'}, 'value': {'term': '8 hr'}, 'unit': None}]}, {'@id': 'data_collection_005', 'name': 'data_collection', 'protocolType': {'term': 'data_collection'}, 'description': '', 'uri': '', 'version': '', 'parameterValues': [{'name': {'term': 'variables'}, 'value': {'term': 'sleepiness'}, 'unit': None}, {'name': {'term': 'time point'}, 'value': {'term': '6 hr'}, 'unit': None}]}, {'@id': 'raw_data_file_000_008', 'name': 'raw_data_file', 'productType': 'data file', 'size': 1, 'characteristics': []}, {'@id': 'raw_data_file_000_019', 'name': 'raw_data_file', 'productType': 'data file', 'size': 1, 'characteristics': []}, {'@id': 'data_collection_016', 'name': 'data_collection', 'protocolType': {'term': 'data_collection'}, 'description': '', 'uri': '', 'version': '', 'parameterValues': [{'name': {'term': 'variables'}, 'value': {'term': 'pupilla size'}, 'unit': None}, {'name': {'term': 'time point'}, 'value': {'term': '1 hr'}, 'unit': None}]}, {'@id': 'data_collection_019', 'name': 'data_collection', 'protocolType': {'term': 'data_collection'}, 'description': '', 'uri': '', 'version': '', 'parameterValues': [{'name': {'term': 'variables'}, 'value': {'term': 'pupilla size'}, 'unit': None}, {'name': {'term': 'time point'}, 'value': {'term': '4 hr'}, 'unit': None}]}, {'@id': 'data_collection_014', 'name': 'data_collection', 'protocolType': {'term': 'data_collection'}, 'description': '', 'uri': '', 'version': '', 'parameterValues': [{'name': {'term': 'variables'}, 'value': {'term': 'heart rate'}, 'unit': None}, {'name': {'term': 'time point'}, 'value': {'term': '7 hr'}, 'unit': None}]}, {'@id': 'data_collection_022', 'name': 'data_collection', 'protocolType': {'term': 'data_collection'}, 'description': '', 'uri': '', 'version': '', 'parameterValues': [{'name': {'term': 'variables'}, 'value': {'term': 'pupilla size'}, 'unit': None}, {'name': {'term': 'time point'}, 'value': {'term': '7 hr'}, 'unit': None}]}, {'@id': 'raw_data_file_000_005', 'name': 'raw_data_file', 'productType': 'data file', 'size': 1, 'characteristics': []}, {'@id': 'data_collection_007', 'name': 'data_collection', 'protocolType': {'term': 'data_collection'}, 'description': '', 'uri': '', 'version': '', 'parameterValues': [{'name': {'term': 'variables'}, 'value': {'term': 'sleepiness'}, 'unit': None}, {'name': {'term': 'time point'}, 'value': {'term': '8 hr'}, 'unit': None}]}, {'@id': 'raw_data_file_000_018', 'name': 'raw_data_file', 'productType': 'data file', 'size': 1, 'characteristics': []}, {'@id': 'raw_data_file_000_013', 'name': 'raw_data_file', 'productType': 'data file', 'size': 1, 'characteristics': []}, {'@id': 'raw_data_file_000_022', 'name': 'raw_data_file', 'productType': 'data file', 'size': 1, 'characteristics': []}, {'@id': 'raw_data_file_000_016', 'name': 'raw_data_file', 'productType': 'data file', 'size': 1, 'characteristics': []}, {'@id': 'data_collection_013', 'name': 'data_collection', 'protocolType': {'term': 'data_collection'}, 'description': '', 'uri': '', 'version': '', 'parameterValues': [{'name': {'term': 'variables'}, 'value': {'term': 'heart rate'}, 'unit': None}, {'name': {'term': 'time point'}, 'value': {'term': '6 hr'}, 'unit': None}]}, {'@id': 'raw_data_file_000_000', 'name': 'raw_data_file', 'productType': 'data file', 'size': 1, 'characteristics': []}, {'@id': 'raw_data_file_000_023', 'name': 'raw_data_file', 'productType': 'data file', 'size': 1, 'characteristics': []}, {'@id': 'data_collection_018', 'name': 'data_collection', 'protocolType': {'term': 'data_collection'}, 'description': '', 'uri': '', 'version': '', 'parameterValues': [{'name': {'term': 'variables'}, 'value': {'term': 'pupilla size'}, 'unit': None}, {'name': {'term': 'time point'}, 'value': {'term': '3 hr'}, 'unit': None}]}, {'@id': 'data_collection_006', 'name': 'data_collection', 'protocolType': {'term': 'data_collection'}, 'description': '', 'uri': '', 'version': '', 'parameterValues': [{'name': {'term': 'variables'}, 'value': {'term': 'sleepiness'}, 'unit': None}, {'name': {'term': 'time point'}, 'value': {'term': '7 hr'}, 'unit': None}]}, {'@id': 'raw_data_file_000_020', 'name': 'raw_data_file', 'productType': 'data file', 'size': 1, 'characteristics': []}], 'links': [['data_collection_022', 'raw_data_file_000_022'], ['data_collection_010', 'raw_data_file_000_010'], ['data_collection_006', 'raw_data_file_000_006'], ['data_collection_008', 'raw_data_file_000_008'], ['data_collection_019', 'raw_data_file_000_019'], ['data_collection_012', 'raw_data_file_000_012'], ['data_collection_021', 'raw_data_file_000_021'], ['data_collection_000', 'raw_data_file_000_000'], ['data_collection_020', 'raw_data_file_000_020'], ['data_collection_015', 'raw_data_file_000_015'], ['data_collection_009', 'raw_data_file_000_009'], ['data_collection_023', 'raw_data_file_000_023'], ['data_collection_014', 'raw_data_file_000_014'], ['data_collection_004', 'raw_data_file_000_004'], ['data_collection_017', 'raw_data_file_000_017'], ['data_collection_016', 'raw_data_file_000_016'], ['data_collection_005', 'raw_data_file_000_005'], ['data_collection_018', 'raw_data_file_000_018'], ['data_collection_007', 'raw_data_file_000_007'], ['data_collection_001', 'raw_data_file_000_001'], ['data_collection_013', 'raw_data_file_000_013'], ['data_collection_002', 'raw_data_file_000_002'], ['data_collection_003', 'raw_data_file_000_003'], ['data_collection_011', 'raw_data_file_000_011']]}], 'sampleToAssayMap': {'MAT2': ['4c3d05d6-20c1-4c1f-9908-c4baa4e36d34'], 'MAT1': ['84a7de45-17f6-4590-940a-f55994c25737', 'fe8f737f-763b-4b4b-9976-3d6434281f02']}}], 'mappings': [['st_cl1', 'sap1'], ['st_cl2', 'sap1'], ['st_cl3', 'sap1'], ['st_cl4', 'sap1'], ['st_cl5', 'sap1']]}, 'Arm 4': {'name': 'Arm 4', 'groupSize': 2, 'sourceType': {'category': {'term': 'genotype'}, 'value': {'term': 'mutant'}}, 'cells': [{'name': 'st_cl1', 'elements': [{'isTreatment': False, 'type': 'screen', 'factorValues': [{'factor': {'name': 'DURATION', 'type': {'term': 'time'}}, 'value': 0.0}]}]}, {'name': 'st_cl4', 'elements': [{'isTreatment': True, 'type': 'radiological intervention', 'factorValues': [{'factor': {'name': 'light', 'type': {'term': 'electromagnetic energy'}}, 'value': 'visible light at 3000K produced by LED array'}, {'factor': {'name': 'dose', 'type': {'term': 'quantity'}}, 'value': '250', 'unit': {'term': 'lux'}}, {'factor': {'name': 'duration', 'type': {'term': 'time'}}, 'value': '1', 'unit': {'term': 'hour'}}]}]}, {'name': 'st_cl3', 'elements': [{'isTreatment': False, 'type': 'washout', 'factorValues': [{'factor': {'name': 'DURATION', 'type': {'term': 'time'}}, 'value': '2', 'unit': {'term': 'weeks'}}]}]}, {'name': 'st_cl2', 'elements': [{'isTreatment': True, 'type': 'radiological intervention', 'factorValues': [{'factor': {'name': 'duration', 'type': {'term': 'time'}}, 'value': '1', 'unit': {'term': 'hr'}}, {'factor': {'name': 'light', 'type': {'term': 'electromagnetic energy'}}, 'value': 'visible light at 3000K produced by LED array'}, {'factor': {'name': 'dose', 'type': {'term': 'quantity'}}, 'value': '250', 'unit': {'term': 'lux'}}]}]}, {'name': 'st_cl5', 'elements': [{'isTreatment': False, 'type': 'follow-up', 'factorValues': [{'factor': {'name': 'DURATION', 'type': {'term': 'time'}}, 'value': 1, 'unit': {'term': 'month'}}]}]}], 'sampleAndAssayPlans': [{'name': 'sap1', 'samplePlan': [{'@id': 'MAT1', 'name': 'subject', 'productType': 'sample', 'size': 1, 'characteristics': [{'category': {'term': 'organism part'}, 'value': {'term': 'whole organism'}}]}, {'@id': 'MAT2', 'name': 'saliva', 'productType': 'sample', 'size': 1, 'characteristics': [{'category': {'term': 'organism part'}, 'value': {'term': 'saliva'}}]}], 'assayPlan': [{'@id': '4c3d05d6-20c1-4c1f-9908-c4baa4e36d34', 'measurementType': {'term': 'light sensitivity'}, 'technologyType': {'term': 'electroencephalography'}, 'nodes': [{'@id': 'raw_data_file_000_005', 'name': 'raw_data_file', 'productType': 'data file', 'size': 1, 'characteristics': []}, {'@id': 'data_collection_002', 'name': 'data_collection', 'protocolType': {'term': 'data_collection'}, 'description': '', 'uri': '', 'version': '', 'parameterValues': [{'name': {'term': 'instrument'}, 'value': {'term': 'Somnotouch'}, 'unit': None}, {'name': {'term': 'sampling_rate'}, 'value': {'term': '200 Hz'}, 'unit': None}, {'name': {'term': 'time point'}, 'value': {'term': '3 hr'}, 'unit': None}]}, {'@id': 'raw_data_file_000_006', 'name': 'raw_data_file', 'productType': 'data file', 'size': 1, 'characteristics': []}, {'@id': 'data_collection_001', 'name': 'data_collection', 'protocolType': {'term': 'data_collection'}, 'description': '', 'uri': '', 'version': '', 'parameterValues': [{'name': {'term': 'instrument'}, 'value': {'term': 'Somnotouch'}, 'unit': None}, {'name': {'term': 'sampling_rate'}, 'value': {'term': '200 Hz'}, 'unit': None}, {'name': {'term': 'time point'}, 'value': {'term': '2 hr'}, 'unit': None}]}, {'@id': 'data_collection_006', 'name': 'data_collection', 'protocolType': {'term': 'data_collection'}, 'description': '', 'uri': '', 'version': '', 'parameterValues': [{'name': {'term': 'instrument'}, 'value': {'term': 'Somnotouch'}, 'unit': None}, {'name': {'term': 'sampling_rate'}, 'value': {'term': '200 Hz'}, 'unit': None}, {'name': {'term': 'time point'}, 'value': {'term': '7 hr'}, 'unit': None}]}, {'@id': 'raw_data_file_000_000', 'name': 'raw_data_file', 'productType': 'data file', 'size': 1, 'characteristics': []}, {'@id': 'raw_data_file_000_007', 'name': 'raw_data_file', 'productType': 'data file', 'size': 1, 'characteristics': []}, {'@id': 'raw_data_file_000_001', 'name': 'raw_data_file', 'productType': 'data file', 'size': 1, 'characteristics': []}, {'@id': 'data_collection_003', 'name': 'data_collection', 'protocolType': {'term': 'data_collection'}, 'description': '', 'uri': '', 'version': '', 'parameterValues': [{'name': {'term': 'instrument'}, 'value': {'term': 'Somnotouch'}, 'unit': None}, {'name': {'term': 'sampling_rate'}, 'value': {'term': '200 Hz'}, 'unit': None}, {'name': {'term': 'time point'}, 'value': {'term': '4 hr'}, 'unit': None}]}, {'@id': 'data_collection_004', 'name': 'data_collection', 'protocolType': {'term': 'data_collection'}, 'description': '', 'uri': '', 'version': '', 'parameterValues': [{'name': {'term': 'instrument'}, 'value': {'term': 'Somnotouch'}, 'unit': None}, {'name': {'term': 'sampling_rate'}, 'value': {'term': '200 Hz'}, 'unit': None}, {'name': {'term': 'time point'}, 'value': {'term': '5 hr'}, 'unit': None}]}, {'@id': 'raw_data_file_000_002', 'name': 'raw_data_file', 'productType': 'data file', 'size': 1, 'characteristics': []}, {'@id': 'data_collection_007', 'name': 'data_collection', 'protocolType': {'term': 'data_collection'}, 'description': '', 'uri': '', 'version': '', 'parameterValues': [{'name': {'term': 'instrument'}, 'value': {'term': 'Somnotouch'}, 'unit': None}, {'name': {'term': 'sampling_rate'}, 'value': {'term': '200 Hz'}, 'unit': None}, {'name': {'term': 'time point'}, 'value': {'term': '8 hr'}, 'unit': None}]}, {'@id': 'data_collection_005', 'name': 'data_collection', 'protocolType': {'term': 'data_collection'}, 'description': '', 'uri': '', 'version': '', 'parameterValues': [{'name': {'term': 'instrument'}, 'value': {'term': 'Somnotouch'}, 'unit': None}, {'name': {'term': 'sampling_rate'}, 'value': {'term': '200 Hz'}, 'unit': None}, {'name': {'term': 'time point'}, 'value': {'term': '6 hr'}, 'unit': None}]}, {'@id': 'raw_data_file_000_004', 'name': 'raw_data_file', 'productType': 'data file', 'size': 1, 'characteristics': []}, {'@id': 'raw_data_file_000_003', 'name': 'raw_data_file', 'productType': 'data file', 'size': 1, 'characteristics': []}, {'@id': 'data_collection_000', 'name': 'data_collection', 'protocolType': {'term': 'data_collection'}, 'description': '', 'uri': '', 'version': '', 'parameterValues': [{'name': {'term': 'instrument'}, 'value': {'term': 'Somnotouch'}, 'unit': None}, {'name': {'term': 'sampling_rate'}, 'value': {'term': '200 Hz'}, 'unit': None}, {'name': {'term': 'time point'}, 'value': {'term': '1 hr'}, 'unit': None}]}], 'links': [['data_collection_005', 'raw_data_file_000_005'], ['data_collection_000', 'raw_data_file_000_000'], ['data_collection_007', 'raw_data_file_000_007'], ['data_collection_006', 'raw_data_file_000_006'], ['data_collection_003', 'raw_data_file_000_003'], ['data_collection_004', 'raw_data_file_000_004'], ['data_collection_001', 'raw_data_file_000_001'], ['data_collection_002', 'raw_data_file_000_002']]}, {'@id': '84a7de45-17f6-4590-940a-f55994c25737', 'measurementType': {'term': 'melatonine concentration'}, 'technologyType': {'term': 'radioimmunoprecipitation assay'}, 'nodes': [{'@id': 'raw_data_file_000_005', 'name': 'raw_data_file', 'productType': 'data file', 'size': 1, 'characteristics': []}, {'@id': 'extraction_000', 'name': 'extraction', 'protocolType': {'term': 'extraction'}, 'description': '', 'uri': '', 'version': '', 'parameterValues': []}, {'@id': 'radioimmunoprecipitation_007_000', 'name': 'radioimmunoprecipitation', 'protocolType': {'term': 'radioimmunoprecipitation'}, 'description': '', 'uri': '', 'version': '', 'parameterValues': [{'name': {'term': 'instrument'}, 'value': {'term': 'Beckon Dickison XYZ'}, 'unit': None}, {'name': {'term': 'antibody'}, 'value': {'term': 'AbCam antiMelatonine '}, 'unit': None}, {'name': {'term': 'time point'}, 'value': {'term': '8 hr'}, 'unit': None}]}, {'@id': 'raw_data_file_000_006', 'name': 'raw_data_file', 'productType': 'data file', 'size': 1, 'characteristics': []}, {'@id': 'raw_data_file_000_007', 'name': 'raw_data_file', 'productType': 'data file', 'size': 1, 'characteristics': []}, {'@id': 'radioimmunoprecipitation_000_000', 'name': 'radioimmunoprecipitation', 'protocolType': {'term': 'radioimmunoprecipitation'}, 'description': '', 'uri': '', 'version': '', 'parameterValues': [{'name': {'term': 'instrument'}, 'value': {'term': 'Beckon Dickison XYZ'}, 'unit': None}, {'name': {'term': 'antibody'}, 'value': {'term': 'AbCam antiMelatonine '}, 'unit': None}, {'name': {'term': 'time point'}, 'value': {'term': '1 hr'}, 'unit': None}]}, {'@id': 'raw_data_file_000_000', 'name': 'raw_data_file', 'productType': 'data file', 'size': 1, 'characteristics': []}, {'@id': 'radioimmunoprecipitation_006_000', 'name': 'radioimmunoprecipitation', 'protocolType': {'term': 'radioimmunoprecipitation'}, 'description': '', 'uri': '', 'version': '', 'parameterValues': [{'name': {'term': 'instrument'}, 'value': {'term': 'Beckon Dickison XYZ'}, 'unit': None}, {'name': {'term': 'antibody'}, 'value': {'term': 'AbCam antiMelatonine '}, 'unit': None}, {'name': {'term': 'time point'}, 'value': {'term': '7 hr'}, 'unit': None}]}, {'@id': 'raw_data_file_000_001', 'name': 'raw_data_file', 'productType': 'data file', 'size': 1, 'characteristics': []}, {'@id': 'radioimmunoprecipitation_003_000', 'name': 'radioimmunoprecipitation', 'protocolType': {'term': 'radioimmunoprecipitation'}, 'description': '', 'uri': '', 'version': '', 'parameterValues': [{'name': {'term': 'instrument'}, 'value': {'term': 'Beckon Dickison XYZ'}, 'unit': None}, {'name': {'term': 'antibody'}, 'value': {'term': 'AbCam antiMelatonine '}, 'unit': None}, {'name': {'term': 'time point'}, 'value': {'term': '4 hr'}, 'unit': None}]}, {'@id': 'radioimmunoprecipitation_002_000', 'name': 'radioimmunoprecipitation', 'protocolType': {'term': 'radioimmunoprecipitation'}, 'description': '', 'uri': '', 'version': '', 'parameterValues': [{'name': {'term': 'instrument'}, 'value': {'term': 'Beckon Dickison XYZ'}, 'unit': None}, {'name': {'term': 'antibody'}, 'value': {'term': 'AbCam antiMelatonine '}, 'unit': None}, {'name': {'term': 'time point'}, 'value': {'term': '3 hr'}, 'unit': None}]}, {'@id': 'extract_000_000', 'name': 'extract', 'productType': 'extract', 'size': 1, 'characteristics': [{'category': {'term': 'extract type'}, 'value': {'term': 'extract'}}]}, {'@id': 'raw_data_file_000_002', 'name': 'raw_data_file', 'productType': 'data file', 'size': 1, 'characteristics': []}, {'@id': 'raw_data_file_000_003', 'name': 'raw_data_file', 'productType': 'data file', 'size': 1, 'characteristics': []}, {'@id': 'radioimmunoprecipitation_005_000', 'name': 'radioimmunoprecipitation', 'protocolType': {'term': 'radioimmunoprecipitation'}, 'description': '', 'uri': '', 'version': '', 'parameterValues': [{'name': {'term': 'instrument'}, 'value': {'term': 'Beckon Dickison XYZ'}, 'unit': None}, {'name': {'term': 'antibody'}, 'value': {'term': 'AbCam antiMelatonine '}, 'unit': None}, {'name': {'term': 'time point'}, 'value': {'term': '6 hr'}, 'unit': None}]}, {'@id': 'radioimmunoprecipitation_004_000', 'name': 'radioimmunoprecipitation', 'protocolType': {'term': 'radioimmunoprecipitation'}, 'description': '', 'uri': '', 'version': '', 'parameterValues': [{'name': {'term': 'instrument'}, 'value': {'term': 'Beckon Dickison XYZ'}, 'unit': None}, {'name': {'term': 'antibody'}, 'value': {'term': 'AbCam antiMelatonine '}, 'unit': None}, {'name': {'term': 'time point'}, 'value': {'term': '5 hr'}, 'unit': None}]}, {'@id': 'raw_data_file_000_004', 'name': 'raw_data_file', 'productType': 'data file', 'size': 1, 'characteristics': []}, {'@id': 'radioimmunoprecipitation_001_000', 'name': 'radioimmunoprecipitation', 'protocolType': {'term': 'radioimmunoprecipitation'}, 'description': '', 'uri': '', 'version': '', 'parameterValues': [{'name': {'term': 'instrument'}, 'value': {'term': 'Beckon Dickison XYZ'}, 'unit': None}, {'name': {'term': 'antibody'}, 'value': {'term': 'AbCam antiMelatonine '}, 'unit': None}, {'name': {'term': 'time point'}, 'value': {'term': '2 hr'}, 'unit': None}]}], 'links': [['extract_000_000', 'radioimmunoprecipitation_006_000'], ['extract_000_000', 'radioimmunoprecipitation_007_000'], ['extract_000_000', 'radioimmunoprecipitation_005_000'], ['extraction_000', 'extract_000_000'], ['radioimmunoprecipitation_004_000', 'raw_data_file_000_004'], ['radioimmunoprecipitation_003_000', 'raw_data_file_000_003'], ['radioimmunoprecipitation_007_000', 'raw_data_file_000_007'], ['extract_000_000', 'radioimmunoprecipitation_002_000'], ['radioimmunoprecipitation_006_000', 'raw_data_file_000_006'], ['radioimmunoprecipitation_001_000', 'raw_data_file_000_001'], ['extract_000_000', 'radioimmunoprecipitation_003_000'], ['radioimmunoprecipitation_005_000', 'raw_data_file_000_005'], ['radioimmunoprecipitation_000_000', 'raw_data_file_000_000'], ['extract_000_000', 'radioimmunoprecipitation_004_000'], ['extract_000_000', 'radioimmunoprecipitation_000_000'], ['extract_000_000', 'radioimmunoprecipitation_001_000'], ['radioimmunoprecipitation_002_000', 'raw_data_file_000_002']]}, {'@id': 'fe8f737f-763b-4b4b-9976-3d6434281f02', 'measurementType': {'term': 'light sensitivity phenotyping'}, 'technologyType': {'term': 'direct measurement'}, 'nodes': [{'@id': 'data_collection_017', 'name': 'data_collection', 'protocolType': {'term': 'data_collection'}, 'description': '', 'uri': '', 'version': '', 'parameterValues': [{'name': {'term': 'variables'}, 'value': {'term': 'pupilla size'}, 'unit': None}, {'name': {'term': 'time point'}, 'value': {'term': '2 hr'}, 'unit': None}]}, {'@id': 'raw_data_file_000_017', 'name': 'raw_data_file', 'productType': 'data file', 'size': 1, 'characteristics': []}, {'@id': 'raw_data_file_000_006', 'name': 'raw_data_file', 'productType': 'data file', 'size': 1, 'characteristics': []}, {'@id': 'data_collection_020', 'name': 'data_collection', 'protocolType': {'term': 'data_collection'}, 'description': '', 'uri': '', 'version': '', 'parameterValues': [{'name': {'term': 'variables'}, 'value': {'term': 'pupilla size'}, 'unit': None}, {'name': {'term': 'time point'}, 'value': {'term': '5 hr'}, 'unit': None}]}, {'@id': 'raw_data_file_000_007', 'name': 'raw_data_file', 'productType': 'data file', 'size': 1, 'characteristics': []}, {'@id': 'raw_data_file_000_001', 'name': 'raw_data_file', 'productType': 'data file', 'size': 1, 'characteristics': []}, {'@id': 'data_collection_001', 'name': 'data_collection', 'protocolType': {'term': 'data_collection'}, 'description': '', 'uri': '', 'version': '', 'parameterValues': [{'name': {'term': 'variables'}, 'value': {'term': 'sleepiness'}, 'unit': None}, {'name': {'term': 'time point'}, 'value': {'term': '2 hr'}, 'unit': None}]}, {'@id': 'raw_data_file_000_010', 'name': 'raw_data_file', 'productType': 'data file', 'size': 1, 'characteristics': []}, {'@id': 'raw_data_file_000_012', 'name': 'raw_data_file', 'productType': 'data file', 'size': 1, 'characteristics': []}, {'@id': 'raw_data_file_000_011', 'name': 'raw_data_file', 'productType': 'data file', 'size': 1, 'characteristics': []}, {'@id': 'data_collection_015', 'name': 'data_collection', 'protocolType': {'term': 'data_collection'}, 'description': '', 'uri': '', 'version': '', 'parameterValues': [{'name': {'term': 'variables'}, 'value': {'term': 'heart rate'}, 'unit': None}, {'name': {'term': 'time point'}, 'value': {'term': '8 hr'}, 'unit': None}]}, {'@id': 'raw_data_file_000_003', 'name': 'raw_data_file', 'productType': 'data file', 'size': 1, 'characteristics': []}, {'@id': 'raw_data_file_000_015', 'name': 'raw_data_file', 'productType': 'data file', 'size': 1, 'characteristics': []}, {'@id': 'data_collection_011', 'name': 'data_collection', 'protocolType': {'term': 'data_collection'}, 'description': '', 'uri': '', 'version': '', 'parameterValues': [{'name': {'term': 'variables'}, 'value': {'term': 'heart rate'}, 'unit': None}, {'name': {'term': 'time point'}, 'value': {'term': '4 hr'}, 'unit': None}]}, {'@id': 'data_collection_012', 'name': 'data_collection', 'protocolType': {'term': 'data_collection'}, 'description': '', 'uri': '', 'version': '', 'parameterValues': [{'name': {'term': 'variables'}, 'value': {'term': 'heart rate'}, 'unit': None}, {'name': {'term': 'time point'}, 'value': {'term': '5 hr'}, 'unit': None}]}, {'@id': 'data_collection_002', 'name': 'data_collection', 'protocolType': {'term': 'data_collection'}, 'description': '', 'uri': '', 'version': '', 'parameterValues': [{'name': {'term': 'variables'}, 'value': {'term': 'sleepiness'}, 'unit': None}, {'name': {'term': 'time point'}, 'value': {'term': '3 hr'}, 'unit': None}]}, {'@id': 'data_collection_003', 'name': 'data_collection', 'protocolType': {'term': 'data_collection'}, 'description': '', 'uri': '', 'version': '', 'parameterValues': [{'name': {'term': 'variables'}, 'value': {'term': 'sleepiness'}, 'unit': None}, {'name': {'term': 'time point'}, 'value': {'term': '4 hr'}, 'unit': None}]}, {'@id': 'data_collection_009', 'name': 'data_collection', 'protocolType': {'term': 'data_collection'}, 'description': '', 'uri': '', 'version': '', 'parameterValues': [{'name': {'term': 'variables'}, 'value': {'term': 'heart rate'}, 'unit': None}, {'name': {'term': 'time point'}, 'value': {'term': '2 hr'}, 'unit': None}]}, {'@id': 'raw_data_file_000_009', 'name': 'raw_data_file', 'productType': 'data file', 'size': 1, 'characteristics': []}, {'@id': 'raw_data_file_000_002', 'name': 'raw_data_file', 'productType': 'data file', 'size': 1, 'characteristics': []}, {'@id': 'raw_data_file_000_021', 'name': 'raw_data_file', 'productType': 'data file', 'size': 1, 'characteristics': []}, {'@id': 'raw_data_file_000_014', 'name': 'raw_data_file', 'productType': 'data file', 'size': 1, 'characteristics': []}, {'@id': 'data_collection_021', 'name': 'data_collection', 'protocolType': {'term': 'data_collection'}, 'description': '', 'uri': '', 'version': '', 'parameterValues': [{'name': {'term': 'variables'}, 'value': {'term': 'pupilla size'}, 'unit': None}, {'name': {'term': 'time point'}, 'value': {'term': '6 hr'}, 'unit': None}]}, {'@id': 'raw_data_file_000_004', 'name': 'raw_data_file', 'productType': 'data file', 'size': 1, 'characteristics': []}, {'@id': 'data_collection_000', 'name': 'data_collection', 'protocolType': {'term': 'data_collection'}, 'description': '', 'uri': '', 'version': '', 'parameterValues': [{'name': {'term': 'variables'}, 'value': {'term': 'sleepiness'}, 'unit': None}, {'name': {'term': 'time point'}, 'value': {'term': '1 hr'}, 'unit': None}]}, {'@id': 'data_collection_004', 'name': 'data_collection', 'protocolType': {'term': 'data_collection'}, 'description': '', 'uri': '', 'version': '', 'parameterValues': [{'name': {'term': 'variables'}, 'value': {'term': 'sleepiness'}, 'unit': None}, {'name': {'term': 'time point'}, 'value': {'term': '5 hr'}, 'unit': None}]}, {'@id': 'data_collection_008', 'name': 'data_collection', 'protocolType': {'term': 'data_collection'}, 'description': '', 'uri': '', 'version': '', 'parameterValues': [{'name': {'term': 'variables'}, 'value': {'term': 'heart rate'}, 'unit': None}, {'name': {'term': 'time point'}, 'value': {'term': '1 hr'}, 'unit': None}]}, {'@id': 'data_collection_010', 'name': 'data_collection', 'protocolType': {'term': 'data_collection'}, 'description': '', 'uri': '', 'version': '', 'parameterValues': [{'name': {'term': 'variables'}, 'value': {'term': 'heart rate'}, 'unit': None}, {'name': {'term': 'time point'}, 'value': {'term': '3 hr'}, 'unit': None}]}, {'@id': 'data_collection_023', 'name': 'data_collection', 'protocolType': {'term': 'data_collection'}, 'description': '', 'uri': '', 'version': '', 'parameterValues': [{'name': {'term': 'variables'}, 'value': {'term': 'pupilla size'}, 'unit': None}, {'name': {'term': 'time point'}, 'value': {'term': '8 hr'}, 'unit': None}]}, {'@id': 'data_collection_005', 'name': 'data_collection', 'protocolType': {'term': 'data_collection'}, 'description': '', 'uri': '', 'version': '', 'parameterValues': [{'name': {'term': 'variables'}, 'value': {'term': 'sleepiness'}, 'unit': None}, {'name': {'term': 'time point'}, 'value': {'term': '6 hr'}, 'unit': None}]}, {'@id': 'raw_data_file_000_008', 'name': 'raw_data_file', 'productType': 'data file', 'size': 1, 'characteristics': []}, {'@id': 'raw_data_file_000_019', 'name': 'raw_data_file', 'productType': 'data file', 'size': 1, 'characteristics': []}, {'@id': 'data_collection_016', 'name': 'data_collection', 'protocolType': {'term': 'data_collection'}, 'description': '', 'uri': '', 'version': '', 'parameterValues': [{'name': {'term': 'variables'}, 'value': {'term': 'pupilla size'}, 'unit': None}, {'name': {'term': 'time point'}, 'value': {'term': '1 hr'}, 'unit': None}]}, {'@id': 'data_collection_019', 'name': 'data_collection', 'protocolType': {'term': 'data_collection'}, 'description': '', 'uri': '', 'version': '', 'parameterValues': [{'name': {'term': 'variables'}, 'value': {'term': 'pupilla size'}, 'unit': None}, {'name': {'term': 'time point'}, 'value': {'term': '4 hr'}, 'unit': None}]}, {'@id': 'data_collection_014', 'name': 'data_collection', 'protocolType': {'term': 'data_collection'}, 'description': '', 'uri': '', 'version': '', 'parameterValues': [{'name': {'term': 'variables'}, 'value': {'term': 'heart rate'}, 'unit': None}, {'name': {'term': 'time point'}, 'value': {'term': '7 hr'}, 'unit': None}]}, {'@id': 'data_collection_022', 'name': 'data_collection', 'protocolType': {'term': 'data_collection'}, 'description': '', 'uri': '', 'version': '', 'parameterValues': [{'name': {'term': 'variables'}, 'value': {'term': 'pupilla size'}, 'unit': None}, {'name': {'term': 'time point'}, 'value': {'term': '7 hr'}, 'unit': None}]}, {'@id': 'raw_data_file_000_005', 'name': 'raw_data_file', 'productType': 'data file', 'size': 1, 'characteristics': []}, {'@id': 'data_collection_007', 'name': 'data_collection', 'protocolType': {'term': 'data_collection'}, 'description': '', 'uri': '', 'version': '', 'parameterValues': [{'name': {'term': 'variables'}, 'value': {'term': 'sleepiness'}, 'unit': None}, {'name': {'term': 'time point'}, 'value': {'term': '8 hr'}, 'unit': None}]}, {'@id': 'raw_data_file_000_018', 'name': 'raw_data_file', 'productType': 'data file', 'size': 1, 'characteristics': []}, {'@id': 'raw_data_file_000_013', 'name': 'raw_data_file', 'productType': 'data file', 'size': 1, 'characteristics': []}, {'@id': 'raw_data_file_000_022', 'name': 'raw_data_file', 'productType': 'data file', 'size': 1, 'characteristics': []}, {'@id': 'raw_data_file_000_016', 'name': 'raw_data_file', 'productType': 'data file', 'size': 1, 'characteristics': []}, {'@id': 'data_collection_013', 'name': 'data_collection', 'protocolType': {'term': 'data_collection'}, 'description': '', 'uri': '', 'version': '', 'parameterValues': [{'name': {'term': 'variables'}, 'value': {'term': 'heart rate'}, 'unit': None}, {'name': {'term': 'time point'}, 'value': {'term': '6 hr'}, 'unit': None}]}, {'@id': 'raw_data_file_000_000', 'name': 'raw_data_file', 'productType': 'data file', 'size': 1, 'characteristics': []}, {'@id': 'raw_data_file_000_023', 'name': 'raw_data_file', 'productType': 'data file', 'size': 1, 'characteristics': []}, {'@id': 'data_collection_018', 'name': 'data_collection', 'protocolType': {'term': 'data_collection'}, 'description': '', 'uri': '', 'version': '', 'parameterValues': [{'name': {'term': 'variables'}, 'value': {'term': 'pupilla size'}, 'unit': None}, {'name': {'term': 'time point'}, 'value': {'term': '3 hr'}, 'unit': None}]}, {'@id': 'data_collection_006', 'name': 'data_collection', 'protocolType': {'term': 'data_collection'}, 'description': '', 'uri': '', 'version': '', 'parameterValues': [{'name': {'term': 'variables'}, 'value': {'term': 'sleepiness'}, 'unit': None}, {'name': {'term': 'time point'}, 'value': {'term': '7 hr'}, 'unit': None}]}, {'@id': 'raw_data_file_000_020', 'name': 'raw_data_file', 'productType': 'data file', 'size': 1, 'characteristics': []}], 'links': [['data_collection_022', 'raw_data_file_000_022'], ['data_collection_010', 'raw_data_file_000_010'], ['data_collection_006', 'raw_data_file_000_006'], ['data_collection_008', 'raw_data_file_000_008'], ['data_collection_019', 'raw_data_file_000_019'], ['data_collection_012', 'raw_data_file_000_012'], ['data_collection_021', 'raw_data_file_000_021'], ['data_collection_000', 'raw_data_file_000_000'], ['data_collection_020', 'raw_data_file_000_020'], ['data_collection_015', 'raw_data_file_000_015'], ['data_collection_009', 'raw_data_file_000_009'], ['data_collection_023', 'raw_data_file_000_023'], ['data_collection_014', 'raw_data_file_000_014'], ['data_collection_004', 'raw_data_file_000_004'], ['data_collection_017', 'raw_data_file_000_017'], ['data_collection_016', 'raw_data_file_000_016'], ['data_collection_005', 'raw_data_file_000_005'], ['data_collection_018', 'raw_data_file_000_018'], ['data_collection_007', 'raw_data_file_000_007'], ['data_collection_001', 'raw_data_file_000_001'], ['data_collection_013', 'raw_data_file_000_013'], ['data_collection_002', 'raw_data_file_000_002'], ['data_collection_003', 'raw_data_file_000_003'], ['data_collection_011', 'raw_data_file_000_011']]}], 'sampleToAssayMap': {'MAT2': ['4c3d05d6-20c1-4c1f-9908-c4baa4e36d34'], 'MAT1': ['84a7de45-17f6-4590-940a-f55994c25737', 'fe8f737f-763b-4b4b-9976-3d6434281f02']}}], 'mappings': [['st_cl1', 'sap1'], ['st_cl4', None], ['st_cl3', 'sap1'], ['st_cl2', None], ['st_cl5', 'sap1']]}}\n"
     ]
    }
   ],
   "source": [
    "# Let's now serialize the ISA study design to JSON\n",
    "import json\n",
    "from isatools.isajson import ISAJSONEncoder\n",
    "from isatools.create.models import StudyDesignEncoder\n",
    "\n",
    "f=json.dumps(study_design_final, cls=StudyDesignEncoder, sort_keys=True, indent=4, separators=(',', ': '))\n"
   ]
  },
  {
   "cell_type": "code",
   "execution_count": null,
   "metadata": {},
   "outputs": [],
   "source": [
    "# print(json.dumps(investigation, cls=ISAJSONEncoder, sort_keys=True, indent=4, separators=(',', ': ')))\n",
    "from isatools import isatab\n",
    "isatab.dump(investigation1, './')\n",
    "\n",
    "# from isatools.isatab import dump_tables_to_dataframes as dumpdf\n",
    "# dataframes = dumpdf(investigation)"
   ]
  },
  {
   "cell_type": "code",
   "execution_count": null,
   "metadata": {
    "scrolled": true
   },
   "outputs": [],
   "source": [
    "# let's produce a graphical overview of the study design arms and the associated sample assay plans\n",
    "\n",
    "from bokeh.io import output_file, show\n",
    "from bokeh.plotting import figure\n",
    "from bokeh.models import ColumnDataSource, Range1d, BoxAnnotation, Label, Legend, LegendItem, LabelSet\n",
    "from bokeh.models.tools import HoverTool\n",
    "\n",
    "import pandas as pd\n",
    "import datetime as dt\n",
    "\n",
    "import holoviews as hv\n",
    "from holoviews import opts, dim\n",
    "hv.extension('bokeh')"
   ]
  },
  {
   "cell_type": "code",
   "execution_count": null,
   "metadata": {
    "scrolled": true
   },
   "outputs": [],
   "source": [
    "def get_treatment_factors(some_element):\n",
    "    treat = \"\"\n",
    "    for j in range(len(some_element['factorValues'])):\n",
    "        if j < len(some_element['factorValues']) - 1:\n",
    "            if 'unit' in some_element['factorValues'][j].keys():\n",
    "                treat = treat + some_element['factorValues'][j]['factor']['name'].lower() + \": \" \\\n",
    "                        + str(some_element['factorValues'][j]['value']) + \" \" \\\n",
    "                        + str(some_element['factorValues'][j]['unit']['term'].lower()) + \", \"\n",
    "            else:\n",
    "                treat = treat + some_element['factorValues'][j]['factor']['name'].lower() + \": \" \\\n",
    "                        + str(some_element['factorValues'][j]['value']) + \",\"\n",
    "        else:\n",
    "            if 'unit' in some_element['factorValues'][j].keys():\n",
    "                treat = treat + some_element['factorValues'][j]['factor']['name'].lower() + \": \" \\\n",
    "                        + str(some_element['factorValues'][j]['value']) + \" \" \\\n",
    "                        + str(some_element['factorValues'][j]['unit']['term'].lower())\n",
    "            else:\n",
    "                treat = treat + some_element['factorValues'][j]['factor']['name'].lower() + \": \" \\\n",
    "                        + str(some_element['factorValues'][j]['value'])\n",
    "\n",
    "    return treat"
   ]
  },
  {
   "cell_type": "code",
   "execution_count": null,
   "metadata": {
    "scrolled": true
   },
   "outputs": [],
   "source": [
    "design = json.loads(json.dumps(study_design_final, cls=StudyDesignEncoder, sort_keys=True, indent=4, separators=(',', ': ')))\n",
    "frames = []\n",
    "Items = []\n",
    "\n",
    "# defining a color pallet for the different element types:\n",
    "element_colors = {\"biological intervention\": \"rgb(253,232,37)\",\n",
    "                  \"radiological intervention\": \"rgb(53, 155, 8)\",\n",
    "                  \"dietary intervention\": \"rgb(53, 155, 8)\",\n",
    "                  \"chemical intervention\": \"rgb(69, 13, 83)\",\n",
    "                  \"washout\": \"rgb(45, 62, 120)\",\n",
    "                  \"screen\": \"rgb(33, 144, 140)\",\n",
    "                  \"run in\": \"rgb(43, 144, 180)\",\n",
    "                  \"follow-up\": \"rgb(88, 189, 94)\",\n",
    "                  \"concomitant treatment\": \"rgb(255, 255, 0)\"}\n",
    "\n",
    "# processing the study design arms and treatment plans:\n",
    "for key in design[\"studyArms\"].keys():\n",
    "    DF = pd.DataFrame(columns=['Arm', 'Cell', 'Type', 'Start_date', 'End_date', 'Treatment', 'Color'])\n",
    "    arm_name = key\n",
    "    # print(\"arm: \", arm_name)\n",
    "    size = design[\"studyArms\"][key][\"groupSize\"]\n",
    "    size_annotation = \"n=\" + str(size)\n",
    "\n",
    "    cells_per_arm = design[\"studyArms\"][key][\"cells\"]\n",
    "    cell_counter = 0\n",
    "    for cell in cells_per_arm:\n",
    "        cell_name = cell['name']\n",
    "        elements_per_cell = cell['elements']\n",
    "\n",
    "        for element in elements_per_cell:\n",
    "            treat = \"\"\n",
    "            element_counter = 0                      \n",
    "            if 'concomitantTreatments' in element.keys():\n",
    "                element_counter = element_counter + 1\n",
    "                treatments = []\n",
    "                for item in element['concomitantTreatments']:\n",
    "                    treatment = get_treatment_factors(item)\n",
    "                    treatments.append(treatment)\n",
    "                    \n",
    "                concomitant = ','.join(treatments[0:-1])\n",
    "                concomitant = concomitant + ' and ' + treatments[-1]\n",
    "                array = [arm_name, cell_name, arm_name + \": [\" + concomitant + \"]_concomitant_\" + str(cell_counter),\n",
    "                     dt.datetime(cell_counter + 2000, 1, 1), dt.datetime(cell_counter + 2000 + 1, 1, 1),\n",
    "                     str(element['factorValues']),\n",
    "                     concomitant,\n",
    "                     element_colors[\"concomitant treatment\"]]\n",
    "                Items.append(array)\n",
    "\n",
    "            elif 'type' in element.keys():\n",
    "                treatment = get_treatment_factors(element)\n",
    "                element_counter = element_counter + 1\n",
    "                array = [arm_name, cell_name, arm_name + \": [\" + str(element['type']) + \"]_\" + str(cell_counter),\n",
    "                         dt.datetime((cell_counter + 2000), 1, 1), dt.datetime((cell_counter + 2000 + 1), 1, 1),\n",
    "                         # str(element['factorValues']),\n",
    "                         str(treatment),\n",
    "                         element_colors[element['type']]]\n",
    "                Items.append(array)\n",
    "\n",
    "            cell_counter = cell_counter + 1\n",
    "\n",
    "for i, Dat in enumerate(Items):\n",
    "    DF.loc[i] = Dat\n",
    "#     print(\"setting:\", DF.loc[i])\n",
    "\n",
    "# providing the canvas for the figure\n",
    "# print(\"THESE ARE THE TYPES_: \", DF.Type.tolist())\n",
    "fig = figure(title='Study Design Treatment Plan',\n",
    "             width=800,\n",
    "             height=400,\n",
    "             y_range=DF.Type.tolist(),\n",
    "             x_range=Range1d(DF.Start_date.min(), DF.End_date.max()),\n",
    "             tools='save')\n",
    "\n",
    "# adding a tool tip\n",
    "hover = HoverTool(tooltips=\"Task: @Type<br>\\\n",
    "Start: @Start_date<br>\\\n",
    "Cell_Name: @Cell<br>\\\n",
    "Treatment: @Treatment\")\n",
    "fig.add_tools(hover)\n",
    "\n",
    "DF['ID'] = DF.index+0.8\n",
    "# print(\"ID: \", DF['ID'])\n",
    "DF['ID1'] = DF.index+1.2\n",
    "# print(\"ID1: \", DF['ID1'])\n",
    "CDS = ColumnDataSource(DF)\n",
    "# , legend=str(size_annotation)\n",
    "r = fig.quad(left='Start_date', right='End_date', bottom='ID', top='ID1', source=CDS, color=\"Color\")\n",
    "fig.xaxis.axis_label = 'Time'\n",
    "fig.yaxis.axis_label = 'study arms'\n",
    "\n",
    "# working at providing a background color change for every arm in the study design\n",
    "counts = DF['Arm'].value_counts().tolist()\n",
    "# print(\"total number of study arms:\", len(counts), \"| number of phases per arm:\", counts)\n",
    "# box = []\n",
    "# for i, this_element in enumerate(DF['Arm']):\n",
    "#     if i==0:\n",
    "#         box[i] = BoxAnnotation(bottom=0,\n",
    "#                              top=DF['Arm'].value_counts().tolist()[0],\n",
    "#                              fill_color=\"blue\")\n",
    "#     elif i % 2 == 0:\n",
    "#         box[i] = BoxAnnotation(bottom=DF['Arm'].value_counts().tolist()[0],\n",
    "#                              top=DF['Arm'].value_counts().tolist()[0],\n",
    "#                              fill_color=\"silver\")\n",
    "#     else:\n",
    "#         box[i] = BoxAnnotation(bottom=DF['Arm'].value_counts().tolist()[0],\n",
    "#                              top=DF['Arm'].value_counts().tolist()[0] + DF['Arm'].value_counts().tolist()[1],\n",
    "#                              fill_color=\"grey\",\n",
    "#                              fill_alpha=0.1)\n",
    "# # adding the background color for each arm:\n",
    "# for element in box:\n",
    "#     fig.add_layout(element)\n",
    "# # fig.add_layout(box2)\n",
    "# # fig.add_layout(legend,'right')\n",
    "\n",
    "caption1 = Legend(items=[(str(size_annotation), [r])])\n",
    "fig.add_layout(caption1, 'right')\n",
    "\n",
    "citation = Label(x=10, y=-80, x_units='screen', y_units='screen',\n",
    "                 text='crossover design layout - isa-api 10.5', render_mode='css',\n",
    "                 border_line_color='gray', border_line_alpha=0.4,\n",
    "                 background_fill_color='white', background_fill_alpha=1.0)\n",
    "\n",
    "fig.add_layout(citation)\n",
    "\n",
    "show(fig)"
   ]
  },
  {
   "cell_type": "code",
   "execution_count": null,
   "metadata": {
    "scrolled": true
   },
   "outputs": [],
   "source": [
    "#Sankey Plot:\n",
    "# https://holoviews.org/gallery/demos/bokeh/energy_sankey.html\n",
    "    \n",
    "data=[ \n",
    "    ['patient', 'alterness', 5],\n",
    "    ['saliva', 'melatonine concentration', 5],\n",
    "    ['saliva', 'GC-MS', 5],\n",
    "    ['patient', 'heart rate', 5],\n",
    "    ['patient', 'sleepiness', 5],\n",
    "    ['patient', 'pupilla size', 5]]\n",
    "\n",
    "df=pd.DataFrame(data)\n",
    "df.columns=[\"sample\",\"assay\",\"size\"]\n",
    "df.head(5)\n",
    "sankey = hv.Sankey(df, label='Sample Assay Plan')\n",
    "sankey.opts(width=600, height=400, edge_color='sample', node_color='index', cmap='tab20')"
   ]
  }
 ],
 "metadata": {
  "kernelspec": {
   "display_name": "venv372",
   "language": "python",
   "name": "venv372"
  },
  "language_info": {
   "codemirror_mode": {
    "name": "ipython",
    "version": 3
   },
   "file_extension": ".py",
   "mimetype": "text/x-python",
   "name": "python",
   "nbconvert_exporter": "python",
   "pygments_lexer": "ipython3",
   "version": "3.7.2"
  },
  "widgets": {
   "state": {
    "7baa9c5f45bb4458984ca0e09a629029": {
     "views": [
      {
       "cell_index": 1
      }
     ]
    }
   },
   "version": "1.2.0"
  }
 },
 "nbformat": 4,
 "nbformat_minor": 1
}
