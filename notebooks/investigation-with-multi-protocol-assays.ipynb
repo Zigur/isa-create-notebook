{
 "cells": [
  {
   "cell_type": "markdown",
   "metadata": {},
   "source": [
    "# Multi-protocol assay: an attempt\n",
    "\n",
    "The goal of this notebook is to see whether an assay with different protocol names at a certain process sequence step can be serialized to ISA-TAB and/or ISA-JSON.\n",
    "\n",
    "First of all, let's import our dependencies:"
   ]
  },
  {
   "cell_type": "code",
   "execution_count": 1,
   "metadata": {},
   "outputs": [],
   "source": [
    "from isatools.model import (\n",
    "    Investigation,\n",
    "    Study,\n",
    "    OntologySource,\n",
    "    OntologyAnnotation,\n",
    "    Person,\n",
    "    Publication,\n",
    "    Source,\n",
    "    Sample,\n",
    "    Characteristic,\n",
    "    Protocol,\n",
    "    Process,\n",
    "    Assay,\n",
    "    Material,\n",
    "    DataFile,\n",
    "    batch_create_materials,\n",
    "    plink\n",
    ")\n",
    "import json\n",
    "from isatools.isajson import ISAJSONEncoder\n",
    "from isatools.isatab import dump_tables_to_dataframes"
   ]
  },
  {
   "cell_type": "markdown",
   "metadata": {},
   "source": [
    "## 1. Create an ISA Investigation object  with one Protocol for extraction and sequencing\n",
    "\n",
    "This is the \"control\" or baseline/standard investigation, where we only use one protocol type per step in the process sequence of an assay.\n",
    "We'll define and use one single `Protocol` object for extraction (`extraction_protocol`) and one for sequencing (`sequencing_protocol`). The code has been taken from here: https://isatools.readthedocs.io/en/latest/creationtutorial.html"
   ]
  },
  {
   "cell_type": "code",
   "execution_count": 2,
   "metadata": {},
   "outputs": [],
   "source": [
    "# Create an empty Investigation object and set some values to the instance variables.\n",
    "\n",
    "investigation = Investigation()\n",
    "investigation.identifier = \"i1\"\n",
    "investigation.title = \"My Simple ISA Investigation\"\n",
    "investigation.description = \"We could alternatively use the class constructor's parameters to set some default \" \\\n",
    "                            \"values at the time of creation, however we want to demonstrate how to use the \" \\\n",
    "                            \"object's instance variables to set values.\"\n",
    "investigation.submission_date = \"2016-11-03\"\n",
    "investigation.public_release_date = \"2016-11-03\"\n",
    "\n",
    "# Create an empty Study object and set some values. The Study must have a filename, otherwise when we serialize it\n",
    "# to ISA-Tab we would not know where to write it. We must also attach the study to the investigation by adding it\n",
    "# to the 'investigation' object's list of studies.\n",
    "\n",
    "study = Study(filename=\"s_study.txt\")\n",
    "study.identifier = \"s1\"\n",
    "study.title = \"My ISA Study\"\n",
    "study.description = \"Like with the Investigation, we could use the class constructor to set some default values, \" \\\n",
    "                    \"but have chosen to demonstrate in this example the use of instance variables to set initial \" \\\n",
    "                    \"values.\"\n",
    "study.submission_date = \"2016-11-03\"\n",
    "study.public_release_date = \"2016-11-03\"\n",
    "investigation.studies.append(study)\n",
    "\n",
    "# Some instance variables are typed with different objects and lists of objects. For example, a Study can have a\n",
    "# list of design descriptors. A design descriptor is an Ontology Annotation describing the kind of study at hand.\n",
    "# Ontology Annotations should typically reference an Ontology Source. We demonstrate a mix of using the class\n",
    "# constructors and setting values with instance variables. Note that the OntologyAnnotation object\n",
    "# 'intervention_design' links its 'term_source' directly to the 'obi' object instance. To ensure the OntologySource\n",
    "# is encapsulated in the descriptor, it is added to a list of 'ontology_source_references' in the Investigation\n",
    "# object. The 'intervention_design' object is then added to the list of 'design_descriptors' held by the Study\n",
    "# object.\n",
    "\n",
    "obi = OntologySource(name='OBI', description=\"Ontology for Biomedical Investigations\")\n",
    "investigation.ontology_source_references.append(obi)\n",
    "intervention_design = OntologyAnnotation(term_source=obi)\n",
    "intervention_design.term = \"intervention design\"\n",
    "intervention_design.term_accession = \"http://purl.obolibrary.org/obo/OBI_0000115\"\n",
    "study.design_descriptors.append(intervention_design)\n",
    "\n",
    "# Other instance variables common to both Investigation and Study objects include 'contacts' and 'publications',\n",
    "# each with lists of corresponding Person and Publication objects.\n",
    "\n",
    "contact = Person(first_name=\"Alice\", last_name=\"Robertson\", affiliation=\"University of Life\", roles=[OntologyAnnotation(term='submitter')])\n",
    "study.contacts.append(contact)\n",
    "publication = Publication(title=\"Experiments with Elephants\", author_list=\"A. Robertson, B. Robertson\")\n",
    "publication.pubmed_id = \"12345678\"\n",
    "publication.status = OntologyAnnotation(term=\"published\")\n",
    "study.publications.append(publication)\n",
    "\n",
    "# To create the study graph that corresponds to the contents of the study table file (the s_*.txt file), we need\n",
    "# to create a process sequence. To do this we use the Process class and attach it to the Study object's\n",
    "# 'process_sequence' list instance variable. Each process must be linked with a Protocol object that is attached to\n",
    "# a Study object's 'protocols' list instance variable. The sample collection Process object usually has as input\n",
    "# a Source material and as output a Sample material.\n",
    "\n",
    "# Here we create one Source material object and attach it to our study.\n",
    "\n",
    "source = Source(name='source_material')\n",
    "study.sources.append(source)\n",
    "\n",
    "# Then we create three Sample objects, with organism as Homo Sapiens, and attach them to the study. We use the utility function\n",
    "# batch_create_material() to clone a prototype material object. The function automatiaclly appends\n",
    "# an index to the material name. In this case, three samples will be created, with the names\n",
    "# 'sample_material-0', 'sample_material-1' and 'sample_material-2'.\n",
    "\n",
    "prototype_sample = Sample(name='sample_material', derives_from=(source,))\n",
    "ncbitaxon = OntologySource(name='NCBITaxon', description=\"NCBI Taxonomy\")\n",
    "characteristic_organism = Characteristic(category=OntologyAnnotation(term=\"Organism\"),\n",
    "                                 value=OntologyAnnotation(term=\"Homo Sapiens\", term_source=ncbitaxon,\n",
    "                                                          term_accession=\"http://purl.bioontology.org/ontology/NCBITAXON/9606\"))\n",
    "prototype_sample.characteristics.append(characteristic_organism)\n",
    "\n",
    "study.samples = batch_create_materials(prototype_sample, n=3)  # creates a batch of 3 samples\n",
    "\n",
    "# Now we create a single Protocol object that represents our sample collection protocol, and attach it to the\n",
    "# study object. Protocols must be declared before we describe Processes, as a processing event of some sort\n",
    "# must execute some defined protocol. In the case of the class model, Protocols should therefore be declared\n",
    "# before Processes in order for the Process to be linked to one.\n",
    "\n",
    "sample_collection_protocol = Protocol(name=\"sample collection\",\n",
    "                                      protocol_type=OntologyAnnotation(term=\"sample collection\"))\n",
    "study.protocols.append(sample_collection_protocol)\n",
    "sample_collection_process = Process(executes_protocol=sample_collection_protocol)\n",
    "\n",
    "# Next, we link our materials to the Process. In this particular case, we are describing a sample collection\n",
    "# process that takes one source material, and produces three different samples.\n",
    "#\n",
    "# (source_material)->(sample collection)->[(sample_material-0), (sample_material-1), (sample_material-2)]\n",
    "\n",
    "for src in study.sources:\n",
    "    sample_collection_process.inputs.append(src)\n",
    "for sam in study.samples:\n",
    "    sample_collection_process.outputs.append(sam)\n",
    "\n",
    "# Finally, attach the finished Process object to the study process_sequence. This can be done many times to\n",
    "# describe multiple sample collection events.\n",
    "\n",
    "study.process_sequence.append(sample_collection_process)\n",
    "\n",
    "# Next, we build n Assay object and attach two protocols, extraction and sequencing.\n",
    "\n",
    "assay = Assay(filename=\"a_assay.txt\")\n",
    "extraction_protocol = Protocol(name='extraction', protocol_type=OntologyAnnotation(term=\"material extraction\"))\n",
    "study.protocols.append(extraction_protocol)\n",
    "sequencing_protocol = Protocol(name='sequencing', protocol_type=OntologyAnnotation(term=\"material sequencing\"))\n",
    "study.protocols.append(sequencing_protocol)\n",
    "\n",
    "# To build out assay graphs, we enumereate the samples from the study-level, and for each sample we create an\n",
    "# extraction process and a sequencing process. The extraction process takes as input a sample material, and produces\n",
    "# an extract material. The sequencing process takes the extract material and produces a data file. This will\n",
    "# produce three graphs, from sample material through to data, as follows:\n",
    "#\n",
    "# (sample_material-0)->(extraction)->(extract-0)->(sequencing)->(sequenced-data-0)\n",
    "# (sample_material-1)->(extraction)->(extract-1)->(sequencing)->(sequenced-data-1)\n",
    "# (sample_material-2)->(extraction)->(extract-2)->(sequencing)->(sequenced-data-2)\n",
    "#\n",
    "# Note that the extraction processes and sequencing processes are distinctly separate instances, where the three\n",
    "# graphs are NOT interconnected.\n",
    "\n",
    "for i, sample in enumerate(study.samples):\n",
    "\n",
    "    # create an extraction process that executes the extraction protocol\n",
    "\n",
    "    extraction_process = Process(executes_protocol=extraction_protocol)\n",
    "\n",
    "    # extraction process takes as input a sample, and produces an extract material as output\n",
    "\n",
    "    extraction_process.inputs.append(sample)\n",
    "    material = Material(name=\"extract-{}\".format(i))\n",
    "    material.type = \"Extract Name\"\n",
    "    extraction_process.outputs.append(material)\n",
    "\n",
    "    # create a sequencing process that executes the sequencing protocol\n",
    "\n",
    "    sequencing_process = Process(executes_protocol=sequencing_protocol)\n",
    "    sequencing_process.name = \"assay-name-{}\".format(i)\n",
    "    sequencing_process.inputs.append(extraction_process.outputs[0])\n",
    "\n",
    "    # Sequencing process usually has an output data file\n",
    "\n",
    "    datafile = DataFile(filename=\"sequenced-data-{}\".format(i), label=\"Raw Data File\")\n",
    "    sequencing_process.outputs.append(datafile)\n",
    "\n",
    "    # Ensure Processes are linked forward and backward. plink(from_process, to_process) is a function to set\n",
    "    # these links for you. It is found in the isatools.model package\n",
    "\n",
    "    plink(extraction_process, sequencing_process)\n",
    "\n",
    "    # make sure the extract, data file, and the processes are attached to the assay\n",
    "\n",
    "    assay.data_files.append(datafile)\n",
    "    assay.samples.append(sample)\n",
    "    assay.other_material.append(material)\n",
    "    assay.process_sequence.append(extraction_process)\n",
    "    assay.process_sequence.append(sequencing_process)\n",
    "    assay.measurement_type = OntologyAnnotation(term=\"gene sequencing\")\n",
    "    assay.technology_type = OntologyAnnotation(term=\"nucleotide sequencing\")\n",
    "\n",
    "# attach the assay to the study\n",
    "\n",
    "study.assays.append(assay)\n"
   ]
  },
  {
   "cell_type": "markdown",
   "metadata": {},
   "source": [
    "### Serialize the Investigation to ISA-tab and ISA JSON\n",
    "\n",
    "Now let's serialize the single protocol type investigation to ISA-tab (using the helper method `dump_tables_to_dataframes`) and inspect the data frames:"
   ]
  },
  {
   "cell_type": "code",
   "execution_count": 3,
   "metadata": {},
   "outputs": [],
   "source": [
    "dataframes = dump_tables_to_dataframes(investigation)"
   ]
  },
  {
   "cell_type": "code",
   "execution_count": 4,
   "metadata": {},
   "outputs": [
    {
     "data": {
      "text/plain": [
       "'s_study.txt'"
      ]
     },
     "metadata": {},
     "output_type": "display_data"
    },
    {
     "data": {
      "text/plain": [
       "'a_assay.txt'"
      ]
     },
     "metadata": {},
     "output_type": "display_data"
    }
   ],
   "source": [
    "for key in dataframes.keys():\n",
    "    display(key)"
   ]
  },
  {
   "cell_type": "markdown",
   "metadata": {},
   "source": [
    "We have one assay as expected. Let's inspect the assay:"
   ]
  },
  {
   "cell_type": "code",
   "execution_count": 5,
   "metadata": {},
   "outputs": [
    {
     "data": {
      "text/html": [
       "<div>\n",
       "<style scoped>\n",
       "    .dataframe tbody tr th:only-of-type {\n",
       "        vertical-align: middle;\n",
       "    }\n",
       "\n",
       "    .dataframe tbody tr th {\n",
       "        vertical-align: top;\n",
       "    }\n",
       "\n",
       "    .dataframe thead th {\n",
       "        text-align: right;\n",
       "    }\n",
       "</style>\n",
       "<table border=\"1\" class=\"dataframe\">\n",
       "  <thead>\n",
       "    <tr style=\"text-align: right;\">\n",
       "      <th></th>\n",
       "      <th>Sample Name</th>\n",
       "      <th>Protocol REF</th>\n",
       "      <th>Extract Name</th>\n",
       "      <th>Protocol REF.1</th>\n",
       "      <th>Raw Data File</th>\n",
       "    </tr>\n",
       "  </thead>\n",
       "  <tbody>\n",
       "    <tr>\n",
       "      <th>0</th>\n",
       "      <td>sample_material-0</td>\n",
       "      <td>extraction</td>\n",
       "      <td>extract-0</td>\n",
       "      <td>sequencing</td>\n",
       "      <td>sequenced-data-0</td>\n",
       "    </tr>\n",
       "    <tr>\n",
       "      <th>1</th>\n",
       "      <td>sample_material-1</td>\n",
       "      <td>extraction</td>\n",
       "      <td>extract-1</td>\n",
       "      <td>sequencing</td>\n",
       "      <td>sequenced-data-1</td>\n",
       "    </tr>\n",
       "    <tr>\n",
       "      <th>2</th>\n",
       "      <td>sample_material-2</td>\n",
       "      <td>extraction</td>\n",
       "      <td>extract-2</td>\n",
       "      <td>sequencing</td>\n",
       "      <td>sequenced-data-2</td>\n",
       "    </tr>\n",
       "  </tbody>\n",
       "</table>\n",
       "</div>"
      ],
      "text/plain": [
       "         Sample Name Protocol REF Extract Name Protocol REF.1  \\\n",
       "0  sample_material-0   extraction    extract-0     sequencing   \n",
       "1  sample_material-1   extraction    extract-1     sequencing   \n",
       "2  sample_material-2   extraction    extract-2     sequencing   \n",
       "\n",
       "      Raw Data File  \n",
       "0  sequenced-data-0  \n",
       "1  sequenced-data-1  \n",
       "2  sequenced-data-2  "
      ]
     },
     "execution_count": 5,
     "metadata": {},
     "output_type": "execute_result"
    }
   ],
   "source": [
    "dataframes['a_assay.txt']"
   ]
  },
  {
   "cell_type": "markdown",
   "metadata": {},
   "source": [
    "As we can see the Protocol REF is the same for all the nodes, both for the \"extraction\" process and the \"sequecing\" process. "
   ]
  },
  {
   "cell_type": "markdown",
   "metadata": {},
   "source": [
    "We'll now try and serialize the Investigation to ISA JSON:"
   ]
  },
  {
   "cell_type": "code",
   "execution_count": 6,
   "metadata": {},
   "outputs": [],
   "source": [
    "inv_json = json.dumps(investigation, cls=ISAJSONEncoder)"
   ]
  },
  {
   "cell_type": "code",
   "execution_count": 7,
   "metadata": {},
   "outputs": [
    {
     "data": {
      "text/plain": [
       "'{\"identifier\": \"i1\", \"title\": \"My Simple ISA Investigation\", \"description\": \"We could alternatively use the class constructor\\'s parameters to set some default values at the time of creation, however we want to demonstrate how to use the object\\'s instance variables to set values.\", \"comments\": [], \"ontologySourceReferences\": [{\"name\": \"OBI\", \"description\": \"Ontology for Biomedical Investigations\", \"file\": \"\", \"version\": \"\"}], \"people\": [], \"publicReleaseDate\": \"2016-11-03\", \"submissionDate\": \"2016-11-03\", \"publications\": [], \"studies\": [{\"filename\": \"s_study.txt\", \"identifier\": \"s1\", \"title\": \"My ISA Study\", \"description\": \"Like with the Investigation, we could use the class constructor to set some default values, but have chosen to demonstrate in this example the use of instance variables to set initial values.\", \"submissionDate\": \"2016-11-03\", \"publicReleaseDate\": \"2016-11-03\", \"publications\": [{\"authorList\": \"A. Robertson, B. Robertson\", \"doi\": \"\", \"pubMedID\": \"12345678\", \"status\": {\"@id\": \"#16e2fff7-de2e-4ceb-a5a9-f0d1898750d6\", \"annotationValue\": \"published\", \"termAccession\": \"\", \"termSource\": \"\", \"comments\": []}, \"title\": \"Experiments with Elephants\"}], \"people\": [{\"address\": \"\", \"affiliation\": \"University of Life\", \"comments\": [], \"email\": \"\", \"fax\": \"\", \"firstName\": \"Alice\", \"lastName\": \"Robertson\", \"midInitials\": \"\", \"phone\": \"\", \"roles\": [{\"@id\": \"#16e2fff7-de2e-4ceb-a5a9-f0d1898750d6\", \"annotationValue\": \"submitter\", \"termAccession\": \"\", \"termSource\": \"\", \"comments\": []}]}], \"studyDesignDescriptors\": [{\"@id\": \"#16e2fff7-de2e-4ceb-a5a9-f0d1898750d6\", \"annotationValue\": \"intervention design\", \"termAccession\": \"http://purl.obolibrary.org/obo/OBI_0000115\", \"termSource\": \"OBI\", \"comments\": []}], \"protocols\": [{\"@id\": \"#4667911136\", \"description\": \"\", \"parameters\": [], \"name\": \"sample collection\", \"protocolType\": {\"@id\": \"#16e2fff7-de2e-4ceb-a5a9-f0d1898750d6\", \"annotationValue\": \"sample collection\", \"termAccession\": \"\", \"termSource\": \"\", \"comments\": []}, \"uri\": \"\", \"comments\": [], \"components\": [], \"version\": \"\"}, {\"@id\": \"#4667911232\", \"description\": \"\", \"parameters\": [], \"name\": \"extraction\", \"protocolType\": {\"@id\": \"#16e2fff7-de2e-4ceb-a5a9-f0d1898750d6\", \"annotationValue\": \"material extraction\", \"termAccession\": \"\", \"termSource\": \"\", \"comments\": []}, \"uri\": \"\", \"comments\": [], \"components\": [], \"version\": \"\"}, {\"@id\": \"#4667911376\", \"description\": \"\", \"parameters\": [], \"name\": \"sequencing\", \"protocolType\": {\"@id\": \"#16e2fff7-de2e-4ceb-a5a9-f0d1898750d6\", \"annotationValue\": \"material sequencing\", \"termAccession\": \"\", \"termSource\": \"\", \"comments\": []}, \"uri\": \"\", \"comments\": [], \"components\": [], \"version\": \"\"}], \"materials\": {\"sources\": [{\"@id\": \"#source/4668083936\", \"name\": \"source_material\", \"characteristics\": []}], \"samples\": [{\"@id\": \"#sample/4667908736\", \"name\": \"sample_material-0\", \"characteristics\": [{\"category\": {\"@id\": \"#16e2fff7-de2e-4ceb-a5a9-f0d1898750d6\"}, \"value\": {\"@id\": \"#16e2fff7-de2e-4ceb-a5a9-f0d1898750d6\", \"annotationValue\": \"Homo Sapiens\", \"termAccession\": \"http://purl.bioontology.org/ontology/NCBITAXON/9606\", \"termSource\": \"NCBITaxon\", \"comments\": []}}], \"factorValues\": []}, {\"@id\": \"#sample/4667908592\", \"name\": \"sample_material-1\", \"characteristics\": [{\"category\": {\"@id\": \"#16e2fff7-de2e-4ceb-a5a9-f0d1898750d6\"}, \"value\": {\"@id\": \"#16e2fff7-de2e-4ceb-a5a9-f0d1898750d6\", \"annotationValue\": \"Homo Sapiens\", \"termAccession\": \"http://purl.bioontology.org/ontology/NCBITAXON/9606\", \"termSource\": \"NCBITaxon\", \"comments\": []}}], \"factorValues\": []}, {\"@id\": \"#sample/4667909648\", \"name\": \"sample_material-2\", \"characteristics\": [{\"category\": {\"@id\": \"#16e2fff7-de2e-4ceb-a5a9-f0d1898750d6\"}, \"value\": {\"@id\": \"#16e2fff7-de2e-4ceb-a5a9-f0d1898750d6\", \"annotationValue\": \"Homo Sapiens\", \"termAccession\": \"http://purl.bioontology.org/ontology/NCBITAXON/9606\", \"termSource\": \"NCBITaxon\", \"comments\": []}}], \"factorValues\": []}], \"otherMaterials\": []}, \"processSequence\": [{\"@id\": \"#process/4667910368\", \"name\": \"\", \"executesProtocol\": {\"@id\": \"#4667911136\"}, \"parameterValues\": [], \"performer\": \"\", \"date\": \"\", \"inputs\": [{\"@id\": \"#source/4668083936\"}], \"outputs\": [{\"@id\": \"#sample/4667908736\"}, {\"@id\": \"#sample/4667908592\"}, {\"@id\": \"#sample/4667909648\"}], \"comments\": []}], \"factors\": [], \"characteristicCategories\": [], \"unitCategories\": [], \"comments\": [], \"assays\": [{\"measurementType\": {\"@id\": \"#16e2fff7-de2e-4ceb-a5a9-f0d1898750d6\", \"annotationValue\": \"gene sequencing\", \"termAccession\": \"\", \"termSource\": \"\", \"comments\": []}, \"technologyType\": {\"@id\": \"#16e2fff7-de2e-4ceb-a5a9-f0d1898750d6\", \"annotationValue\": \"nucleotide sequencing\", \"termAccession\": \"\", \"termSource\": \"\", \"comments\": []}, \"technologyPlatform\": \"\", \"filename\": \"a_assay.txt\", \"characteristicCategories\": [], \"unitCategories\": [], \"comments\": [], \"materials\": {\"samples\": [{\"@id\": \"#sample/4667908736\", \"name\": \"sample_material-0\", \"characteristics\": [{\"category\": {\"@id\": \"#16e2fff7-de2e-4ceb-a5a9-f0d1898750d6\"}, \"value\": {\"@id\": \"#16e2fff7-de2e-4ceb-a5a9-f0d1898750d6\", \"annotationValue\": \"Homo Sapiens\", \"termAccession\": \"http://purl.bioontology.org/ontology/NCBITAXON/9606\", \"termSource\": \"NCBITaxon\", \"comments\": []}}], \"factorValues\": []}, {\"@id\": \"#sample/4667908592\", \"name\": \"sample_material-1\", \"characteristics\": [{\"category\": {\"@id\": \"#16e2fff7-de2e-4ceb-a5a9-f0d1898750d6\"}, \"value\": {\"@id\": \"#16e2fff7-de2e-4ceb-a5a9-f0d1898750d6\", \"annotationValue\": \"Homo Sapiens\", \"termAccession\": \"http://purl.bioontology.org/ontology/NCBITAXON/9606\", \"termSource\": \"NCBITaxon\", \"comments\": []}}], \"factorValues\": []}, {\"@id\": \"#sample/4667909648\", \"name\": \"sample_material-2\", \"characteristics\": [{\"category\": {\"@id\": \"#16e2fff7-de2e-4ceb-a5a9-f0d1898750d6\"}, \"value\": {\"@id\": \"#16e2fff7-de2e-4ceb-a5a9-f0d1898750d6\", \"annotationValue\": \"Homo Sapiens\", \"termAccession\": \"http://purl.bioontology.org/ontology/NCBITAXON/9606\", \"termSource\": \"NCBITaxon\", \"comments\": []}}], \"factorValues\": []}], \"otherMaterials\": [{\"@id\": \"#material/extract-4667911520\", \"name\": \"extract-0\", \"type\": \"Extract Name\", \"characteristics\": []}, {\"@id\": \"#material/extract-4667908832\", \"name\": \"extract-1\", \"type\": \"Extract Name\", \"characteristics\": []}, {\"@id\": \"#material/extract-4667908880\", \"name\": \"extract-2\", \"type\": \"Extract Name\", \"characteristics\": []}]}, \"dataFiles\": [{\"@id\": \"#data/rawdatafile-4667911664\", \"name\": \"sequenced-data-0\", \"type\": \"Raw Data File\", \"comments\": []}, {\"@id\": \"#data/rawdatafile-4667911952\", \"name\": \"sequenced-data-1\", \"type\": \"Raw Data File\", \"comments\": []}, {\"@id\": \"#data/rawdatafile-4667961456\", \"name\": \"sequenced-data-2\", \"type\": \"Raw Data File\", \"comments\": []}], \"processSequence\": [{\"@id\": \"#process/4667911472\", \"name\": \"\", \"executesProtocol\": {\"@id\": \"#4667911232\"}, \"parameterValues\": [], \"performer\": \"\", \"date\": \"\", \"nextProcess\": {\"@id\": \"#process/4667911616\"}, \"inputs\": [{\"@id\": \"#sample/4667908736\"}], \"outputs\": [{\"@id\": \"#material/extract-4667911520\"}], \"comments\": []}, {\"@id\": \"#process/4667911616\", \"name\": \"assay-name-0\", \"executesProtocol\": {\"@id\": \"#4667911376\"}, \"parameterValues\": [], \"performer\": \"\", \"date\": \"\", \"previousProcess\": {\"@id\": \"#process/4667911472\"}, \"inputs\": [{\"@id\": \"#material/extract-4667911520\"}], \"outputs\": [{\"@id\": \"#data/rawdatafile-4667911664\"}], \"comments\": []}, {\"@id\": \"#process/4667911088\", \"name\": \"\", \"executesProtocol\": {\"@id\": \"#4667911232\"}, \"parameterValues\": [], \"performer\": \"\", \"date\": \"\", \"nextProcess\": {\"@id\": \"#process/4667911904\"}, \"inputs\": [{\"@id\": \"#sample/4667908592\"}], \"outputs\": [{\"@id\": \"#material/extract-4667908832\"}], \"comments\": []}, {\"@id\": \"#process/4667911904\", \"name\": \"assay-name-1\", \"executesProtocol\": {\"@id\": \"#4667911376\"}, \"parameterValues\": [], \"performer\": \"\", \"date\": \"\", \"previousProcess\": {\"@id\": \"#process/4667911088\"}, \"inputs\": [{\"@id\": \"#material/extract-4667908832\"}], \"outputs\": [{\"@id\": \"#data/rawdatafile-4667911952\"}], \"comments\": []}, {\"@id\": \"#process/4667911280\", \"name\": \"\", \"executesProtocol\": {\"@id\": \"#4667911232\"}, \"parameterValues\": [], \"performer\": \"\", \"date\": \"\", \"nextProcess\": {\"@id\": \"#process/4667961408\"}, \"inputs\": [{\"@id\": \"#sample/4667909648\"}], \"outputs\": [{\"@id\": \"#material/extract-4667908880\"}], \"comments\": []}, {\"@id\": \"#process/4667961408\", \"name\": \"assay-name-2\", \"executesProtocol\": {\"@id\": \"#4667911376\"}, \"parameterValues\": [], \"performer\": \"\", \"date\": \"\", \"previousProcess\": {\"@id\": \"#process/4667911280\"}, \"inputs\": [{\"@id\": \"#material/extract-4667908880\"}], \"outputs\": [{\"@id\": \"#data/rawdatafile-4667961456\"}], \"comments\": []}]}]}]}'"
      ]
     },
     "execution_count": 7,
     "metadata": {},
     "output_type": "execute_result"
    }
   ],
   "source": [
    "inv_json"
   ]
  },
  {
   "cell_type": "markdown",
   "metadata": {},
   "source": [
    "The serialisation works correctly"
   ]
  },
  {
   "cell_type": "markdown",
   "metadata": {},
   "source": [
    "## 2. Create an Investigation with more than one protocol per protocol type (\"extraction\" and \"sequencing\")\n",
    "\n",
    "Now we move on to our actual challenging use case.\n",
    "\n",
    "We'll define and use two `Protocol` objects for extraction (`extraction_protocol_1` and `extraction_protocol_2`) and two for sequencing (`sequencing_protocol_1` and `sequencing_protocol_2`) and use both in this new investigation.\n",
    "Even though we use the same protocl type for the two different protocols the protocol name is different. See the code below at lines 105-112 for the actual implementation."
   ]
  },
  {
   "cell_type": "code",
   "execution_count": 8,
   "metadata": {},
   "outputs": [],
   "source": [
    "# Create an empty Investigation object and set some values to the instance variables.\n",
    "\n",
    "investigation = Investigation()\n",
    "investigation.identifier = \"i1\"\n",
    "investigation.title = \"My Simple ISA Investigation\"\n",
    "investigation.description = \"We could alternatively use the class constructor's parameters to set some default \" \\\n",
    "                            \"values at the time of creation, however we want to demonstrate how to use the \" \\\n",
    "                            \"object's instance variables to set values.\"\n",
    "investigation.submission_date = \"2016-11-03\"\n",
    "investigation.public_release_date = \"2016-11-03\"\n",
    "\n",
    "# Create an empty Study object and set some values. The Study must have a filename, otherwise when we serialize it\n",
    "# to ISA-Tab we would not know where to write it. We must also attach the study to the investigation by adding it\n",
    "# to the 'investigation' object's list of studies.\n",
    "\n",
    "study = Study(filename=\"s_study.txt\")\n",
    "study.identifier = \"s1\"\n",
    "study.title = \"My ISA Study\"\n",
    "study.description = \"Like with the Investigation, we could use the class constructor to set some default values, \" \\\n",
    "                    \"but have chosen to demonstrate in this example the use of instance variables to set initial \" \\\n",
    "                    \"values.\"\n",
    "study.submission_date = \"2016-11-03\"\n",
    "study.public_release_date = \"2016-11-03\"\n",
    "investigation.studies.append(study)\n",
    "\n",
    "# Some instance variables are typed with different objects and lists of objects. For example, a Study can have a\n",
    "# list of design descriptors. A design descriptor is an Ontology Annotation describing the kind of study at hand.\n",
    "# Ontology Annotations should typically reference an Ontology Source. We demonstrate a mix of using the class\n",
    "# constructors and setting values with instance variables. Note that the OntologyAnnotation object\n",
    "# 'intervention_design' links its 'term_source' directly to the 'obi' object instance. To ensure the OntologySource\n",
    "# is encapsulated in the descriptor, it is added to a list of 'ontology_source_references' in the Investigation\n",
    "# object. The 'intervention_design' object is then added to the list of 'design_descriptors' held by the Study\n",
    "# object.\n",
    "\n",
    "obi = OntologySource(name='OBI', description=\"Ontology for Biomedical Investigations\")\n",
    "investigation.ontology_source_references.append(obi)\n",
    "intervention_design = OntologyAnnotation(term_source=obi)\n",
    "intervention_design.term = \"intervention design\"\n",
    "intervention_design.term_accession = \"http://purl.obolibrary.org/obo/OBI_0000115\"\n",
    "study.design_descriptors.append(intervention_design)\n",
    "\n",
    "# Other instance variables common to both Investigation and Study objects include 'contacts' and 'publications',\n",
    "# each with lists of corresponding Person and Publication objects.\n",
    "\n",
    "contact = Person(first_name=\"Alice\", last_name=\"Robertson\", affiliation=\"University of Life\", roles=[OntologyAnnotation(term='submitter')])\n",
    "study.contacts.append(contact)\n",
    "publication = Publication(title=\"Experiments with Elephants\", author_list=\"A. Robertson, B. Robertson\")\n",
    "publication.pubmed_id = \"12345678\"\n",
    "publication.status = OntologyAnnotation(term=\"published\")\n",
    "study.publications.append(publication)\n",
    "\n",
    "# To create the study graph that corresponds to the contents of the study table file (the s_*.txt file), we need\n",
    "# to create a process sequence. To do this we use the Process class and attach it to the Study object's\n",
    "# 'process_sequence' list instance variable. Each process must be linked with a Protocol object that is attached to\n",
    "# a Study object's 'protocols' list instance variable. The sample collection Process object usually has as input\n",
    "# a Source material and as output a Sample material.\n",
    "\n",
    "# Here we create one Source material object and attach it to our study.\n",
    "\n",
    "source = Source(name='source_material')\n",
    "study.sources.append(source)\n",
    "\n",
    "# Then we create three Sample objects, with organism as Homo Sapiens, and attach them to the study. We use the utility function\n",
    "# batch_create_material() to clone a prototype material object. The function automatiaclly appends\n",
    "# an index to the material name. In this case, three samples will be created, with the names\n",
    "# 'sample_material-0', 'sample_material-1' and 'sample_material-2'.\n",
    "\n",
    "prototype_sample = Sample(name='sample_material', derives_from=(source,))\n",
    "ncbitaxon = OntologySource(name='NCBITaxon', description=\"NCBI Taxonomy\")\n",
    "characteristic_organism = Characteristic(category=OntologyAnnotation(term=\"Organism\"),\n",
    "                                 value=OntologyAnnotation(term=\"Homo Sapiens\", term_source=ncbitaxon,\n",
    "                                                          term_accession=\"http://purl.bioontology.org/ontology/NCBITAXON/9606\"))\n",
    "prototype_sample.characteristics.append(characteristic_organism)\n",
    "\n",
    "study.samples = batch_create_materials(prototype_sample, n=3)  # creates a batch of 3 samples\n",
    "\n",
    "# Now we create a single Protocol object that represents our sample collection protocol, and attach it to the\n",
    "# study object. Protocols must be declared before we describe Processes, as a processing event of some sort\n",
    "# must execute some defined protocol. In the case of the class model, Protocols should therefore be declared\n",
    "# before Processes in order for the Process to be linked to one.\n",
    "\n",
    "sample_collection_protocol = Protocol(name=\"sample collection\",\n",
    "                                      protocol_type=OntologyAnnotation(term=\"sample collection\"))\n",
    "study.protocols.append(sample_collection_protocol)\n",
    "sample_collection_process = Process(executes_protocol=sample_collection_protocol)\n",
    "\n",
    "# Next, we link our materials to the Process. In this particular case, we are describing a sample collection\n",
    "# process that takes one source material, and produces three different samples.\n",
    "#\n",
    "# (source_material)->(sample collection)->[(sample_material-0), (sample_material-1), (sample_material-2)]\n",
    "\n",
    "for src in study.sources:\n",
    "    sample_collection_process.inputs.append(src)\n",
    "for sam in study.samples:\n",
    "    sample_collection_process.outputs.append(sam)\n",
    "\n",
    "# Finally, attach the finished Process object to the study process_sequence. This can be done many times to\n",
    "# describe multiple sample collection events.\n",
    "\n",
    "study.process_sequence.append(sample_collection_process)\n",
    "\n",
    "# Next, we build n Assay object and attach two protocols, extraction and sequencing.\n",
    "\n",
    "assay = Assay(filename=\"a_assay.txt\")\n",
    "extraction_protocol_1 = Protocol(name='extraction 1', protocol_type=OntologyAnnotation(term=\"material extraction\"))\n",
    "extraction_protocol_2 = Protocol(name='extraction 2', protocol_type=OntologyAnnotation(term=\"material extraction\"))\n",
    "study.protocols.append(extraction_protocol_1)\n",
    "study.protocols.append(extraction_protocol_2)\n",
    "sequencing_protocol_1 = Protocol(name='sequencing 1', protocol_type=OntologyAnnotation(term=\"material sequencing\"))\n",
    "sequencing_protocol_2 = Protocol(name='sequencing 2', protocol_type=OntologyAnnotation(term=\"material sequencing\"))\n",
    "study.protocols.append(sequencing_protocol_1)\n",
    "study.protocols.append(sequencing_protocol_2)\n",
    "\n",
    "# To build out assay graphs, we enumereate the samples from the study-level, and for each sample we create an\n",
    "# extraction process and a sequencing process. The extraction process takes as input a sample material, and produces\n",
    "# an extract material. The sequencing process takes the extract material and produces a data file. This will\n",
    "# produce three graphs, from sample material through to data, as follows:\n",
    "#\n",
    "# (sample_material-0)->(extraction)->(extract-0)->(sequencing)->(sequenced-data-0)\n",
    "# (sample_material-1)->(extraction)->(extract-1)->(sequencing)->(sequenced-data-1)\n",
    "# (sample_material-2)->(extraction)->(extract-2)->(sequencing)->(sequenced-data-2)\n",
    "#\n",
    "# Note that the extraction processes and sequencing processes are distinctly separate instances, where the three\n",
    "# graphs are NOT interconnected.\n",
    "\n",
    "for i, sample in enumerate(study.samples):\n",
    "\n",
    "    # create an extraction process that executes the extraction protocol\n",
    "\n",
    "    extraction_process = Process(executes_protocol=extraction_protocol_1 if i % 2 else extraction_protocol_2)\n",
    "\n",
    "    # extraction process takes as input a sample, and produces an extract material as output\n",
    "\n",
    "    extraction_process.inputs.append(sample)\n",
    "    material = Material(name=\"extract-{}\".format(i))\n",
    "    material.type = \"Extract Name\"\n",
    "    extraction_process.outputs.append(material)\n",
    "\n",
    "    # create a sequencing process that executes the sequencing protocol\n",
    "\n",
    "    sequencing_process = Process(executes_protocol=sequencing_protocol_1 if i % 2 else sequencing_protocol_2)\n",
    "    sequencing_process.name = \"assay-name-{}\".format(i)\n",
    "    sequencing_process.inputs.append(extraction_process.outputs[0])\n",
    "\n",
    "    # Sequencing process usually has an output data file\n",
    "\n",
    "    datafile = DataFile(filename=\"sequenced-data-{}\".format(i), label=\"Raw Data File\")\n",
    "    sequencing_process.outputs.append(datafile)\n",
    "\n",
    "    # Ensure Processes are linked forward and backward. plink(from_process, to_process) is a function to set\n",
    "    # these links for you. It is found in the isatools.model package\n",
    "\n",
    "    plink(extraction_process, sequencing_process)\n",
    "\n",
    "    # make sure the extract, data file, and the processes are attached to the assay\n",
    "\n",
    "    assay.data_files.append(datafile)\n",
    "    assay.samples.append(sample)\n",
    "    assay.other_material.append(material)\n",
    "    assay.process_sequence.append(extraction_process)\n",
    "    assay.process_sequence.append(sequencing_process)\n",
    "    assay.measurement_type = OntologyAnnotation(term=\"gene sequencing\")\n",
    "    assay.technology_type = OntologyAnnotation(term=\"nucleotide sequencing\")\n",
    "\n",
    "# attach the assay to the study\n",
    "\n",
    "study.assays.append(assay)"
   ]
  },
  {
   "cell_type": "markdown",
   "metadata": {},
   "source": [
    "### Serialize the Investigation to ISA-tab and ISA JSON\n",
    "\n",
    "Now let's serialize the multi-protocol investigation to ISA-tab (using the helper method `dump_tables_to_dataframes`) and inspect the data frames.\n",
    "\n",
    "This succeeds if the Protocol name is the same and fails if the protocol name is different across protocols"
   ]
  },
  {
   "cell_type": "code",
   "execution_count": 9,
   "metadata": {},
   "outputs": [
    {
     "ename": "KeyError",
     "evalue": "'Protocol REF.extraction 1'",
     "output_type": "error",
     "traceback": [
      "\u001b[0;31m---------------------------------------------------------------------------\u001b[0m",
      "\u001b[0;31mKeyError\u001b[0m                                  Traceback (most recent call last)",
      "\u001b[0;32m<ipython-input-9-4c8c728fb779>\u001b[0m in \u001b[0;36m<module>\u001b[0;34m\u001b[0m\n\u001b[0;32m----> 1\u001b[0;31m \u001b[0mdataframes_multi\u001b[0m \u001b[0;34m=\u001b[0m \u001b[0mdump_tables_to_dataframes\u001b[0m\u001b[0;34m(\u001b[0m\u001b[0minvestigation\u001b[0m\u001b[0;34m)\u001b[0m\u001b[0;34m\u001b[0m\u001b[0;34m\u001b[0m\u001b[0m\n\u001b[0m",
      "\u001b[0;32m~/.pyenv/versions/3.8.2/envs/isa-create-notebook-3.8.2/src/isatools/isatools/isatab.py\u001b[0m in \u001b[0;36mdump_tables_to_dataframes\u001b[0;34m(isa_obj)\u001b[0m\n\u001b[1;32m   4572\u001b[0m     \u001b[0;32mtry\u001b[0m\u001b[0;34m:\u001b[0m\u001b[0;34m\u001b[0m\u001b[0;34m\u001b[0m\u001b[0m\n\u001b[1;32m   4573\u001b[0m         \u001b[0mtmp\u001b[0m \u001b[0;34m=\u001b[0m \u001b[0mtempfile\u001b[0m\u001b[0;34m.\u001b[0m\u001b[0mmkdtemp\u001b[0m\u001b[0;34m(\u001b[0m\u001b[0;34m)\u001b[0m\u001b[0;34m\u001b[0m\u001b[0;34m\u001b[0m\u001b[0m\n\u001b[0;32m-> 4574\u001b[0;31m         \u001b[0mdump\u001b[0m\u001b[0;34m(\u001b[0m\u001b[0misa_obj\u001b[0m\u001b[0;34m=\u001b[0m\u001b[0misa_obj\u001b[0m\u001b[0;34m,\u001b[0m \u001b[0moutput_path\u001b[0m\u001b[0;34m=\u001b[0m\u001b[0mtmp\u001b[0m\u001b[0;34m,\u001b[0m \u001b[0mskip_dump_tables\u001b[0m\u001b[0;34m=\u001b[0m\u001b[0;32mFalse\u001b[0m\u001b[0;34m)\u001b[0m\u001b[0;34m\u001b[0m\u001b[0;34m\u001b[0m\u001b[0m\n\u001b[0m\u001b[1;32m   4575\u001b[0m         \u001b[0;32mfor\u001b[0m \u001b[0ms_file\u001b[0m \u001b[0;32min\u001b[0m \u001b[0mglob\u001b[0m\u001b[0;34m.\u001b[0m\u001b[0miglob\u001b[0m\u001b[0;34m(\u001b[0m\u001b[0mos\u001b[0m\u001b[0;34m.\u001b[0m\u001b[0mpath\u001b[0m\u001b[0;34m.\u001b[0m\u001b[0mjoin\u001b[0m\u001b[0;34m(\u001b[0m\u001b[0mtmp\u001b[0m\u001b[0;34m,\u001b[0m \u001b[0;34m's_*'\u001b[0m\u001b[0;34m)\u001b[0m\u001b[0;34m)\u001b[0m\u001b[0;34m:\u001b[0m\u001b[0;34m\u001b[0m\u001b[0;34m\u001b[0m\u001b[0m\n\u001b[1;32m   4576\u001b[0m             \u001b[0moutput\u001b[0m\u001b[0;34m[\u001b[0m\u001b[0mos\u001b[0m\u001b[0;34m.\u001b[0m\u001b[0mpath\u001b[0m\u001b[0;34m.\u001b[0m\u001b[0mbasename\u001b[0m\u001b[0;34m(\u001b[0m\u001b[0ms_file\u001b[0m\u001b[0;34m)\u001b[0m\u001b[0;34m]\u001b[0m \u001b[0;34m=\u001b[0m \u001b[0mread_tfile\u001b[0m\u001b[0;34m(\u001b[0m\u001b[0ms_file\u001b[0m\u001b[0;34m)\u001b[0m\u001b[0;34m\u001b[0m\u001b[0;34m\u001b[0m\u001b[0m\n",
      "\u001b[0;32m~/.pyenv/versions/3.8.2/envs/isa-create-notebook-3.8.2/src/isatools/isatools/isatab.py\u001b[0m in \u001b[0;36mdump\u001b[0;34m(isa_obj, output_path, i_file_name, skip_dump_tables, write_factor_values_in_assay_table)\u001b[0m\n\u001b[1;32m   1046\u001b[0m     \u001b[0;32melse\u001b[0m\u001b[0;34m:\u001b[0m\u001b[0;34m\u001b[0m\u001b[0;34m\u001b[0m\u001b[0m\n\u001b[1;32m   1047\u001b[0m         \u001b[0mwrite_study_table_files\u001b[0m\u001b[0;34m(\u001b[0m\u001b[0minvestigation\u001b[0m\u001b[0;34m,\u001b[0m \u001b[0moutput_path\u001b[0m\u001b[0;34m)\u001b[0m\u001b[0;34m\u001b[0m\u001b[0;34m\u001b[0m\u001b[0m\n\u001b[0;32m-> 1048\u001b[0;31m         write_assay_table_files(\n\u001b[0m\u001b[1;32m   1049\u001b[0m             investigation, output_path, write_factor_values_in_assay_table)\n\u001b[1;32m   1050\u001b[0m \u001b[0;34m\u001b[0m\u001b[0m\n",
      "\u001b[0;32m~/.pyenv/versions/3.8.2/envs/isa-create-notebook-3.8.2/src/isatools/isatools/isatab.py\u001b[0m in \u001b[0;36mwrite_assay_table_files\u001b[0;34m(inv_obj, output_dir, write_factor_values)\u001b[0m\n\u001b[1;32m   1487\u001b[0m                             \u001b[0mnode\u001b[0m\u001b[0;34m.\u001b[0m\u001b[0mexecutes_protocol\u001b[0m\u001b[0;34m.\u001b[0m\u001b[0mname\u001b[0m\u001b[0;34m\u001b[0m\u001b[0;34m\u001b[0m\u001b[0m\n\u001b[1;32m   1488\u001b[0m                         )\n\u001b[0;32m-> 1489\u001b[0;31m                         \u001b[0mdf_dict\u001b[0m\u001b[0;34m[\u001b[0m\u001b[0molabel\u001b[0m\u001b[0;34m]\u001b[0m\u001b[0;34m[\u001b[0m\u001b[0;34m-\u001b[0m\u001b[0;36m1\u001b[0m\u001b[0;34m]\u001b[0m \u001b[0;34m=\u001b[0m \u001b[0mnode\u001b[0m\u001b[0;34m.\u001b[0m\u001b[0mexecutes_protocol\u001b[0m\u001b[0;34m.\u001b[0m\u001b[0mname\u001b[0m\u001b[0;34m\u001b[0m\u001b[0;34m\u001b[0m\u001b[0m\n\u001b[0m\u001b[1;32m   1490\u001b[0m                         \u001b[0moname_label\u001b[0m \u001b[0;34m=\u001b[0m \u001b[0;32mNone\u001b[0m\u001b[0;34m\u001b[0m\u001b[0;34m\u001b[0m\u001b[0m\n\u001b[1;32m   1491\u001b[0m                         \u001b[0;32mif\u001b[0m \u001b[0mnode\u001b[0m\u001b[0;34m.\u001b[0m\u001b[0mexecutes_protocol\u001b[0m\u001b[0;34m.\u001b[0m\u001b[0mprotocol_type\u001b[0m\u001b[0;34m:\u001b[0m\u001b[0;34m\u001b[0m\u001b[0;34m\u001b[0m\u001b[0m\n",
      "\u001b[0;31mKeyError\u001b[0m: 'Protocol REF.extraction 1'"
     ]
    }
   ],
   "source": [
    "dataframes_multi = dump_tables_to_dataframes(investigation)"
   ]
  },
  {
   "cell_type": "markdown",
   "metadata": {},
   "source": [
    "Serialising this multi-protocol investigation to ISA-TAB triggers a `KeyError`."
   ]
  },
  {
   "cell_type": "code",
   "execution_count": 11,
   "metadata": {},
   "outputs": [],
   "source": [
    "inv_json_multi = json.dumps(investigation, cls=ISAJSONEncoder)"
   ]
  },
  {
   "cell_type": "code",
   "execution_count": 12,
   "metadata": {},
   "outputs": [
    {
     "data": {
      "text/plain": [
       "'{\"identifier\": \"i1\", \"title\": \"My Simple ISA Investigation\", \"description\": \"We could alternatively use the class constructor\\'s parameters to set some default values at the time of creation, however we want to demonstrate how to use the object\\'s instance variables to set values.\", \"comments\": [], \"ontologySourceReferences\": [{\"name\": \"OBI\", \"description\": \"Ontology for Biomedical Investigations\", \"file\": \"\", \"version\": \"\"}], \"people\": [], \"publicReleaseDate\": \"2016-11-03\", \"submissionDate\": \"2016-11-03\", \"publications\": [], \"studies\": [{\"filename\": \"s_study.txt\", \"identifier\": \"s1\", \"title\": \"My ISA Study\", \"description\": \"Like with the Investigation, we could use the class constructor to set some default values, but have chosen to demonstrate in this example the use of instance variables to set initial values.\", \"submissionDate\": \"2016-11-03\", \"publicReleaseDate\": \"2016-11-03\", \"publications\": [{\"authorList\": \"A. Robertson, B. Robertson\", \"doi\": \"\", \"pubMedID\": \"12345678\", \"status\": {\"@id\": \"#16e2fff7-de2e-4ceb-a5a9-f0d1898750d6\", \"annotationValue\": \"published\", \"termAccession\": \"\", \"termSource\": \"\", \"comments\": []}, \"title\": \"Experiments with Elephants\"}], \"people\": [{\"address\": \"\", \"affiliation\": \"University of Life\", \"comments\": [], \"email\": \"\", \"fax\": \"\", \"firstName\": \"Alice\", \"lastName\": \"Robertson\", \"midInitials\": \"\", \"phone\": \"\", \"roles\": [{\"@id\": \"#16e2fff7-de2e-4ceb-a5a9-f0d1898750d6\", \"annotationValue\": \"submitter\", \"termAccession\": \"\", \"termSource\": \"\", \"comments\": []}]}], \"studyDesignDescriptors\": [{\"@id\": \"#16e2fff7-de2e-4ceb-a5a9-f0d1898750d6\", \"annotationValue\": \"intervention design\", \"termAccession\": \"http://purl.obolibrary.org/obo/OBI_0000115\", \"termSource\": \"OBI\", \"comments\": []}], \"protocols\": [{\"@id\": \"#4668083600\", \"description\": \"\", \"parameters\": [], \"name\": \"sample collection\", \"protocolType\": {\"@id\": \"#16e2fff7-de2e-4ceb-a5a9-f0d1898750d6\", \"annotationValue\": \"sample collection\", \"termAccession\": \"\", \"termSource\": \"\", \"comments\": []}, \"uri\": \"\", \"comments\": [], \"components\": [], \"version\": \"\"}, {\"@id\": \"#4667912096\", \"description\": \"\", \"parameters\": [], \"name\": \"extraction 1\", \"protocolType\": {\"@id\": \"#16e2fff7-de2e-4ceb-a5a9-f0d1898750d6\", \"annotationValue\": \"material extraction\", \"termAccession\": \"\", \"termSource\": \"\", \"comments\": []}, \"uri\": \"\", \"comments\": [], \"components\": [], \"version\": \"\"}, {\"@id\": \"#4668699888\", \"description\": \"\", \"parameters\": [], \"name\": \"extraction 2\", \"protocolType\": {\"@id\": \"#16e2fff7-de2e-4ceb-a5a9-f0d1898750d6\", \"annotationValue\": \"material extraction\", \"termAccession\": \"\", \"termSource\": \"\", \"comments\": []}, \"uri\": \"\", \"comments\": [], \"components\": [], \"version\": \"\"}, {\"@id\": \"#4668702192\", \"description\": \"\", \"parameters\": [], \"name\": \"sequencing 1\", \"protocolType\": {\"@id\": \"#16e2fff7-de2e-4ceb-a5a9-f0d1898750d6\", \"annotationValue\": \"material sequencing\", \"termAccession\": \"\", \"termSource\": \"\", \"comments\": []}, \"uri\": \"\", \"comments\": [], \"components\": [], \"version\": \"\"}, {\"@id\": \"#4668702336\", \"description\": \"\", \"parameters\": [], \"name\": \"sequencing 2\", \"protocolType\": {\"@id\": \"#16e2fff7-de2e-4ceb-a5a9-f0d1898750d6\", \"annotationValue\": \"material sequencing\", \"termAccession\": \"\", \"termSource\": \"\", \"comments\": []}, \"uri\": \"\", \"comments\": [], \"components\": [], \"version\": \"\"}], \"materials\": {\"sources\": [{\"@id\": \"#source/4668083648\", \"name\": \"source_material\", \"characteristics\": []}], \"samples\": [{\"@id\": \"#sample/4667908160\", \"name\": \"sample_material-0\", \"characteristics\": [{\"category\": {\"@id\": \"#16e2fff7-de2e-4ceb-a5a9-f0d1898750d6\"}, \"value\": {\"@id\": \"#16e2fff7-de2e-4ceb-a5a9-f0d1898750d6\", \"annotationValue\": \"Homo Sapiens\", \"termAccession\": \"http://purl.bioontology.org/ontology/NCBITAXON/9606\", \"termSource\": \"NCBITaxon\", \"comments\": []}}], \"factorValues\": []}, {\"@id\": \"#sample/4668700752\", \"name\": \"sample_material-1\", \"characteristics\": [{\"category\": {\"@id\": \"#16e2fff7-de2e-4ceb-a5a9-f0d1898750d6\"}, \"value\": {\"@id\": \"#16e2fff7-de2e-4ceb-a5a9-f0d1898750d6\", \"annotationValue\": \"Homo Sapiens\", \"termAccession\": \"http://purl.bioontology.org/ontology/NCBITAXON/9606\", \"termSource\": \"NCBITaxon\", \"comments\": []}}], \"factorValues\": []}, {\"@id\": \"#sample/4668701472\", \"name\": \"sample_material-2\", \"characteristics\": [{\"category\": {\"@id\": \"#16e2fff7-de2e-4ceb-a5a9-f0d1898750d6\"}, \"value\": {\"@id\": \"#16e2fff7-de2e-4ceb-a5a9-f0d1898750d6\", \"annotationValue\": \"Homo Sapiens\", \"termAccession\": \"http://purl.bioontology.org/ontology/NCBITAXON/9606\", \"termSource\": \"NCBITaxon\", \"comments\": []}}], \"factorValues\": []}], \"otherMaterials\": []}, \"processSequence\": [{\"@id\": \"#process/4668702240\", \"name\": \"\", \"executesProtocol\": {\"@id\": \"#4668083600\"}, \"parameterValues\": [], \"performer\": \"\", \"date\": \"\", \"inputs\": [{\"@id\": \"#source/4668083648\"}], \"outputs\": [{\"@id\": \"#sample/4667908160\"}, {\"@id\": \"#sample/4668700752\"}, {\"@id\": \"#sample/4668701472\"}], \"comments\": []}], \"factors\": [], \"characteristicCategories\": [], \"unitCategories\": [], \"comments\": [], \"assays\": [{\"measurementType\": {\"@id\": \"#16e2fff7-de2e-4ceb-a5a9-f0d1898750d6\", \"annotationValue\": \"gene sequencing\", \"termAccession\": \"\", \"termSource\": \"\", \"comments\": []}, \"technologyType\": {\"@id\": \"#16e2fff7-de2e-4ceb-a5a9-f0d1898750d6\", \"annotationValue\": \"nucleotide sequencing\", \"termAccession\": \"\", \"termSource\": \"\", \"comments\": []}, \"technologyPlatform\": \"\", \"filename\": \"a_assay.txt\", \"characteristicCategories\": [], \"unitCategories\": [], \"comments\": [], \"materials\": {\"samples\": [{\"@id\": \"#sample/4667908160\", \"name\": \"sample_material-0\", \"characteristics\": [{\"category\": {\"@id\": \"#16e2fff7-de2e-4ceb-a5a9-f0d1898750d6\"}, \"value\": {\"@id\": \"#16e2fff7-de2e-4ceb-a5a9-f0d1898750d6\", \"annotationValue\": \"Homo Sapiens\", \"termAccession\": \"http://purl.bioontology.org/ontology/NCBITAXON/9606\", \"termSource\": \"NCBITaxon\", \"comments\": []}}], \"factorValues\": []}, {\"@id\": \"#sample/4668700752\", \"name\": \"sample_material-1\", \"characteristics\": [{\"category\": {\"@id\": \"#16e2fff7-de2e-4ceb-a5a9-f0d1898750d6\"}, \"value\": {\"@id\": \"#16e2fff7-de2e-4ceb-a5a9-f0d1898750d6\", \"annotationValue\": \"Homo Sapiens\", \"termAccession\": \"http://purl.bioontology.org/ontology/NCBITAXON/9606\", \"termSource\": \"NCBITaxon\", \"comments\": []}}], \"factorValues\": []}, {\"@id\": \"#sample/4668701472\", \"name\": \"sample_material-2\", \"characteristics\": [{\"category\": {\"@id\": \"#16e2fff7-de2e-4ceb-a5a9-f0d1898750d6\"}, \"value\": {\"@id\": \"#16e2fff7-de2e-4ceb-a5a9-f0d1898750d6\", \"annotationValue\": \"Homo Sapiens\", \"termAccession\": \"http://purl.bioontology.org/ontology/NCBITAXON/9606\", \"termSource\": \"NCBITaxon\", \"comments\": []}}], \"factorValues\": []}], \"otherMaterials\": [{\"@id\": \"#material/extract-4668702432\", \"name\": \"extract-0\", \"type\": \"Extract Name\", \"characteristics\": []}, {\"@id\": \"#material/extract-4668701904\", \"name\": \"extract-1\", \"type\": \"Extract Name\", \"characteristics\": []}, {\"@id\": \"#material/extract-4667908256\", \"name\": \"extract-2\", \"type\": \"Extract Name\", \"characteristics\": []}]}, \"dataFiles\": [{\"@id\": \"#data/rawdatafile-4668702576\", \"name\": \"sequenced-data-0\", \"type\": \"Raw Data File\", \"comments\": []}, {\"@id\": \"#data/rawdatafile-4668739792\", \"name\": \"sequenced-data-1\", \"type\": \"Raw Data File\", \"comments\": []}, {\"@id\": \"#data/rawdatafile-4668740080\", \"name\": \"sequenced-data-2\", \"type\": \"Raw Data File\", \"comments\": []}], \"processSequence\": [{\"@id\": \"#process/4668702288\", \"name\": \"\", \"executesProtocol\": {\"@id\": \"#4668699888\"}, \"parameterValues\": [], \"performer\": \"\", \"date\": \"\", \"nextProcess\": {\"@id\": \"#process/4668702528\"}, \"inputs\": [{\"@id\": \"#sample/4667908160\"}], \"outputs\": [{\"@id\": \"#material/extract-4668702432\"}], \"comments\": []}, {\"@id\": \"#process/4668702528\", \"name\": \"assay-name-0\", \"executesProtocol\": {\"@id\": \"#4668702336\"}, \"parameterValues\": [], \"performer\": \"\", \"date\": \"\", \"previousProcess\": {\"@id\": \"#process/4668702288\"}, \"inputs\": [{\"@id\": \"#material/extract-4668702432\"}], \"outputs\": [{\"@id\": \"#data/rawdatafile-4668702576\"}], \"comments\": []}, {\"@id\": \"#process/4667908400\", \"name\": \"\", \"executesProtocol\": {\"@id\": \"#4667912096\"}, \"parameterValues\": [], \"performer\": \"\", \"date\": \"\", \"nextProcess\": {\"@id\": \"#process/4668739744\"}, \"inputs\": [{\"@id\": \"#sample/4668700752\"}], \"outputs\": [{\"@id\": \"#material/extract-4668701904\"}], \"comments\": []}, {\"@id\": \"#process/4668739744\", \"name\": \"assay-name-1\", \"executesProtocol\": {\"@id\": \"#4668702192\"}, \"parameterValues\": [], \"performer\": \"\", \"date\": \"\", \"previousProcess\": {\"@id\": \"#process/4667908400\"}, \"inputs\": [{\"@id\": \"#material/extract-4668701904\"}], \"outputs\": [{\"@id\": \"#data/rawdatafile-4668739792\"}], \"comments\": []}, {\"@id\": \"#process/4667911136\", \"name\": \"\", \"executesProtocol\": {\"@id\": \"#4668699888\"}, \"parameterValues\": [], \"performer\": \"\", \"date\": \"\", \"nextProcess\": {\"@id\": \"#process/4668740032\"}, \"inputs\": [{\"@id\": \"#sample/4668701472\"}], \"outputs\": [{\"@id\": \"#material/extract-4667908256\"}], \"comments\": []}, {\"@id\": \"#process/4668740032\", \"name\": \"assay-name-2\", \"executesProtocol\": {\"@id\": \"#4668702336\"}, \"parameterValues\": [], \"performer\": \"\", \"date\": \"\", \"previousProcess\": {\"@id\": \"#process/4667911136\"}, \"inputs\": [{\"@id\": \"#material/extract-4667908256\"}], \"outputs\": [{\"@id\": \"#data/rawdatafile-4668740080\"}], \"comments\": []}]}]}]}'"
      ]
     },
     "execution_count": 12,
     "metadata": {},
     "output_type": "execute_result"
    }
   ],
   "source": [
    "inv_json_multi"
   ]
  },
  {
   "cell_type": "markdown",
   "metadata": {},
   "source": [
    "JSON serialisation works correctly.\n",
    "\n",
    "CONCLUSION: if the user provides more than one protocol for the same protocol type, the ISA-TAB serialsation breaks, while the ISA-JSON serialisation still succeeds. This seems related to the tabular structure with fixed headers of ISA-TAB."
   ]
  },
  {
   "cell_type": "code",
   "execution_count": null,
   "metadata": {},
   "outputs": [],
   "source": []
  }
 ],
 "metadata": {
  "kernelspec": {
   "display_name": "Python 3",
   "language": "python",
   "name": "python3"
  },
  "language_info": {
   "codemirror_mode": {
    "name": "ipython",
    "version": 3
   },
   "file_extension": ".py",
   "mimetype": "text/x-python",
   "name": "python",
   "nbconvert_exporter": "python",
   "pygments_lexer": "ipython3",
   "version": "3.8.2"
  }
 },
 "nbformat": 4,
 "nbformat_minor": 4
}
