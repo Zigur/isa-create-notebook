{
 "cells": [
  {
   "cell_type": "code",
   "execution_count": 2,
   "metadata": {},
   "outputs": [],
   "source": [
    "import os\n",
    "import json\n",
    "import datetime\n",
    "from isatools.model import (Investigation, Study, Assay, Person, Material,\n",
    "                            DataFile, plink,\n",
    "                            OntologySource, OntologyAnnotation, Sample,\n",
    "                            Source, Characteristic, Protocol, Process)\n",
    "from isatools import isatab\n",
    "from isatools.isajson import ISAJSONEncoder\n",
    "\n",
    "final_dir = os.path.abspath(os.path.join('output2', 'issue-brapi'))"
   ]
  },
  {
   "cell_type": "code",
   "execution_count": 3,
   "metadata": {},
   "outputs": [],
   "source": [
    "investigation = Investigation()\n",
    "investigation.identifier = \"BRAPI-test-unused-source\"\n",
    "investigation.title = \"BRAPI-test-unused-source\"\n",
    "investigation.description = \"this is test to understand the conditions under which ISA-API will serialize or not serialize a Source entity declared but not used in a workflow. Note: while the python ISA-API does not serialize in the Tab format, the information is available from ISA-JSON.\""
   ]
  },
  {
   "cell_type": "code",
   "execution_count": 4,
   "metadata": {},
   "outputs": [],
   "source": [
    "prs_test_study = Study(filename=\"s_prs_test.txt\")\n",
    "\n",
    "prs_test_study.identifier = \"PRS\"\n",
    "prs_test_study.title = \"Unused Sources\"\n",
    "prs_test_study.description = \"testing if the python ISA-API supports unusued Sources in ISA-Tab serialization\"\n",
    "\n"
   ]
  },
  {
   "cell_type": "code",
   "execution_count": 5,
   "metadata": {},
   "outputs": [
    {
     "name": "stdout",
     "output_type": "stream",
     "text": [
      "T\n"
     ]
    }
   ],
   "source": [
    "prs = Person(last_name=\"Rocca-Serra\", first_name=\"Philippe\", mid_initials=\"T\", affiliation=\"OeRC\", email=\"prs@hotmail.com\" )\n",
    "prs_test_study.contacts.append(prs)\n",
    "print(prs.mid_initials)"
   ]
  },
  {
   "cell_type": "code",
   "execution_count": 6,
   "metadata": {},
   "outputs": [],
   "source": [
    "ncbi_taxon = OntologySource(name='NCBITaxon', description=\"NCBI Taxonomy\")\n",
    "human_characteristic= Characteristic(category=OntologyAnnotation(term=\"Organism\"),\n",
    "                                     value=OntologyAnnotation(term=\"Homo Sapiens\", term_source=ncbi_taxon,\n",
    "                                                              term_accession=\"http://purl.bioontology.org/ontology/NCBITAXON/9606\"))"
   ]
  },
  {
   "cell_type": "markdown",
   "metadata": {},
   "source": [
    "## Creating ISA Sources"
   ]
  },
  {
   "cell_type": "code",
   "execution_count": 7,
   "metadata": {},
   "outputs": [],
   "source": [
    "subject_0 = Source(name='human individual-0', characteristics=[human_characteristic]) \n",
    "subject_1 = Source(name='human individual-1', characteristics=[human_characteristic]) \n",
    "subject_2 = Source(name='human individual-2', characteristics=[human_characteristic]) \n",
    "\n"
   ]
  },
  {
   "cell_type": "markdown",
   "metadata": {},
   "source": [
    "## Creating ISA Samples"
   ]
  },
  {
   "cell_type": "code",
   "execution_count": 8,
   "metadata": {},
   "outputs": [],
   "source": [
    "sample_0 = Sample(name='SBJ0_sample1')\n",
    "# note that 2 samples are generated from subject_1\n",
    "sample_1 = Sample(name='SBJ1_sample1')\n",
    "sample_2 = Sample(name='SBJ1_sample2')\n",
    "# note that no sample is generated from subject_\n",
    "sample_3 = Sample(name='SBJ2')"
   ]
  },
  {
   "cell_type": "markdown",
   "metadata": {},
   "source": [
    "## Associating Sources and Samples to the ISA.Study. object"
   ]
  },
  {
   "cell_type": "code",
   "execution_count": 9,
   "metadata": {},
   "outputs": [],
   "source": [
    "prs_test_study.sources.append(subject_0)\n",
    "prs_test_study.sources.append(subject_1)\n",
    "prs_test_study.sources.append(subject_2)\n",
    "\n",
    "prs_test_study.samples.append(sample_0)\n",
    "prs_test_study.samples.append(sample_1)\n",
    "prs_test_study.samples.append(sample_2)\n",
    "#prs_test_study.samples.append(subject_2)\n",
    "prs_test_study.samples.append(sample_3)"
   ]
  },
  {
   "cell_type": "markdown",
   "metadata": {},
   "source": [
    "## Declaring Protocol objects"
   ]
  },
  {
   "cell_type": "markdown",
   "metadata": {},
   "source": [
    "### Don't forget the protocol_type should be declared as an ISA Ontology Annotation"
   ]
  },
  {
   "cell_type": "code",
   "execution_count": 10,
   "metadata": {},
   "outputs": [],
   "source": [
    "prs_protocol = Protocol(name=\"sample collection\",\n",
    "                             protocol_type=OntologyAnnotation(term=\"sample collection\"))"
   ]
  },
  {
   "cell_type": "markdown",
   "metadata": {},
   "source": [
    "### Adding the newly created protocol to the list of protocols associated with an ISA Study Object"
   ]
  },
  {
   "cell_type": "code",
   "execution_count": 11,
   "metadata": {},
   "outputs": [],
   "source": [
    "prs_test_study.protocols.append(prs_protocol)"
   ]
  },
  {
   "cell_type": "markdown",
   "metadata": {},
   "source": [
    "## Creating the ProtocolApplication events connecting Parent to Children Materials"
   ]
  },
  {
   "cell_type": "markdown",
   "metadata": {},
   "source": [
    "### executing a protocol minimally or maximally by specifying date and performer of execution"
   ]
  },
  {
   "cell_type": "code",
   "execution_count": 12,
   "metadata": {},
   "outputs": [],
   "source": [
    "prs_process0 = Process(executes_protocol=prs_protocol)\n",
    "now = str(datetime.datetime.now().strftime(\"%Y-%m-%d\"))\n",
    "prs_process1 = Process(executes_protocol=prs_protocol, performer=prs.first_name, date_=now)\n",
    "prs_process2 = Process(executes_protocol=prs_protocol, performer=prs.first_name, date_=now)\n",
    "prs_process3 = Process(executes_protocol=prs_protocol, performer=prs.first_name, date_=now)"
   ]
  },
  {
   "cell_type": "markdown",
   "metadata": {},
   "source": [
    "### Setting input and outputs of each sample collection protocol application"
   ]
  },
  {
   "cell_type": "code",
   "execution_count": 13,
   "metadata": {},
   "outputs": [],
   "source": [
    "prs_process0.inputs.append(subject_0)\n",
    "prs_process0.outputs.append(sample_0)\n",
    "prs_process1.inputs.append(subject_1)\n",
    "prs_process1.outputs.append(sample_1)\n",
    "prs_process2.inputs.append(subject_1)\n",
    "prs_process2.outputs.append(sample_2)"
   ]
  },
  {
   "cell_type": "markdown",
   "metadata": {},
   "source": [
    "### Now the following tests if setting a protocol application with no output jinxes the ISA-API"
   ]
  },
  {
   "cell_type": "code",
   "execution_count": 14,
   "metadata": {},
   "outputs": [],
   "source": [
    "prs_process3.inputs.append(subject_2)\n",
    "prs_process3.outputs.append(sample_3)"
   ]
  },
  {
   "cell_type": "markdown",
   "metadata": {},
   "source": [
    "### Here, the ISA Study object is updated by associating all the processes/protocol_applications to the process_sequence attribute.\n"
   ]
  },
  {
   "cell_type": "code",
   "execution_count": 15,
   "metadata": {},
   "outputs": [],
   "source": [
    "prs_test_study.process_sequence.append(prs_process0)\n",
    "prs_test_study.process_sequence.append(prs_process1)\n",
    "prs_test_study.process_sequence.append(prs_process2)\n",
    "prs_test_study.process_sequence.append(prs_process3)"
   ]
  },
  {
   "cell_type": "markdown",
   "metadata": {},
   "source": [
    "## Creating an ISA Assay object - This is to test associating an ISA Source as input to an Assay"
   ]
  },
  {
   "cell_type": "markdown",
   "metadata": {},
   "source": [
    "### Step1 - Create the ISA Assay Object"
   ]
  },
  {
   "cell_type": "code",
   "execution_count": 16,
   "metadata": {},
   "outputs": [],
   "source": [
    "assay_on_source = Assay(measurement_type=OntologyAnnotation(term=\"phenotyping\"),\n",
    "                     technology_type=OntologyAnnotation(term=\"\"),\n",
    "                     filename=\"a_assay-test.txt\")"
   ]
  },
  {
   "cell_type": "markdown",
   "metadata": {},
   "source": [
    "### Step2 - Create a new ISA Protocol the type of which is `data acquisition`"
   ]
  },
  {
   "cell_type": "code",
   "execution_count": 17,
   "metadata": {},
   "outputs": [],
   "source": [
    "assay_protocol = Protocol(name=\"assay-on-source\",\n",
    "                          protocol_type=\"data acquisition\")\n",
    "\n"
   ]
  },
  {
   "cell_type": "markdown",
   "metadata": {},
   "source": [
    "### Step3 - Remember to add the new protocol to the ISA.Study object"
   ]
  },
  {
   "cell_type": "code",
   "execution_count": 18,
   "metadata": {},
   "outputs": [],
   "source": [
    "prs_test_study.protocols.append(assay_protocol)"
   ]
  },
  {
   "cell_type": "markdown",
   "metadata": {},
   "source": [
    "### Step4 - Create the Protocol Application event which generates an ISA DataFile"
   ]
  },
  {
   "cell_type": "code",
   "execution_count": 19,
   "metadata": {},
   "outputs": [],
   "source": [
    "assay_process = Process(executes_protocol=assay_protocol, performer=prs.first_name)"
   ]
  },
  {
   "cell_type": "markdown",
   "metadata": {},
   "source": [
    "### Step5 - Create an ISA DataFile object"
   ]
  },
  {
   "cell_type": "code",
   "execution_count": 20,
   "metadata": {},
   "outputs": [],
   "source": [
    "dummy_file= DataFile(filename=\"dummy.txt\")"
   ]
  },
  {
   "cell_type": "markdown",
   "metadata": {},
   "source": [
    "### Step6 - Set ProtocolApplication/Process inputs and outputs testing if an ISA.Source can be used in an ISA.Assay"
   ]
  },
  {
   "cell_type": "code",
   "execution_count": 21,
   "metadata": {},
   "outputs": [],
   "source": [
    "assay_process.inputs.append(sample_0)\n",
    "assay_process.outputs.append(dummy_file)"
   ]
  },
  {
   "cell_type": "markdown",
   "metadata": {},
   "source": [
    "### Step7 - Associate the newly created ISA.DataFile with the ISA.Assay object"
   ]
  },
  {
   "cell_type": "code",
   "execution_count": 22,
   "metadata": {},
   "outputs": [],
   "source": [
    "assay_on_source.data_files.append(dummy_file)"
   ]
  },
  {
   "cell_type": "markdown",
   "metadata": {},
   "source": [
    "### Step8 - Link and Connect ISA.ProtocolApplications via the process_sequence attribute"
   ]
  },
  {
   "cell_type": "code",
   "execution_count": 23,
   "metadata": {},
   "outputs": [],
   "source": [
    "assay_on_source.process_sequence.append(prs_process3)\n",
    "assay_on_source.process_sequence.append(assay_process)"
   ]
  },
  {
   "cell_type": "markdown",
   "metadata": {},
   "source": [
    "### Step9 - Update the ISA.Assay Object by listing all ISA.Materials used in the Assay associated ProtocolApplications"
   ]
  },
  {
   "cell_type": "code",
   "execution_count": 24,
   "metadata": {},
   "outputs": [],
   "source": [
    "assay_on_source.samples.append(sample_3)\n",
    "#assay_on_source.other_material.append(subject_2)\n",
    "plink(prs_process3, assay_process)"
   ]
  },
  {
   "cell_type": "code",
   "execution_count": 25,
   "metadata": {},
   "outputs": [],
   "source": [
    "prs_test_study.process_sequence.append(assay_process)"
   ]
  },
  {
   "cell_type": "markdown",
   "metadata": {},
   "source": [
    "### Step10 - Update the ISA.Study Object by adding the ISA Assay object to the ISA.Study assays attribute"
   ]
  },
  {
   "cell_type": "code",
   "execution_count": 26,
   "metadata": {},
   "outputs": [],
   "source": [
    "prs_test_study.assays.append(assay_on_source)"
   ]
  },
  {
   "cell_type": "code",
   "execution_count": 27,
   "metadata": {},
   "outputs": [],
   "source": [
    "investigation.studies.append(prs_test_study)"
   ]
  },
  {
   "cell_type": "code",
   "execution_count": 28,
   "metadata": {},
   "outputs": [],
   "source": [
    "dataframes = isatab.dump_tables_to_dataframes(investigation)"
   ]
  },
  {
   "cell_type": "code",
   "execution_count": 29,
   "metadata": {},
   "outputs": [
    {
     "data": {
      "text/html": [
       "<div>\n",
       "<style scoped>\n",
       "    .dataframe tbody tr th:only-of-type {\n",
       "        vertical-align: middle;\n",
       "    }\n",
       "\n",
       "    .dataframe tbody tr th {\n",
       "        vertical-align: top;\n",
       "    }\n",
       "\n",
       "    .dataframe thead th {\n",
       "        text-align: right;\n",
       "    }\n",
       "</style>\n",
       "<table border=\"1\" class=\"dataframe\">\n",
       "  <thead>\n",
       "    <tr style=\"text-align: right;\">\n",
       "      <th></th>\n",
       "      <th>Source Name</th>\n",
       "      <th>Characteristics[Organism]</th>\n",
       "      <th>Term Source REF</th>\n",
       "      <th>Term Accession Number</th>\n",
       "      <th>Protocol REF</th>\n",
       "      <th>Date</th>\n",
       "      <th>Performer</th>\n",
       "      <th>Sample Name</th>\n",
       "    </tr>\n",
       "  </thead>\n",
       "  <tbody>\n",
       "    <tr>\n",
       "      <th>0</th>\n",
       "      <td>human individual-1</td>\n",
       "      <td>Homo Sapiens</td>\n",
       "      <td>NCBITaxon</td>\n",
       "      <td>http://purl.bioontology.org/ontology/NCBITAXON...</td>\n",
       "      <td>sample collection</td>\n",
       "      <td>2020-12-09</td>\n",
       "      <td>Philippe</td>\n",
       "      <td>SBJ1_sample1</td>\n",
       "    </tr>\n",
       "    <tr>\n",
       "      <th>1</th>\n",
       "      <td>human individual-1</td>\n",
       "      <td>Homo Sapiens</td>\n",
       "      <td>NCBITaxon</td>\n",
       "      <td>http://purl.bioontology.org/ontology/NCBITAXON...</td>\n",
       "      <td>sample collection</td>\n",
       "      <td>2020-12-09</td>\n",
       "      <td>Philippe</td>\n",
       "      <td>SBJ1_sample2</td>\n",
       "    </tr>\n",
       "    <tr>\n",
       "      <th>2</th>\n",
       "      <td>human individual-2</td>\n",
       "      <td>Homo Sapiens</td>\n",
       "      <td>NCBITaxon</td>\n",
       "      <td>http://purl.bioontology.org/ontology/NCBITAXON...</td>\n",
       "      <td>sample collection</td>\n",
       "      <td>2020-12-09</td>\n",
       "      <td>Philippe</td>\n",
       "      <td>SBJ2</td>\n",
       "    </tr>\n",
       "  </tbody>\n",
       "</table>\n",
       "</div>"
      ],
      "text/plain": [
       "          Source Name Characteristics[Organism] Term Source REF  \\\n",
       "0  human individual-1              Homo Sapiens       NCBITaxon   \n",
       "1  human individual-1              Homo Sapiens       NCBITaxon   \n",
       "2  human individual-2              Homo Sapiens       NCBITaxon   \n",
       "\n",
       "                               Term Accession Number       Protocol REF  \\\n",
       "0  http://purl.bioontology.org/ontology/NCBITAXON...  sample collection   \n",
       "1  http://purl.bioontology.org/ontology/NCBITAXON...  sample collection   \n",
       "2  http://purl.bioontology.org/ontology/NCBITAXON...  sample collection   \n",
       "\n",
       "         Date Performer   Sample Name  \n",
       "0  2020-12-09  Philippe  SBJ1_sample1  \n",
       "1  2020-12-09  Philippe  SBJ1_sample2  \n",
       "2  2020-12-09  Philippe          SBJ2  "
      ]
     },
     "execution_count": 29,
     "metadata": {},
     "output_type": "execute_result"
    }
   ],
   "source": [
    "dataframes['s_prs_test.txt']"
   ]
  },
  {
   "cell_type": "code",
   "execution_count": 30,
   "metadata": {},
   "outputs": [],
   "source": [
    "#dataframes['assay-test.txt']"
   ]
  },
  {
   "cell_type": "code",
   "execution_count": 31,
   "metadata": {},
   "outputs": [
    {
     "data": {
      "text/plain": [
       "isatools.model.Investigation(identifier='BRAPI-test-unused-source', filename='', title='BRAPI-test-unused-source', submission_date='', public_release_date='', ontology_source_references=[], publications=[], contacts=[], studies=[isatools.model.Study(filename='s_prs_test.txt', identifier='PRS', title='Unused Sources', description='testing if the python ISA-API supports unusued Sources in ISA-Tab serialization', submission_date='', public_release_date='', contacts=[isatools.model.Person(last_name='Rocca-Serra', first_name='Philippe', mid_initials='T', email='prs@hotmail.com', phone='', fax='', address='', affiliation='OeRC', roles=[], comments=[])], design_descriptors=[], publications=[], factors=[], protocols=[isatools.model.Protocol(name='sample collection', protocol_type=isatools.model.OntologyAnnotation(term='sample collection', term_source=None, term_accession='', comments=[]), uri='', version='', parameters=[], components=[], comments=[]), isatools.model.Protocol(name='assay-on-source', protocol_type=isatools.model.OntologyAnnotation(term='data acquisition', term_source=None, term_accession='', comments=[]), uri='', version='', parameters=[], components=[], comments=[])], assays=[isatools.model.Assay(measurement_type=isatools.model.OntologyAnnotation(term='phenotyping', term_source=None, term_accession='', comments=[]), technology_type=isatools.model.OntologyAnnotation(term='', term_source=None, term_accession='', comments=[]), technology_platform='', filename='a_assay-test.txt', data_files=[isatools.model.DataFile(filename='dummy.txt', label='', generated_from=[], comments=[])], samples=[isatools.model.Sample(name='SBJ2', characteristics=[], factor_values=[], derives_from=[], comments=[])], process_sequence=[isatools.model.Process(id=\"\". name=\"None\", executes_protocol=Protocol(\n",
       "    name=sample collection\n",
       "    protocol_type=sample collection\n",
       "    uri=\n",
       "    version=\n",
       "    parameters=0 ProtocolParameter objects\n",
       "    components=0 OntologyAnnotation objects\n",
       "    comments=0 Comment objects\n",
       "), date=\"2020-12-09\", performer=\"Philippe\", inputs=[isatools.model.Source(name='human individual-2', characteristics=[isatools.model.Characteristic(category=isatools.model.OntologyAnnotation(term='Organism', term_source=None, term_accession='', comments=[]), value=isatools.model.OntologyAnnotation(term='Homo Sapiens', term_source=isatools.model.OntologySource(name='NCBITaxon', file='', version='', description='NCBI Taxonomy', comments=[]), term_accession='http://purl.bioontology.org/ontology/NCBITAXON/9606', comments=[]), unit=None, comments=[])], comments=[])], outputs=[isatools.model.Sample(name='SBJ2', characteristics=[], factor_values=[], derives_from=[], comments=[])]), isatools.model.Process(id=\"\". name=\"None\", executes_protocol=Protocol(\n",
       "    name=assay-on-source\n",
       "    protocol_type=data acquisition\n",
       "    uri=\n",
       "    version=\n",
       "    parameters=0 ProtocolParameter objects\n",
       "    components=0 OntologyAnnotation objects\n",
       "    comments=0 Comment objects\n",
       "), date=\"None\", performer=\"Philippe\", inputs=[isatools.model.Sample(name='SBJ0_sample1', characteristics=[], factor_values=[], derives_from=[], comments=[])], outputs=[isatools.model.DataFile(filename='dummy.txt', label='', generated_from=[], comments=[])])], other_material=[], characteristic_categories=[], comments=[], units=[])], sources=[isatools.model.Source(name='human individual-0', characteristics=[isatools.model.Characteristic(category=isatools.model.OntologyAnnotation(term='Organism', term_source=None, term_accession='', comments=[]), value=isatools.model.OntologyAnnotation(term='Homo Sapiens', term_source=isatools.model.OntologySource(name='NCBITaxon', file='', version='', description='NCBI Taxonomy', comments=[]), term_accession='http://purl.bioontology.org/ontology/NCBITAXON/9606', comments=[]), unit=None, comments=[])], comments=[]), isatools.model.Source(name='human individual-1', characteristics=[isatools.model.Characteristic(category=isatools.model.OntologyAnnotation(term='Organism', term_source=None, term_accession='', comments=[]), value=isatools.model.OntologyAnnotation(term='Homo Sapiens', term_source=isatools.model.OntologySource(name='NCBITaxon', file='', version='', description='NCBI Taxonomy', comments=[]), term_accession='http://purl.bioontology.org/ontology/NCBITAXON/9606', comments=[]), unit=None, comments=[])], comments=[]), isatools.model.Source(name='human individual-2', characteristics=[isatools.model.Characteristic(category=isatools.model.OntologyAnnotation(term='Organism', term_source=None, term_accession='', comments=[]), value=isatools.model.OntologyAnnotation(term='Homo Sapiens', term_source=isatools.model.OntologySource(name='NCBITaxon', file='', version='', description='NCBI Taxonomy', comments=[]), term_accession='http://purl.bioontology.org/ontology/NCBITAXON/9606', comments=[]), unit=None, comments=[])], comments=[])], samples=[isatools.model.Sample(name='SBJ0_sample1', characteristics=[], factor_values=[], derives_from=[], comments=[]), isatools.model.Sample(name='SBJ1_sample1', characteristics=[], factor_values=[], derives_from=[], comments=[]), isatools.model.Sample(name='SBJ1_sample2', characteristics=[], factor_values=[], derives_from=[], comments=[]), isatools.model.Sample(name='SBJ2', characteristics=[], factor_values=[], derives_from=[], comments=[])], process_sequence=[isatools.model.Process(id=\"\". name=\"None\", executes_protocol=Protocol(\n",
       "    name=sample collection\n",
       "    protocol_type=sample collection\n",
       "    uri=\n",
       "    version=\n",
       "    parameters=0 ProtocolParameter objects\n",
       "    components=0 OntologyAnnotation objects\n",
       "    comments=0 Comment objects\n",
       "), date=\"None\", performer=\"None\", inputs=[isatools.model.Source(name='human individual-0', characteristics=[isatools.model.Characteristic(category=isatools.model.OntologyAnnotation(term='Organism', term_source=None, term_accession='', comments=[]), value=isatools.model.OntologyAnnotation(term='Homo Sapiens', term_source=isatools.model.OntologySource(name='NCBITaxon', file='', version='', description='NCBI Taxonomy', comments=[]), term_accession='http://purl.bioontology.org/ontology/NCBITAXON/9606', comments=[]), unit=None, comments=[])], comments=[])], outputs=[isatools.model.Sample(name='SBJ0_sample1', characteristics=[], factor_values=[], derives_from=[], comments=[])]), isatools.model.Process(id=\"\". name=\"None\", executes_protocol=Protocol(\n",
       "    name=sample collection\n",
       "    protocol_type=sample collection\n",
       "    uri=\n",
       "    version=\n",
       "    parameters=0 ProtocolParameter objects\n",
       "    components=0 OntologyAnnotation objects\n",
       "    comments=0 Comment objects\n",
       "), date=\"2020-12-09\", performer=\"Philippe\", inputs=[isatools.model.Source(name='human individual-1', characteristics=[isatools.model.Characteristic(category=isatools.model.OntologyAnnotation(term='Organism', term_source=None, term_accession='', comments=[]), value=isatools.model.OntologyAnnotation(term='Homo Sapiens', term_source=isatools.model.OntologySource(name='NCBITaxon', file='', version='', description='NCBI Taxonomy', comments=[]), term_accession='http://purl.bioontology.org/ontology/NCBITAXON/9606', comments=[]), unit=None, comments=[])], comments=[])], outputs=[isatools.model.Sample(name='SBJ1_sample1', characteristics=[], factor_values=[], derives_from=[], comments=[])]), isatools.model.Process(id=\"\". name=\"None\", executes_protocol=Protocol(\n",
       "    name=sample collection\n",
       "    protocol_type=sample collection\n",
       "    uri=\n",
       "    version=\n",
       "    parameters=0 ProtocolParameter objects\n",
       "    components=0 OntologyAnnotation objects\n",
       "    comments=0 Comment objects\n",
       "), date=\"2020-12-09\", performer=\"Philippe\", inputs=[isatools.model.Source(name='human individual-1', characteristics=[isatools.model.Characteristic(category=isatools.model.OntologyAnnotation(term='Organism', term_source=None, term_accession='', comments=[]), value=isatools.model.OntologyAnnotation(term='Homo Sapiens', term_source=isatools.model.OntologySource(name='NCBITaxon', file='', version='', description='NCBI Taxonomy', comments=[]), term_accession='http://purl.bioontology.org/ontology/NCBITAXON/9606', comments=[]), unit=None, comments=[])], comments=[])], outputs=[isatools.model.Sample(name='SBJ1_sample2', characteristics=[], factor_values=[], derives_from=[], comments=[])]), isatools.model.Process(id=\"\". name=\"None\", executes_protocol=Protocol(\n",
       "    name=sample collection\n",
       "    protocol_type=sample collection\n",
       "    uri=\n",
       "    version=\n",
       "    parameters=0 ProtocolParameter objects\n",
       "    components=0 OntologyAnnotation objects\n",
       "    comments=0 Comment objects\n",
       "), date=\"2020-12-09\", performer=\"Philippe\", inputs=[isatools.model.Source(name='human individual-2', characteristics=[isatools.model.Characteristic(category=isatools.model.OntologyAnnotation(term='Organism', term_source=None, term_accession='', comments=[]), value=isatools.model.OntologyAnnotation(term='Homo Sapiens', term_source=isatools.model.OntologySource(name='NCBITaxon', file='', version='', description='NCBI Taxonomy', comments=[]), term_accession='http://purl.bioontology.org/ontology/NCBITAXON/9606', comments=[]), unit=None, comments=[])], comments=[])], outputs=[isatools.model.Sample(name='SBJ2', characteristics=[], factor_values=[], derives_from=[], comments=[])]), isatools.model.Process(id=\"\". name=\"None\", executes_protocol=Protocol(\n",
       "    name=assay-on-source\n",
       "    protocol_type=data acquisition\n",
       "    uri=\n",
       "    version=\n",
       "    parameters=0 ProtocolParameter objects\n",
       "    components=0 OntologyAnnotation objects\n",
       "    comments=0 Comment objects\n",
       "), date=\"None\", performer=\"Philippe\", inputs=[isatools.model.Sample(name='SBJ0_sample1', characteristics=[], factor_values=[], derives_from=[], comments=[])], outputs=[isatools.model.DataFile(filename='dummy.txt', label='', generated_from=[], comments=[])])], other_material=[], characteristic_categories=[], comments=[], units=[])], comments=[])"
      ]
     },
     "execution_count": 31,
     "metadata": {},
     "output_type": "execute_result"
    }
   ],
   "source": [
    "isatab.dump(isa_obj=investigation, output_path=final_dir)"
   ]
  },
  {
   "cell_type": "code",
   "execution_count": 32,
   "metadata": {},
   "outputs": [
    {
     "data": {
      "text/plain": [
       "14349"
      ]
     },
     "execution_count": 32,
     "metadata": {},
     "output_type": "execute_result"
    }
   ],
   "source": [
    "isa_j = json.dumps(investigation, cls=ISAJSONEncoder, sort_keys=True, indent=4, separators=(',', ': '))\n",
    "open(\"isa_as_json_from_dumps1.json\",\"w\").write(isa_j) # this call write the string 'isa_j' to the file called 'isa_as_json_from_dumps.json'"
   ]
  },
  {
   "cell_type": "code",
   "execution_count": 33,
   "metadata": {},
   "outputs": [],
   "source": [
    "test_dir = os.path.abspath(os.path.join('output2', 'issue-brapi-unused-source'))"
   ]
  },
  {
   "cell_type": "code",
   "execution_count": 34,
   "metadata": {},
   "outputs": [
    {
     "name": "stderr",
     "output_type": "stream",
     "text": [
      "2020-12-09 21:45:00,630 [INFO]: isatab.py(validate:4202) >> Loading... /Users/philippe/Documents/git/isa-create-notebook/notebooks/output2/issue-brapi-unused-source/i_investigation.txt\n",
      "2020-12-09 21:45:00,785 [INFO]: isatab.py(validate:4204) >> Running prechecks...\n",
      "2020-12-09 21:45:00,845 [INFO]: isatab.py(validate:4225) >> Finished prechecks...\n",
      "2020-12-09 21:45:00,846 [INFO]: isatab.py(validate:4226) >> Loading configurations found in /Users/philippe/.pyenv/versions/3.8.0/envs/isa-api-py38/src/isatools/isatools/resources/config/xml\n",
      "2020-12-09 21:45:00,923 [INFO]: isatab.py(validate:4231) >> Using configurations found in /Users/philippe/.pyenv/versions/3.8.0/envs/isa-api-py38/src/isatools/isatools/resources/config/xml\n",
      "2020-12-09 21:45:00,924 [INFO]: isatab.py(validate:4233) >> Checking investigation file against configuration...\n",
      "2020-12-09 21:45:00,926 [INFO]: isatab.py(validate:4236) >> Finished checking investigation file\n",
      "2020-12-09 21:45:00,927 [INFO]: isatab.py(validate:4255) >> Loading... s_prs_test.txt\n",
      "2020-12-09 21:45:00,931 [INFO]: isatab.py(validate:4261) >> Validating s_prs_test.txt against default study table configuration\n",
      "2020-12-09 21:45:00,931 [INFO]: isatab.py(validate:4263) >> Checking Factor Value presence...\n",
      "2020-12-09 21:45:00,933 [INFO]: isatab.py(validate:4266) >> Checking required fields...\n",
      "2020-12-09 21:45:00,934 [INFO]: isatab.py(validate:4269) >> Checking generic fields...\n",
      "2020-12-09 21:45:00,935 [INFO]: isatab.py(validate:4277) >> Checking unit fields...\n",
      "2020-12-09 21:45:00,936 [INFO]: isatab.py(validate:4284) >> Checking protocol fields...\n",
      "2020-12-09 21:45:00,936 [WARNING]: isatab.py(check_protocol_fields:3936) >> (W) Multiple protocol references {'', 'sample collection'} are found in Protocol REF\n",
      "2020-12-09 21:45:00,937 [WARNING]: isatab.py(check_protocol_fields:3938) >> (W) Only one protocol reference should be used in a Protocol REF column.\n",
      "2020-12-09 21:45:00,937 [WARNING]: isatab.py(validate:4289) >> (W) There are some protocol inconsistencies in s_prs_test.txt against Study Sample configuration\n",
      "2020-12-09 21:45:00,938 [INFO]: isatab.py(validate:4294) >> Checking ontology fields...\n",
      "2020-12-09 21:45:00,938 [INFO]: isatab.py(validate:4304) >> Checking study group size...\n",
      "2020-12-09 21:45:00,940 [INFO]: isatab.py(validate:4308) >> Finished validation on s_prs_test.txt\n",
      "2020-12-09 21:45:00,941 [INFO]: isatab.py(validate:4345) >> Loading... a_assay_test.txt\n",
      "2020-12-09 21:45:00,945 [INFO]: isatab.py(validate:4353) >> Validating a_assay_test.txt against assay table configuration (clinical chemistry analysis, )...\n",
      "2020-12-09 21:45:00,945 [INFO]: isatab.py(validate:4359) >> Checking Factor Value presence...\n",
      "2020-12-09 21:45:00,946 [INFO]: isatab.py(validate:4363) >> Checking required fields...\n",
      "2020-12-09 21:45:00,947 [INFO]: isatab.py(validate:4366) >> Checking generic fields...\n",
      "2020-12-09 21:45:00,949 [INFO]: isatab.py(validate:4377) >> Checking unit fields...\n",
      "2020-12-09 21:45:00,950 [INFO]: isatab.py(validate:4387) >> Checking protocol fields...\n",
      "2020-12-09 21:45:00,951 [WARNING]: isatab.py(check_protocol_fields:3936) >> (W) Multiple protocol references {'dummy_protocol', 'data acquisition'} are found in Protocol REF\n",
      "2020-12-09 21:45:00,952 [WARNING]: isatab.py(check_protocol_fields:3938) >> (W) Only one protocol reference should be used in a Protocol REF column.\n",
      "2020-12-09 21:45:00,952 [WARNING]: isatab.py(validate:4392) >> (W) There are some protocol inconsistencies in a_assay_test.txt against ('clinical chemistry analysis', '') configuration\n",
      "2020-12-09 21:45:00,953 [INFO]: isatab.py(validate:4399) >> Checking ontology fields...\n",
      "2020-12-09 21:45:00,953 [INFO]: isatab.py(validate:4412) >> Checking study group size...\n",
      "2020-12-09 21:45:00,954 [INFO]: isatab.py(validate:4416) >> Finished validation on a_assay_test.txt\n",
      "2020-12-09 21:45:00,954 [INFO]: isatab.py(validate:4422) >> Checking consistencies between study sample table and assay tables...\n",
      "2020-12-09 21:45:00,955 [INFO]: isatab.py(validate:4427) >> Finished checking study sample table against assay tables...\n",
      "2020-12-09 21:45:01,157 [INFO]: utils.py(detect_isatab_process_pooling:80) >> Checking s_prs_test.txt\n",
      "2020-12-09 21:45:01,162 [INFO]: utils.py(detect_isatab_process_pooling:89) >> Checking a_assay_test.txt\n",
      "2020-12-09 21:45:01,167 [INFO]: isatab.py(validate:4440) >> Finished validation...\n"
     ]
    }
   ],
   "source": [
    "my_json_report = isatab.validate(open(os.path.join(test_dir, 'i_investigation.txt')))"
   ]
  },
  {
   "cell_type": "code",
   "execution_count": 35,
   "metadata": {},
   "outputs": [
    {
     "name": "stdout",
     "output_type": "stream",
     "text": [
      "{'errors': [], 'warnings': [], 'info': [{'message': 'Found 2 study groups in s_prs_test.txt', 'supplemental': 'Found 2 study groups in s_prs_test.txt', 'code': 5001}, {'message': 'Found -1 study groups in a_assay_test.txt', 'supplemental': 'Found -1 study groups in a_assay_test.txt', 'code': 5001}], 'validation_finished': True}\n"
     ]
    }
   ],
   "source": [
    "print(my_json_report)"
   ]
  }
 ],
 "metadata": {
  "kernelspec": {
   "display_name": "isa-api-py38",
   "language": "python",
   "name": "isa-api-py38"
  },
  "language_info": {
   "codemirror_mode": {
    "name": "ipython",
    "version": 3
   },
   "file_extension": ".py",
   "mimetype": "text/x-python",
   "name": "python",
   "nbconvert_exporter": "python",
   "pygments_lexer": "ipython3",
   "version": "3.8.0"
  }
 },
 "nbformat": 4,
 "nbformat_minor": 4
}
