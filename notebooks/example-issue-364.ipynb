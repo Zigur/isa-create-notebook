{
 "cells": [
  {
   "cell_type": "code",
   "execution_count": 1,
   "metadata": {
    "scrolled": true
   },
   "outputs": [],
   "source": [
    "import os\n",
    "import json\n",
    "from isatools.model import (Investigation, Study, Assay, Person, Material,\n",
    "                            DataFile, plink,\n",
    "                            OntologySource, OntologyAnnotation, Sample,\n",
    "                            Source, Characteristic, Protocol, Process)\n",
    "from isatools import isatab\n",
    "\n",
    "from isatools.isajson import ISAJSONEncoder\n",
    "final_dir = os.path.abspath(os.path.join('output1', 'issue-364'))"
   ]
  },
  {
   "cell_type": "code",
   "execution_count": 2,
   "metadata": {
    "scrolled": true
   },
   "outputs": [],
   "source": [
    "investigation = Investigation()\n",
    "investigation.identifier = \"PERISCOPE\"\n",
    "investigation.title = \"PERtussIS COrrelates of Protection Europe\"\n",
    "investigation.description = \"\"\"Investigates Bordatela pertussis infection and aims to accelerate the development of new vaccines\"\"\""
   ]
  },
  {
   "cell_type": "code",
   "execution_count": 3,
   "metadata": {
    "scrolled": true
   },
   "outputs": [],
   "source": [
    "bert_study = Study(filename=\"s_bert.txt\")\n",
    "\n",
    "bert_study.identifier = \"BERT\"\n",
    "bert_study.title = \"Booster Against Pertussis\"\n",
    "bert_study.description = \"\"\"The BERT Booster against pertussis (whooping cough) study investigates\n",
    "long-term protection against pertussis by giving a repeated vaccination against pertussis.\"\"\"\n"
   ]
  },
  {
   "cell_type": "code",
   "execution_count": 4,
   "metadata": {
    "scrolled": true
   },
   "outputs": [],
   "source": [
    "hcm_study = Study(filename=\"s_hcm.txt\")\n",
    "hcm_study.identifier = \"HCM\"\n",
    "hcm_study.title = \"Human Challenge Colonisation\"\n",
    "hcm_study.description = \"\"\"The Human Challenge study investigates the effect of the Bordatela pertussis (whooping cough)\n",
    "inoculation on healthy individuals\"\"\""
   ]
  },
  {
   "cell_type": "code",
   "execution_count": 5,
   "metadata": {
    "scrolled": true
   },
   "outputs": [
    {
     "data": {
      "text/plain": [
       "isatools.model.Study(filename='s_hcm.txt', identifier='HCM', title='Human Challenge Colonisation', description='The Human Challenge study investigates the effect of the Bordatela pertussis (whooping cough)\n",
       "inoculation on healthy individuals', submission_date='', public_release_date='', contacts=[], design_descriptors=[], publications=[], factors=[], protocols=[], assays=[], sources=[], samples=[], process_sequence=[], other_material=[], characteristic_categories=[], comments=[], units=[])"
      ]
     },
     "execution_count": 5,
     "metadata": {},
     "output_type": "execute_result"
    }
   ],
   "source": [
    "hcm_study"
   ]
  },
  {
   "cell_type": "code",
   "execution_count": 6,
   "metadata": {
    "scrolled": true
   },
   "outputs": [],
   "source": [
    "evi_van_schuppen = Person(first_name=\"Evi\", last_name=\"van Schuppen\", affiliation=\"Radboud UMC\", email=\"evi.vanSchuppen@radboudumc.nl\")\n",
    "guy_berbers = Person(first_name=\"Guy\", last_name=\"Berbers\", affiliation=\"RIVM, the Netherlands\", email=\"guy.berbers@rivm.nl\")\n",
    "alex_barkoff = Person(first_name=\"Alex\", last_name=\"Barkoff\", affiliation=\"University of Turku\", email=\"ambark@utu.fi\")\n",
    "pieter_van_gageldonk = Person(first_name=\"Pieter\", last_name=\"van Gageldonk\", affiliation=\"RIVM, the Netherlands\", email=\"pieter.van.gageldonk@rivm.nl\")\n",
    "alison_hill = Person(first_name=\"Alison\", last_name=\"Hill\", affiliation=\"University of Southampton\", email=\"email:ah1g12@soton.ac.uk\")"
   ]
  },
  {
   "cell_type": "code",
   "execution_count": 7,
   "metadata": {
    "scrolled": true
   },
   "outputs": [],
   "source": [
    "hcm_study.contacts.extend([alison_hill, evi_van_schuppen, guy_berbers])\n",
    "bert_study.contacts.extend([evi_van_schuppen, guy_berbers, alex_barkoff, pieter_van_gageldonk])\n"
   ]
  },
  {
   "cell_type": "code",
   "execution_count": 8,
   "metadata": {
    "scrolled": true
   },
   "outputs": [],
   "source": [
    "ncbi_taxon = OntologySource(name='NCBITaxon', description=\"NCBI Taxonomy\")\n",
    "human_characteristic= Characteristic(category=OntologyAnnotation(term=\"Organism\"),\n",
    "                                     value=OntologyAnnotation(term=\"Homo Sapiens\", term_source=ncbi_taxon,\n",
    "                                                              term_accession=\"http://purl.bioontology.org/ontology/NCBITAXON/9606\"))"
   ]
  },
  {
   "cell_type": "code",
   "execution_count": 9,
   "metadata": {
    "scrolled": true
   },
   "outputs": [],
   "source": [
    "subject_0 = Source(name='human individual-0', characteristics=[human_characteristic]) \n",
    "subject_1 = Source(name='human individual-1', characteristics=[human_characteristic]) \n",
    "subject_2 = Source(name='human individual-2', characteristics=[human_characteristic]) \n",
    "\n",
    "serum_0 = Sample(name='serum')\n",
    "serum_1 = Sample(name='serum')\n",
    "serum_2 = Sample(name='serum')\n",
    "mlf_0 = Sample(name='nasal mucosal lining fluid')\n",
    "mlf_1 = Sample(name='nasal mucosal lining fluid')\n",
    "\n",
    "# unknown_src = Source(name=\"unknown\")\n",
    "#bert_study.sources.extend([serum_0])\n",
    "bert_study.sources.extend([subject_0])\n",
    "bert_study.sources.extend([subject_2])\n",
    "bert_study.samples.extend([serum_0])\n",
    "bert_study.samples.extend([serum_2])\n",
    "bert_study.samples.extend([mlf_0])\n",
    "\n",
    "hcm_study.sources.extend([subject_1])\n",
    "hcm_study.samples.extend([mlf_1])\n",
    "hcm_study.samples.extend([serum_1])\n",
    "\n",
    "hcm_study.sources.extend([subject_2])"
   ]
  },
  {
   "cell_type": "code",
   "execution_count": 10,
   "metadata": {
    "scrolled": true
   },
   "outputs": [],
   "source": [
    "#unknown_collection_process = Process(name=\"unknown\")\n",
    "\n",
    "bert_mlf_protocol = Protocol(name=\"sample collection-bert\",\n",
    "                             protocol_type=OntologyAnnotation(term=\"sample collection\"))\n",
    "bert_study.protocols.append(bert_mlf_protocol)\n",
    "bert_mlf_process = Process(executes_protocol=bert_mlf_protocol)\n",
    "bert_mlf_process.inputs.append(subject_0)\n",
    "bert_mlf_process.outputs.append(mlf_0)\n",
    "bert_study.process_sequence.append(bert_mlf_process)"
   ]
  },
  {
   "cell_type": "code",
   "execution_count": 11,
   "metadata": {
    "scrolled": true
   },
   "outputs": [],
   "source": [
    "bert_serum_protocol = Protocol(name=\"sample collection-bert\",\n",
    "                               protocol_type=OntologyAnnotation(term=\"sample collection\"))\n",
    "bert_study.protocols.append(bert_serum_protocol)\n",
    "bert_serum_process = Process(executes_protocol=bert_serum_protocol)\n",
    "bert_serum_process.inputs.append(subject_0)\n",
    "bert_serum_process.outputs.append(serum_0)\n",
    "# bert_serum_process.inputs.append(subject_2)\n",
    "bert_study.process_sequence.append(bert_serum_process)\n"
   ]
  },
  {
   "cell_type": "code",
   "execution_count": 12,
   "metadata": {
    "scrolled": true
   },
   "outputs": [],
   "source": [
    "hcm_mlf_protocol = Protocol(name=\"sample collection-hcm-1\",\n",
    "                            protocol_type=OntologyAnnotation(term=\"sample collection\"))\n",
    "hcm_study.protocols.append(hcm_mlf_protocol)\n",
    "hcm_mlf_process = Process(executes_protocol=hcm_mlf_protocol)\n",
    "hcm_mlf_process.inputs.append(subject_1)\n",
    "hcm_mlf_process.outputs.append(mlf_1)\n",
    "hcm_study.process_sequence.append(hcm_mlf_process)"
   ]
  },
  {
   "cell_type": "code",
   "execution_count": 13,
   "metadata": {
    "scrolled": true
   },
   "outputs": [],
   "source": [
    "hcm_serum_protocol = Protocol(name=\"sample collection-hcm-1\",\n",
    "                              protocol_type=OntologyAnnotation(term=\"sample collection\"))\n",
    "hcm_study.protocols.append(hcm_serum_protocol)\n",
    "hcm_serum_process = Process(executes_protocol=hcm_serum_protocol)\n",
    "hcm_serum_process.inputs.append(subject_1)\n",
    "hcm_serum_process.outputs.append(serum_1)\n",
    "hcm_study.process_sequence.append(hcm_serum_process)"
   ]
  },
  {
   "cell_type": "code",
   "execution_count": 14,
   "metadata": {
    "scrolled": true
   },
   "outputs": [],
   "source": [
    "# %matplotlib inline\n",
    "# import networkx as nx\n",
    "# hcm_graph = hcm_study.graph\n",
    "# nx.draw(hcm_graph, with_labels = True, figsize=(16,12))"
   ]
  },
  {
   "cell_type": "code",
   "execution_count": 15,
   "metadata": {
    "scrolled": true
   },
   "outputs": [],
   "source": [
    "# extraction_protocol = Protocol(name='extraction', protocol_type=OntologyAnnotation(term=\"material extraction\"))\n",
    "# bert_study.protocols.append(extraction_protocol)\n",
    "# hcm_study.protocols.append(extraction_protocol)"
   ]
  },
  {
   "cell_type": "code",
   "execution_count": 16,
   "metadata": {
    "scrolled": true
   },
   "outputs": [],
   "source": [
    "# mia_protocol = Protocol(name='multiplex immuno assay', protocol_type=OntologyAnnotation(term=\"mia\"))\n",
    "# bert_study.protocols.append(mia_protocol)\n",
    "# hcm_study.protocols.append(mia_protocol)"
   ]
  },
  {
   "cell_type": "code",
   "execution_count": 17,
   "metadata": {
    "scrolled": true
   },
   "outputs": [],
   "source": [
    "#bert_study"
   ]
  },
  {
   "cell_type": "code",
   "execution_count": 18,
   "metadata": {
    "scrolled": true
   },
   "outputs": [],
   "source": [
    "#hcm_study"
   ]
  },
  {
   "cell_type": "code",
   "execution_count": 19,
   "metadata": {
    "scrolled": true
   },
   "outputs": [
    {
     "data": {
      "text/plain": [
       "isatools.model.Investigation(identifier='PERISCOPE', filename='', title='PERtussIS COrrelates of Protection Europe', submission_date='', public_release_date='', ontology_source_references=[], publications=[], contacts=[], studies=[isatools.model.Study(filename='s_bert.txt', identifier='BERT', title='Booster Against Pertussis', description='The BERT Booster against pertussis (whooping cough) study investigates\n",
       "long-term protection against pertussis by giving a repeated vaccination against pertussis.', submission_date='', public_release_date='', contacts=[isatools.model.Person(last_name='van Schuppen', first_name='Evi', mid_initials='', email='evi.vanSchuppen@radboudumc.nl', phone='', fax='', address='', affiliation='Radboud UMC', roles=[], comments=[]), isatools.model.Person(last_name='Berbers', first_name='Guy', mid_initials='', email='guy.berbers@rivm.nl', phone='', fax='', address='', affiliation='RIVM, the Netherlands', roles=[], comments=[]), isatools.model.Person(last_name='Barkoff', first_name='Alex', mid_initials='', email='ambark@utu.fi', phone='', fax='', address='', affiliation='University of Turku', roles=[], comments=[]), isatools.model.Person(last_name='van Gageldonk', first_name='Pieter', mid_initials='', email='pieter.van.gageldonk@rivm.nl', phone='', fax='', address='', affiliation='RIVM, the Netherlands', roles=[], comments=[])], design_descriptors=[], publications=[], factors=[], protocols=[isatools.model.Protocol(name='sample collection-bert', protocol_type=isatools.model.OntologyAnnotation(term='sample collection', term_source=None, term_accession='', comments=[]), uri='', version='', parameters=[], components=[], comments=[]), isatools.model.Protocol(name='sample collection-bert', protocol_type=isatools.model.OntologyAnnotation(term='sample collection', term_source=None, term_accession='', comments=[]), uri='', version='', parameters=[], components=[], comments=[])], assays=[], sources=[isatools.model.Source(name='human individual-0', characteristics=[isatools.model.Characteristic(category=isatools.model.OntologyAnnotation(term='Organism', term_source=None, term_accession='', comments=[]), value=isatools.model.OntologyAnnotation(term='Homo Sapiens', term_source=isatools.model.OntologySource(name='NCBITaxon', file='', version='', description='NCBI Taxonomy', comments=[]), term_accession='http://purl.bioontology.org/ontology/NCBITAXON/9606', comments=[]), unit=None, comments=[])], comments=[]), isatools.model.Source(name='human individual-2', characteristics=[isatools.model.Characteristic(category=isatools.model.OntologyAnnotation(term='Organism', term_source=None, term_accession='', comments=[]), value=isatools.model.OntologyAnnotation(term='Homo Sapiens', term_source=isatools.model.OntologySource(name='NCBITaxon', file='', version='', description='NCBI Taxonomy', comments=[]), term_accession='http://purl.bioontology.org/ontology/NCBITAXON/9606', comments=[]), unit=None, comments=[])], comments=[])], samples=[isatools.model.Sample(name='serum', characteristics=[], factor_values=[], derives_from=[], comments=[]), isatools.model.Sample(name='serum', characteristics=[], factor_values=[], derives_from=[], comments=[]), isatools.model.Sample(name='nasal mucosal lining fluid', characteristics=[], factor_values=[], derives_from=[], comments=[])], process_sequence=[isatools.model.Process(id=\"\". name=\"None\", executes_protocol=Protocol(\n",
       "    name=sample collection-bert\n",
       "    protocol_type=sample collection\n",
       "    uri=\n",
       "    version=\n",
       "    parameters=0 ProtocolParameter objects\n",
       "    components=0 OntologyAnnotation objects\n",
       "    comments=0 Comment objects\n",
       "), date=\"None\", performer=\"None\", inputs=[isatools.model.Source(name='human individual-0', characteristics=[isatools.model.Characteristic(category=isatools.model.OntologyAnnotation(term='Organism', term_source=None, term_accession='', comments=[]), value=isatools.model.OntologyAnnotation(term='Homo Sapiens', term_source=isatools.model.OntologySource(name='NCBITaxon', file='', version='', description='NCBI Taxonomy', comments=[]), term_accession='http://purl.bioontology.org/ontology/NCBITAXON/9606', comments=[]), unit=None, comments=[])], comments=[])], outputs=[isatools.model.Sample(name='nasal mucosal lining fluid', characteristics=[], factor_values=[], derives_from=[], comments=[])]), isatools.model.Process(id=\"\". name=\"None\", executes_protocol=Protocol(\n",
       "    name=sample collection-bert\n",
       "    protocol_type=sample collection\n",
       "    uri=\n",
       "    version=\n",
       "    parameters=0 ProtocolParameter objects\n",
       "    components=0 OntologyAnnotation objects\n",
       "    comments=0 Comment objects\n",
       "), date=\"None\", performer=\"None\", inputs=[isatools.model.Source(name='human individual-0', characteristics=[isatools.model.Characteristic(category=isatools.model.OntologyAnnotation(term='Organism', term_source=None, term_accession='', comments=[]), value=isatools.model.OntologyAnnotation(term='Homo Sapiens', term_source=isatools.model.OntologySource(name='NCBITaxon', file='', version='', description='NCBI Taxonomy', comments=[]), term_accession='http://purl.bioontology.org/ontology/NCBITAXON/9606', comments=[]), unit=None, comments=[])], comments=[])], outputs=[isatools.model.Sample(name='serum', characteristics=[], factor_values=[], derives_from=[], comments=[])])], other_material=[], characteristic_categories=[], comments=[], units=[]), isatools.model.Study(filename='s_hcm.txt', identifier='HCM', title='Human Challenge Colonisation', description='The Human Challenge study investigates the effect of the Bordatela pertussis (whooping cough)\n",
       "inoculation on healthy individuals', submission_date='', public_release_date='', contacts=[isatools.model.Person(last_name='Hill', first_name='Alison', mid_initials='', email='email:ah1g12@soton.ac.uk', phone='', fax='', address='', affiliation='University of Southampton', roles=[], comments=[]), isatools.model.Person(last_name='van Schuppen', first_name='Evi', mid_initials='', email='evi.vanSchuppen@radboudumc.nl', phone='', fax='', address='', affiliation='Radboud UMC', roles=[], comments=[]), isatools.model.Person(last_name='Berbers', first_name='Guy', mid_initials='', email='guy.berbers@rivm.nl', phone='', fax='', address='', affiliation='RIVM, the Netherlands', roles=[], comments=[])], design_descriptors=[], publications=[], factors=[], protocols=[isatools.model.Protocol(name='sample collection-hcm-1', protocol_type=isatools.model.OntologyAnnotation(term='sample collection', term_source=None, term_accession='', comments=[]), uri='', version='', parameters=[], components=[], comments=[]), isatools.model.Protocol(name='sample collection-hcm-1', protocol_type=isatools.model.OntologyAnnotation(term='sample collection', term_source=None, term_accession='', comments=[]), uri='', version='', parameters=[], components=[], comments=[])], assays=[], sources=[isatools.model.Source(name='human individual-1', characteristics=[isatools.model.Characteristic(category=isatools.model.OntologyAnnotation(term='Organism', term_source=None, term_accession='', comments=[]), value=isatools.model.OntologyAnnotation(term='Homo Sapiens', term_source=isatools.model.OntologySource(name='NCBITaxon', file='', version='', description='NCBI Taxonomy', comments=[]), term_accession='http://purl.bioontology.org/ontology/NCBITAXON/9606', comments=[]), unit=None, comments=[])], comments=[]), isatools.model.Source(name='human individual-2', characteristics=[isatools.model.Characteristic(category=isatools.model.OntologyAnnotation(term='Organism', term_source=None, term_accession='', comments=[]), value=isatools.model.OntologyAnnotation(term='Homo Sapiens', term_source=isatools.model.OntologySource(name='NCBITaxon', file='', version='', description='NCBI Taxonomy', comments=[]), term_accession='http://purl.bioontology.org/ontology/NCBITAXON/9606', comments=[]), unit=None, comments=[])], comments=[])], samples=[isatools.model.Sample(name='nasal mucosal lining fluid', characteristics=[], factor_values=[], derives_from=[], comments=[]), isatools.model.Sample(name='serum', characteristics=[], factor_values=[], derives_from=[], comments=[])], process_sequence=[isatools.model.Process(id=\"\". name=\"None\", executes_protocol=Protocol(\n",
       "    name=sample collection-hcm-1\n",
       "    protocol_type=sample collection\n",
       "    uri=\n",
       "    version=\n",
       "    parameters=0 ProtocolParameter objects\n",
       "    components=0 OntologyAnnotation objects\n",
       "    comments=0 Comment objects\n",
       "), date=\"None\", performer=\"None\", inputs=[isatools.model.Source(name='human individual-1', characteristics=[isatools.model.Characteristic(category=isatools.model.OntologyAnnotation(term='Organism', term_source=None, term_accession='', comments=[]), value=isatools.model.OntologyAnnotation(term='Homo Sapiens', term_source=isatools.model.OntologySource(name='NCBITaxon', file='', version='', description='NCBI Taxonomy', comments=[]), term_accession='http://purl.bioontology.org/ontology/NCBITAXON/9606', comments=[]), unit=None, comments=[])], comments=[])], outputs=[isatools.model.Sample(name='nasal mucosal lining fluid', characteristics=[], factor_values=[], derives_from=[], comments=[])]), isatools.model.Process(id=\"\". name=\"None\", executes_protocol=Protocol(\n",
       "    name=sample collection-hcm-1\n",
       "    protocol_type=sample collection\n",
       "    uri=\n",
       "    version=\n",
       "    parameters=0 ProtocolParameter objects\n",
       "    components=0 OntologyAnnotation objects\n",
       "    comments=0 Comment objects\n",
       "), date=\"None\", performer=\"None\", inputs=[isatools.model.Source(name='human individual-1', characteristics=[isatools.model.Characteristic(category=isatools.model.OntologyAnnotation(term='Organism', term_source=None, term_accession='', comments=[]), value=isatools.model.OntologyAnnotation(term='Homo Sapiens', term_source=isatools.model.OntologySource(name='NCBITaxon', file='', version='', description='NCBI Taxonomy', comments=[]), term_accession='http://purl.bioontology.org/ontology/NCBITAXON/9606', comments=[]), unit=None, comments=[])], comments=[])], outputs=[isatools.model.Sample(name='serum', characteristics=[], factor_values=[], derives_from=[], comments=[])])], other_material=[], characteristic_categories=[], comments=[], units=[])], comments=[])"
      ]
     },
     "execution_count": 19,
     "metadata": {},
     "output_type": "execute_result"
    }
   ],
   "source": [
    "investigation.studies.append(bert_study)\n",
    "investigation.studies.append(hcm_study)\n",
    "isatab.dump(isa_obj=investigation, output_path=final_dir)"
   ]
  },
  {
   "cell_type": "code",
   "execution_count": 20,
   "metadata": {},
   "outputs": [
    {
     "data": {
      "text/plain": [
       "15620"
      ]
     },
     "execution_count": 20,
     "metadata": {},
     "output_type": "execute_result"
    }
   ],
   "source": [
    "\n",
    "\n",
    "isa_j = json.dumps(investigation, cls=ISAJSONEncoder, sort_keys=True, indent=4, separators=(',', ': '))\n",
    "open(\"isa_as_json_from_dumps1.json\",\"w\").write(isa_j) # this call write the string 'isa_j' to the file called 'isa_as_json_from_dumps.json'"
   ]
  }
 ],
 "metadata": {
  "kernelspec": {
   "display_name": "isa-api-py38",
   "language": "python",
   "name": "isa-api-py38"
  },
  "language_info": {
   "codemirror_mode": {
    "name": "ipython",
    "version": 3
   },
   "file_extension": ".py",
   "mimetype": "text/x-python",
   "name": "python",
   "nbconvert_exporter": "python",
   "pygments_lexer": "ipython3",
   "version": "3.8.0"
  }
 },
 "nbformat": 4,
 "nbformat_minor": 4
}
