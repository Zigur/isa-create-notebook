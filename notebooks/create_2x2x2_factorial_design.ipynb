{
 "cells": [
  {
   "cell_type": "code",
   "execution_count": 4,
   "metadata": {
    "scrolled": true
   },
   "outputs": [
    {
     "ename": "FileNotFoundError",
     "evalue": "[Errno 2] No such file or directory: '/Users/philippe/.pyenv/versions/isapi-testson374/lib/python3.7/site-packages/isatools/create/../resources/config/yaml/study-creator-config.yaml'",
     "output_type": "error",
     "traceback": [
      "\u001b[0;31m---------------------------------------------------------------------------\u001b[0m",
      "\u001b[0;31mFileNotFoundError\u001b[0m                         Traceback (most recent call last)",
      "\u001b[0;32m<ipython-input-4-c51d753ad329>\u001b[0m in \u001b[0;36m<module>\u001b[0;34m\u001b[0m\n\u001b[1;32m      1\u001b[0m \u001b[0;32mimport\u001b[0m \u001b[0mpandas\u001b[0m \u001b[0;32mas\u001b[0m \u001b[0mpd\u001b[0m\u001b[0;34m\u001b[0m\u001b[0;34m\u001b[0m\u001b[0m\n\u001b[1;32m      2\u001b[0m \u001b[0;32mimport\u001b[0m \u001b[0mdatetime\u001b[0m \u001b[0;32mas\u001b[0m \u001b[0mdt\u001b[0m\u001b[0;34m\u001b[0m\u001b[0;34m\u001b[0m\u001b[0m\n\u001b[0;32m----> 3\u001b[0;31m \u001b[0;32mfrom\u001b[0m \u001b[0misatools\u001b[0m\u001b[0;34m.\u001b[0m\u001b[0mcreate\u001b[0m\u001b[0;34m.\u001b[0m\u001b[0mmodels\u001b[0m \u001b[0;32mimport\u001b[0m \u001b[0;34m*\u001b[0m\u001b[0;34m\u001b[0m\u001b[0;34m\u001b[0m\u001b[0m\n\u001b[0m\u001b[1;32m      4\u001b[0m \u001b[0;32mimport\u001b[0m \u001b[0mjson\u001b[0m\u001b[0;34m\u001b[0m\u001b[0;34m\u001b[0m\u001b[0m\n\u001b[1;32m      5\u001b[0m \u001b[0;32mfrom\u001b[0m \u001b[0misatools\u001b[0m\u001b[0;34m.\u001b[0m\u001b[0misajson\u001b[0m \u001b[0;32mimport\u001b[0m \u001b[0mISAJSONEncoder\u001b[0m\u001b[0;34m\u001b[0m\u001b[0;34m\u001b[0m\u001b[0m\n",
      "\u001b[0;32m~/.pyenv/versions/isapi-testson374/lib/python3.7/site-packages/isatools/create/models.py\u001b[0m in \u001b[0;36m<module>\u001b[0;34m\u001b[0m\n\u001b[1;32m     94\u001b[0m \u001b[0;34m\u001b[0m\u001b[0m\n\u001b[1;32m     95\u001b[0m with open(os.path.join(os.path.dirname(__file__), '..', 'resources', 'config', 'yaml',\n\u001b[0;32m---> 96\u001b[0;31m                        'study-creator-config.yaml')) as yaml_file:\n\u001b[0m\u001b[1;32m     97\u001b[0m     \u001b[0myaml_config\u001b[0m \u001b[0;34m=\u001b[0m \u001b[0myaml\u001b[0m\u001b[0;34m.\u001b[0m\u001b[0mload\u001b[0m\u001b[0;34m(\u001b[0m\u001b[0myaml_file\u001b[0m\u001b[0;34m)\u001b[0m\u001b[0;34m\u001b[0m\u001b[0;34m\u001b[0m\u001b[0m\n\u001b[1;32m     98\u001b[0m \u001b[0mdefault_ontology_source_reference\u001b[0m \u001b[0;34m=\u001b[0m \u001b[0mOntologySource\u001b[0m\u001b[0;34m(\u001b[0m\u001b[0;34m**\u001b[0m\u001b[0myaml_config\u001b[0m\u001b[0;34m[\u001b[0m\u001b[0;34m'study'\u001b[0m\u001b[0;34m]\u001b[0m\u001b[0;34m[\u001b[0m\u001b[0;34m'ontology_source_references'\u001b[0m\u001b[0;34m]\u001b[0m\u001b[0;34m[\u001b[0m\u001b[0;36m1\u001b[0m\u001b[0;34m]\u001b[0m\u001b[0;34m)\u001b[0m\u001b[0;34m\u001b[0m\u001b[0;34m\u001b[0m\u001b[0m\n",
      "\u001b[0;31mFileNotFoundError\u001b[0m: [Errno 2] No such file or directory: '/Users/philippe/.pyenv/versions/isapi-testson374/lib/python3.7/site-packages/isatools/create/../resources/config/yaml/study-creator-config.yaml'"
     ]
    }
   ],
   "source": [
    "import pandas as pd\n",
    "import datetime as dt\n",
    "from isatools.create.models import * \n",
    "import json\n",
    "from isatools.isajson import ISAJSONEncoder\n",
    "from isatools.model import *"
   ]
  },
  {
   "cell_type": "code",
   "execution_count": 2,
   "metadata": {
    "scrolled": true
   },
   "outputs": [
    {
     "ename": "NameError",
     "evalue": "name 'Investigation' is not defined",
     "output_type": "error",
     "traceback": [
      "\u001b[0;31m---------------------------------------------------------------------------\u001b[0m",
      "\u001b[0;31mNameError\u001b[0m                                 Traceback (most recent call last)",
      "\u001b[0;32m<ipython-input-2-608a60c78c2a>\u001b[0m in \u001b[0;36m<module>\u001b[0;34m\u001b[0m\n\u001b[0;32m----> 1\u001b[0;31m \u001b[0minvestigation\u001b[0m \u001b[0;34m=\u001b[0m \u001b[0mInvestigation\u001b[0m\u001b[0;34m(\u001b[0m\u001b[0;34m)\u001b[0m\u001b[0;34m\u001b[0m\u001b[0;34m\u001b[0m\u001b[0m\n\u001b[0m\u001b[1;32m      2\u001b[0m \u001b[0mstudy\u001b[0m \u001b[0;34m=\u001b[0m \u001b[0mStudy\u001b[0m\u001b[0;34m(\u001b[0m\u001b[0mfilename\u001b[0m\u001b[0;34m=\u001b[0m\u001b[0;34m\"s_study_2by2by2.txt\"\u001b[0m\u001b[0;34m)\u001b[0m\u001b[0;34m\u001b[0m\u001b[0;34m\u001b[0m\u001b[0m\n\u001b[1;32m      3\u001b[0m \u001b[0mstudy\u001b[0m\u001b[0;34m.\u001b[0m\u001b[0midentifier\u001b[0m \u001b[0;34m=\u001b[0m \u001b[0;34m\"2x2x2\"\u001b[0m\u001b[0;34m\u001b[0m\u001b[0;34m\u001b[0m\u001b[0m\n\u001b[1;32m      4\u001b[0m \u001b[0mstudy\u001b[0m\u001b[0;34m.\u001b[0m\u001b[0mtitle\u001b[0m \u001b[0;34m=\u001b[0m \u001b[0;34m\"2x2x2 factorial design study\"\u001b[0m\u001b[0;34m\u001b[0m\u001b[0;34m\u001b[0m\u001b[0m\n\u001b[1;32m      5\u001b[0m \u001b[0mstudy\u001b[0m\u001b[0;34m.\u001b[0m\u001b[0mdescription\u001b[0m \u001b[0;34m=\u001b[0m \u001b[0;34m\"a simple full factorial design study 2x2x2\"\u001b[0m\u001b[0;34m\u001b[0m\u001b[0;34m\u001b[0m\u001b[0m\n",
      "\u001b[0;31mNameError\u001b[0m: name 'Investigation' is not defined"
     ]
    }
   ],
   "source": [
    "investigation = Investigation()\n",
    "study = Study(filename=\"s_study_2by2by2.txt\")\n",
    "study.identifier = \"2x2x2\"\n",
    "study.title = \"2x2x2 factorial design study\"\n",
    "study.description = \"a simple full factorial design study 2x2x2\"\n",
    "study.submission_date = \"2013-04-23\"\n",
    "study.public_release_date = \"2013-05-30\"\n",
    "#study.sources = [Source(name=\"source1\")]\n",
    "#study.samples = [Sample(name=\"sample1\")]\n",
    "study.protocols = [Protocol(name=\"sample collection\")]\n",
    "#study.process_sequence = [Process(executes_protocol=study.protocols[-1], inputs=[study.sources[-1]], outputs=[study.samples[-1]])]\n",
    "investigation.studies = [study]\n",
    "print(investigation)\n"
   ]
  },
  {
   "cell_type": "code",
   "execution_count": null,
   "metadata": {
    "scrolled": true
   },
   "outputs": [],
   "source": [
    "print(json.dumps(investigation, cls=ISAJSONEncoder, sort_keys=True, indent=4, separators=(',', ': ')))"
   ]
  },
  {
   "cell_type": "code",
   "execution_count": null,
   "metadata": {
    "scrolled": true
   },
   "outputs": [],
   "source": [
    "te1 = Treatment()\n",
    "te1.type='chemical intervention'\n",
    "print(te1)"
   ]
  },
  {
   "cell_type": "code",
   "execution_count": null,
   "metadata": {},
   "outputs": [],
   "source": [
    "\n",
    "f1 = StudyFactor(name='painkiller', factor_type=OntologyAnnotation(term=\"chemical compound\"))\n",
    "f2 = StudyFactor(name='dose', factor_type=OntologyAnnotation(term=\"quantity\"))\n",
    "f3 = StudyFactor(name='time post exposure', factor_type=OntologyAnnotation(term=\"time\"))\n",
    "\n",
    "f1v1 = FactorValue(factor_name=f1, value=OntologyAnnotation(term=\"aspirin\"))\n",
    "f2v1 = FactorValue(factor_name=f2, value=OntologyAnnotation(term='low dose'))\n",
    "f3v1 = FactorValue(factor_name=f3, value=1, unit=OntologyAnnotation(term='hr'))\n",
    "\n",
    "\n",
    "f2 = StudyFactor(name='dose', factor_type=OntologyAnnotation(term=\"quantity\"))\n",
    "f2v = FactorValue(factor_name=f2, value=250, unit=OntologyAnnotation(term='lux'))\n",
    "f3 = StudyFactor(name='duration', factor_type=OntologyAnnotation(term=\"time\"))\n",
    "f3v = FactorValue(factor_name=f3, value=1, unit=OntologyAnnotation(term='hr'))\n",
    "\n",
    "print(f2v1)\n",
    "print(f3v1)"
   ]
  },
  {
   "cell_type": "code",
   "execution_count": null,
   "metadata": {
    "scrolled": true
   },
   "outputs": [],
   "source": [
    "#te1.factor_values = [f1v1,f2v1,f3v1]\n",
    "te1.factor_values.add(f1v1)\n",
    "te1.factor_values.add(f2v1)\n",
    "te1.factor_values.add(f3v1)"
   ]
  },
  {
   "cell_type": "code",
   "execution_count": null,
   "metadata": {
    "scrolled": true
   },
   "outputs": [],
   "source": [
    "f1v1 = FactorValue(factor_name=f1, value=OntologyAnnotation(term=\"aspirin\"))\n",
    "f2v2 = FactorValue(factor_name=f2, value=OntologyAnnotation(term='high dose'))\n",
    "f3v2 = FactorValue(factor_name=f3, value=72, unit=OntologyAnnotation(term='hr'))\n",
    "\n",
    "te2 = Treatment()\n",
    "te2.type='chemical intervention'\n",
    "te2.factor_values = (f1v1,f2v2,f3v2)"
   ]
  },
  {
   "cell_type": "code",
   "execution_count": null,
   "metadata": {
    "scrolled": true
   },
   "outputs": [],
   "source": [
    "f1v2 = FactorValue(factor_name=f1, value=OntologyAnnotation(term=\"paracetamol\"))\n",
    "f2v1 = FactorValue(factor_name=f2, value=OntologyAnnotation(term='low dose'))\n",
    "f3v1 = FactorValue(factor_name=f3, value=1, unit=OntologyAnnotation(term='hr'))\n",
    "\n",
    "te3 = Treatment()\n",
    "te3.type='chemical intervention'\n",
    "te3.factor_values = (f1v2,f2v1,f3v1)"
   ]
  },
  {
   "cell_type": "code",
   "execution_count": null,
   "metadata": {
    "scrolled": true
   },
   "outputs": [],
   "source": [
    "f1v2 = FactorValue(factor_name=f1, value=OntologyAnnotation(term=\"paracetamol\"))\n",
    "f2v2 = FactorValue(factor_name=f2, value=OntologyAnnotation(term='high dose'))\n",
    "f3v2 = FactorValue(factor_name=f3, value=72, unit=OntologyAnnotation(term='hr'))\n",
    "\n",
    "te4 = Treatment()\n",
    "te4.type='chemical intervention'\n",
    "te4.factor_values = (f1v2,f2v2,f3v2)"
   ]
  },
  {
   "cell_type": "code",
   "execution_count": null,
   "metadata": {
    "scrolled": true
   },
   "outputs": [],
   "source": [
    "f1v2 = FactorValue(factor_name=f1, value=OntologyAnnotation(term=\"paracetamol\"))\n",
    "f2v1 = FactorValue(factor_name=f2, value=OntologyAnnotation(term='low dose'))\n",
    "f3v2 = FactorValue(factor_name=f3, value=72, unit=OntologyAnnotation(term='hr'))\n",
    "\n",
    "te5 = Treatment()\n",
    "te5.type='chemical intervention'\n",
    "te5.factor_values = (f1v2,f2v1,f3v2)"
   ]
  },
  {
   "cell_type": "code",
   "execution_count": null,
   "metadata": {
    "scrolled": true
   },
   "outputs": [],
   "source": [
    "f1v1 = FactorValue(factor_name=f1, value=OntologyAnnotation(term=\"aspirin\"))\n",
    "f2v1 = FactorValue(factor_name=f2, value=OntologyAnnotation(term='low dose'))\n",
    "f3v2 = FactorValue(factor_name=f3, value=72, unit=OntologyAnnotation(term='hr'))\n",
    "\n",
    "te6 = Treatment()\n",
    "te6.type='chemical intervention'\n",
    "te6.factor_values = (f1v1,f2v1,f3v2)"
   ]
  },
  {
   "cell_type": "code",
   "execution_count": null,
   "metadata": {
    "scrolled": true
   },
   "outputs": [],
   "source": [
    "f1v2 = FactorValue(factor_name=f1, value=OntologyAnnotation(term=\"aspirin\"))\n",
    "f2v1 = FactorValue(factor_name=f2, value=OntologyAnnotation(term='low dose'))\n",
    "f3v2 = FactorValue(factor_name=f3, value=72, unit=OntologyAnnotation(term='hr'))\n",
    "\n",
    "te7 = Treatment()\n",
    "te7.type='chemical intervention'\n",
    "te7.factor_values = (f1v2,f2v1,f3v2)"
   ]
  },
  {
   "cell_type": "code",
   "execution_count": null,
   "metadata": {
    "scrolled": true
   },
   "outputs": [],
   "source": [
    "f1v2 = FactorValue(factor_name=f1, value=OntologyAnnotation(term=\"paracetamol\"))\n",
    "f2v2 = FactorValue(factor_name=f2, value=OntologyAnnotation(term='high dose'))\n",
    "f3v1 = FactorValue(factor_name=f3, value=1, unit=OntologyAnnotation(term='hr'))\n",
    "\n",
    "te8 = Treatment()\n",
    "te8.type='chemical intervention'\n",
    "te8.factor_values = (f1v2,f2v2,f3v1)"
   ]
  },
  {
   "cell_type": "code",
   "execution_count": null,
   "metadata": {
    "scrolled": true
   },
   "outputs": [],
   "source": [
    "st_cl1= StudyCell(name=\"st_cl1\", elements=[te1])\n",
    "st_cl2= StudyCell(name=\"st_cl2\", elements=[te2])\n",
    "st_cl3= StudyCell(name=\"st_cl3\", elements=[te3])\n",
    "st_cl4= StudyCell(name=\"st_cl4\", elements=[te4])\n",
    "st_cl5= StudyCell(name=\"st_cl5\", elements=[te5])\n",
    "st_cl6= StudyCell(name=\"st_cl6\", elements=[te6])\n",
    "st_cl7= StudyCell(name=\"st_cl7\", elements=[te7])\n",
    "st_cl8= StudyCell(name=\"st_cl8\", elements=[te8])\n"
   ]
  },
  {
   "cell_type": "code",
   "execution_count": null,
   "metadata": {
    "scrolled": true
   },
   "outputs": [],
   "source": [
    "arm1 = StudyArm(name='Group 1', group_size=10, source_type=Characteristic(category=OntologyAnnotation(term=\"Study Subject\"),value=OntologyAnnotation(term=\"Vitis vinifera\")))\n",
    "arm2 = StudyArm(name='Group 2', group_size=10)\n",
    "arm3 = StudyArm(name='Group 3', group_size=10)\n",
    "arm4 = StudyArm(name='Group 4', group_size=10)\n",
    "arm5 = StudyArm(name='Group 5', group_size=10)\n",
    "arm6 = StudyArm(name='Group 6', group_size=10)\n",
    "arm7 = StudyArm(name='Group 7', group_size=10)\n",
    "arm8 = StudyArm(name='Group 8', group_size=10)"
   ]
  },
  {
   "cell_type": "code",
   "execution_count": null,
   "metadata": {
    "scrolled": true
   },
   "outputs": [],
   "source": [
    "input_material1=ProductNode(id_=\"MAT1\", name=\"liver\", node_type=SAMPLE,size=1,characteristics=[Characteristic(category=OntologyAnnotation(term='organism part'), value=OntologyAnnotation(term='liver'))])\n",
    "#input_material2=ProductNode(id_=\"MAT2\", name=\"blood\", node_type=SAMPLE,size=1,characteristics=[Characteristic(category='organism part', value='blood')])"
   ]
  },
  {
   "cell_type": "code",
   "execution_count": null,
   "metadata": {
    "scrolled": true
   },
   "outputs": [],
   "source": [
    "nmr_assay_dict = OrderedDict([\n",
    "    ('measurement_type', OntologyAnnotation(term='metabolite profiling')),\n",
    "    ('technology_type', OntologyAnnotation(term='nmr spectroscopy')),\n",
    "            ('extraction', {}),\n",
    "            ('extract', [\n",
    "                {\n",
    "                    'node_type': EXTRACT,\n",
    "                    'characteristics_category':  OntologyAnnotation(term='extract type'),\n",
    "                    'characteristics_value': OntologyAnnotation(term='supernatant'),\n",
    "                    'size': 1,\n",
    "                    'technical_replicates': None,\n",
    "                    'is_input_to_next_protocols': True\n",
    "                },\n",
    "                {\n",
    "                    'node_type': EXTRACT,\n",
    "                    'characteristics_category':  OntologyAnnotation(term='extract type'),\n",
    "                    'characteristics_value': OntologyAnnotation(term='pellet'),\n",
    "                    'size': 1,\n",
    "                    'technical_replicates': None,\n",
    "                    'is_input_to_next_protocols': True\n",
    "                }\n",
    "            ]),\n",
    "            ('nmr_spectroscopy', {\n",
    "                OntologyAnnotation(term='instrument'): [OntologyAnnotation(term='Bruker AvanceII 1 GHz')],\n",
    "                OntologyAnnotation(term='acquisition_mode'): [OntologyAnnotation(term='1D 13C NMR')],\n",
    "                OntologyAnnotation(term='pulse_sequence'): [OntologyAnnotation(term='CPMG')]\n",
    "            }),\n",
    "            ('raw_spectral_data_file', [\n",
    "                {\n",
    "                    'node_type': DATA_FILE,\n",
    "                    'size': 1,\n",
    "                    'technical_replicates': 2,\n",
    "                    'is_input_to_next_protocols': False\n",
    "                }\n",
    "            ])\n",
    "        ])"
   ]
  },
  {
   "cell_type": "code",
   "execution_count": null,
   "metadata": {
    "scrolled": true
   },
   "outputs": [],
   "source": [
    "nmr_assay_graph = AssayGraph.generate_assay_plan_from_dict(nmr_assay_dict)\n",
    "interspersed_sample_node = ProductNode(node_type=SAMPLE, name=\"sample qc\", \n",
    "                                       size=2,characteristics=(\n",
    "                                           Characteristic(category='dilution', value=10, unit='ml'),\n",
    "                                       ))\n",
    "pre_run_sample_node = ProductNode(node_type=SAMPLE, \n",
    "                                  name=\"pre run qc\",\n",
    "                                  size=2,\n",
    "                                  characteristics=(\n",
    "                                      Characteristic(category='dilution', value=10, unit='ml'),\n",
    "                                  ))\n",
    "\n",
    "qc_object = QualityControl(interspersed_sample_type=[(interspersed_sample_node, 10)], \n",
    "                           pre_run_sample_type=pre_run_sample_node)\n",
    "\n",
    "\n",
    "nmr_assay_graph.quality_control=qc_object\n",
    "\n",
    "sap1 = SampleAndAssayPlan(name=\"sap1\", sample_plan=[input_material1], assay_plan=[nmr_assay_graph])\n",
    "\n",
    "sample2assay_plan={input_material1: [nmr_assay_graph]}\n",
    "\n",
    "sap1.sample_to_assay_map=sample2assay_plan\n",
    "\n",
    "sorted(sap1.assay_plan)[0].quality_control"
   ]
  },
  {
   "cell_type": "code",
   "execution_count": null,
   "metadata": {
    "scrolled": true
   },
   "outputs": [],
   "source": [
    "arm1.add_item_to_arm_map(st_cl1,sap1)\n",
    "arm2.add_item_to_arm_map(st_cl2,sap1)\n",
    "arm3.add_item_to_arm_map(st_cl3,sap1)\n",
    "arm4.add_item_to_arm_map(st_cl4,sap1)\n",
    "arm5.add_item_to_arm_map(st_cl5,sap1)\n",
    "arm6.add_item_to_arm_map(st_cl6,sap1)\n",
    "arm7.add_item_to_arm_map(st_cl7,sap1)\n",
    "arm8.add_item_to_arm_map(st_cl8,sap1)"
   ]
  },
  {
   "cell_type": "code",
   "execution_count": null,
   "metadata": {
    "scrolled": true
   },
   "outputs": [],
   "source": [
    "study_design= StudyDesign(name='parallel group design 2x2x2 #1')\n",
    "study_design.add_study_arm(arm1)\n",
    "study_design.add_study_arm(arm2)\n",
    "study_design.add_study_arm(arm3)\n",
    "study_design.add_study_arm(arm4)\n",
    "study_design.add_study_arm(arm5)\n",
    "study_design.add_study_arm(arm6)\n",
    "study_design.add_study_arm(arm7)\n",
    "study_design.add_study_arm(arm8)"
   ]
  },
  {
   "cell_type": "code",
   "execution_count": null,
   "metadata": {
    "scrolled": false
   },
   "outputs": [],
   "source": [
    "import json\n",
    "from isatools.isajson import ISAJSONEncoder\n",
    "from isatools.create.models import StudyDesignEncoder\n",
    "\n",
    "f=json.dumps(study_design, cls=StudyDesignEncoder, sort_keys=True, indent=4, separators=(',', ': '))"
   ]
  },
  {
   "cell_type": "code",
   "execution_count": null,
   "metadata": {
    "scrolled": false
   },
   "outputs": [],
   "source": [
    "study = study_design.generate_isa_study()"
   ]
  },
  {
   "cell_type": "code",
   "execution_count": null,
   "metadata": {
    "scrolled": true
   },
   "outputs": [],
   "source": [
    "len(study.assays)"
   ]
  },
  {
   "cell_type": "code",
   "execution_count": null,
   "metadata": {
    "scrolled": true
   },
   "outputs": [],
   "source": [
    "investigation.studies=[study]"
   ]
  },
  {
   "cell_type": "code",
   "execution_count": null,
   "metadata": {
    "scrolled": false
   },
   "outputs": [],
   "source": [
    "print(investigation.studies[0].assays[1])\n",
    "print(investigation.studies[0].assays[0])"
   ]
  },
  {
   "cell_type": "code",
   "execution_count": null,
   "metadata": {
    "scrolled": false
   },
   "outputs": [],
   "source": [
    "# WRITING ISA-JSON document\n",
    "print(json.dumps(investigation, cls=ISAJSONEncoder, sort_keys=True, indent=4, separators=(',', ': ')))"
   ]
  },
  {
   "cell_type": "code",
   "execution_count": null,
   "metadata": {
    "scrolled": true
   },
   "outputs": [],
   "source": [
    "from isatools import isatab\n",
    "isatab.dump(investigation, './')"
   ]
  },
  {
   "cell_type": "code",
   "execution_count": null,
   "metadata": {
    "scrolled": false
   },
   "outputs": [],
   "source": [
    "from isatools.isatab import dump_tables_to_dataframes as dumpdf\n",
    "dataframes = dumpdf(investigation)"
   ]
  },
  {
   "cell_type": "code",
   "execution_count": null,
   "metadata": {},
   "outputs": [],
   "source": [
    "dataframes.keys()"
   ]
  },
  {
   "cell_type": "code",
   "execution_count": null,
   "metadata": {},
   "outputs": [],
   "source": [
    "len(dataframes.keys())"
   ]
  },
  {
   "cell_type": "code",
   "execution_count": null,
   "metadata": {},
   "outputs": [],
   "source": [
    "dataframes[list(dataframes.keys())[1]]"
   ]
  },
  {
   "cell_type": "code",
   "execution_count": null,
   "metadata": {},
   "outputs": [],
   "source": [
    "[x for x in study.assays[1].graph.nodes() if isinstance(x, Sample)]"
   ]
  },
  {
   "cell_type": "code",
   "execution_count": null,
   "metadata": {},
   "outputs": [],
   "source": [
    "len([x for x in study.assays[0].graph.nodes() if isinstance(x, Sample)])"
   ]
  },
  {
   "cell_type": "code",
   "execution_count": null,
   "metadata": {},
   "outputs": [],
   "source": [
    "[getattr(x, 'name', None) for x in study.assays[1].graph.nodes()]"
   ]
  }
 ],
 "metadata": {
  "kernelspec": {
   "display_name": "Python (isapi-testson374)",
   "language": "python",
   "name": "isapi-testson374"
  },
  "language_info": {
   "codemirror_mode": {
    "name": "ipython",
    "version": 3
   },
   "file_extension": ".py",
   "mimetype": "text/x-python",
   "name": "python",
   "nbconvert_exporter": "python",
   "pygments_lexer": "ipython3",
   "version": "3.7.4"
  }
 },
 "nbformat": 4,
 "nbformat_minor": 2
}
